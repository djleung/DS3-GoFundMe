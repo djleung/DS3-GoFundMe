{
 "cells": [
  {
   "cell_type": "code",
   "execution_count": 1,
   "id": "comfortable-refrigerator",
   "metadata": {},
   "outputs": [],
   "source": [
    "import pandas as pd\n",
    "import numpy as np\n",
    "import seaborn as sns\n",
    "import matplotlib.pyplot as plt\n",
    "df = pd.read_csv('GFM_data.csv', sep = '\\t')"
   ]
  },
  {
   "cell_type": "code",
   "execution_count": 2,
   "id": "peripheral-evidence",
   "metadata": {},
   "outputs": [],
   "source": [
    "import tensorflow as tf\n",
    "import string\n",
    "import requests"
   ]
  },
  {
   "cell_type": "code",
   "execution_count": 3,
   "id": "common-consistency",
   "metadata": {},
   "outputs": [],
   "source": [
    "text = df.get('Text').to_numpy()"
   ]
  },
  {
   "cell_type": "code",
   "execution_count": 20,
   "id": "together-planning",
   "metadata": {},
   "outputs": [],
   "source": [
    "import string\n",
    "\"\"\"#redo\n",
    "def extract_entities(text):\n",
    "    names = []\n",
    "    for sent in nltk.sent_tokenize(text):\n",
    "        for chunk in nltk.ne_chunk(nltk.pos_tag(nltk.word_tokenize(sent))):\n",
    "            if hasattr(chunk, 'label'):\n",
    "                names.append(' '.join(c[0] for c in chunk.leaves()))\n",
    "    new_text = text\n",
    "    for name in names:\n",
    "        if name in text:\n",
    "            new_text = new_text.replace(name, 'NLP')\n",
    "    return new_text\n",
    "\n",
    "def clean_text(x):\n",
    "    ## removing names\n",
    "    x = extract_entities(x)\n",
    "    ## normalizing text by stripping white space and lower casing\n",
    "    x =  x.lower().strip()\n",
    "    ## removing urls\n",
    "    x = re.sub(r'(?i)\\b((?:https?://|www\\d{0,3}[.]|[a-z0-9.\\-]+[.][a-z]{2,4}/)(?:[^\\s()<>]+|\\(([^\\s()<>]+|(\\([^\\s()<>]+\\)))*\\))+(?:\\(([^\\s()<>]+|(\\([^\\s()<>]+\\)))*\\)|[^\\s`!()\\[\\]{};:\\'\".,<>?«»“”‘’]))', '', x)\n",
    "    ## removing phone numbers\n",
    "    x = re.sub('\\([0-9]{3}\\)\\s*[0-9]{3}-[0-9]{4}','',x)\n",
    "    ## strip all non alphanumeric things\n",
    "    x = re.sub('\\n',' ',x)\n",
    "    x = re.sub(\"[^a-zA-Z0-9 #]\",'',x)\n",
    "    x = re.sub(\"\\s+\",' ',x)\n",
    "    text = x.replace('\\n', ' ').lower()# lowercase text\n",
    "    text = REPLACE_IP_ADDRESS.sub('', text) # remove ip address\n",
    "    text = REPLACE_BY_SPACE_RE.sub(' ',text)# replace REPLACE_BY_SPACE_RE symbols by space in text\n",
    "    text = BAD_SYMBOLS_RE.sub('',text)# delete symbols which are in BAD_SYMBOLS_RE from text\n",
    "    text = ' '.join([w for w in text.split() if not w in STOPWORDS])# delete stopwords from text\n",
    "    \n",
    "    return text\n",
    "\"\"\"\n",
    "def clean_data(txt_elmt):\n",
    "    # txt_elmt is each element (each post) in the \"text\" array\n",
    "    tokens = txt_elmt.split() # each word\n",
    "    \n",
    "    # nothing changes. except removing punctuation\n",
    "    mytable = str.maketrans('', '', string.punctuation)\n",
    "    tokens = [word.translate(mytable) for word in tokens]\n",
    "    return [word.lower() for word in tokens if word.isalpha()]\n",
    "\n",
    "#for i in text:\n",
    "# try with text[0] first\n",
    "tokens = clean_data(text[0]) # list of tokens\n",
    "length = 51 # learn initial 50 words, predict the next word\n",
    "lines = [] # lst of all training sequences\n",
    "sufficiency = 200_000\n",
    "\"\"\"\n",
    "for i in range(len(tokens)):\n",
    "    sequence = tokens[i: i + length] # every 50-word\n",
    "    lines += [' '. join(sequence)]\n",
    "    if i > sufficiency:\n",
    "        break\n",
    "\"\"\"\n",
    "for i in range(length, len(tokens)):\n",
    "    seq = tokens[i-length:i]\n",
    "    line = ' '.join(seq)\n",
    "    lines.append(line)\n",
    "    if i > 200000:\n",
    "        break"
   ]
  },
  {
   "cell_type": "code",
   "execution_count": 5,
   "id": "noticed-specification",
   "metadata": {},
   "outputs": [],
   "source": [
    "from tensorflow.keras.preprocessing.text import Tokenizer\n",
    "from tensorflow.keras.utils import to_categorical\n",
    "from tensorflow.keras.models import Sequential\n",
    "from tensorflow.keras.layers import Dense, LSTM, Embedding\n",
    "from tensorflow.keras.preprocessing.sequence import pad_sequences\n",
    "from tensorflow.keras.callbacks import LambdaCallback"
   ]
  },
  {
   "cell_type": "code",
   "execution_count": 6,
   "id": "charitable-quarterly",
   "metadata": {},
   "outputs": [],
   "source": [
    "tokenizer = Tokenizer(oov_token=\"<OOV>\") # OOV adds new words outside the trained words\n",
    "tokenizer.fit_on_texts(lines)\n",
    "sequences = tokenizer.texts_to_sequences(lines) # all words become numbers"
   ]
  },
  {
   "cell_type": "code",
   "execution_count": 7,
   "id": "persistent-macro",
   "metadata": {},
   "outputs": [],
   "source": [
    "\"\"\"\n",
    "X = []\n",
    "y = []\n",
    "maxlen=50\n",
    "for i in range(len(sequences)):\n",
    "    X.append(sequences[i][:-1])\n",
    "    y.append(sequences[-1])\n",
    "\"\"\"\n",
    "sequences = np.array(sequences)\n",
    "X, y = sequences[:, :-1], sequences[:,-1]"
   ]
  },
  {
   "cell_type": "code",
   "execution_count": 8,
   "id": "coupled-phone",
   "metadata": {},
   "outputs": [
    {
     "data": {
      "text/plain": [
       "array([[0., 0., 0., ..., 0., 0., 0.],\n",
       "       [0., 0., 0., ..., 0., 0., 0.],\n",
       "       [0., 0., 0., ..., 0., 0., 0.],\n",
       "       ...,\n",
       "       [0., 0., 0., ..., 0., 0., 0.],\n",
       "       [0., 0., 0., ..., 1., 0., 0.],\n",
       "       [0., 0., 0., ..., 0., 0., 1.]], dtype=float32)"
      ]
     },
     "execution_count": 8,
     "metadata": {},
     "output_type": "execute_result"
    }
   ],
   "source": [
    "# one-hot encoding\n",
    "vocab_size = len(tokenizer.word_index) + 1\n",
    "y = to_categorical(y, num_classes=vocab_size)\n",
    "y"
   ]
  },
  {
   "cell_type": "code",
   "execution_count": 9,
   "id": "single-hardware",
   "metadata": {},
   "outputs": [
    {
     "data": {
      "text/plain": [
       "121"
      ]
     },
     "execution_count": 9,
     "metadata": {},
     "output_type": "execute_result"
    }
   ],
   "source": [
    "y[0].size"
   ]
  },
  {
   "cell_type": "code",
   "execution_count": 10,
   "id": "monthly-philippines",
   "metadata": {},
   "outputs": [],
   "source": [
    "sequence_length = len(X[0])\n",
    " \n",
    "# LSTM model\n",
    "model = Sequential()\n",
    "model.add(Embedding(vocab_size, 50, input_length = sequence_length)) # input dim - vocabsize, output dim = 50\n",
    "# 100 hidden layers\n",
    "model.add(LSTM(100, return_sequences=True)) # do twice, return_sequences=True\n",
    "model.add(LSTM(100)) \n",
    "model.add(Dense(100, activation='relu'))\n",
    "model.add(Dense(vocab_size, activation='softmax'))"
   ]
  },
  {
   "cell_type": "code",
   "execution_count": 11,
   "id": "imperial-costa",
   "metadata": {},
   "outputs": [
    {
     "name": "stdout",
     "output_type": "stream",
     "text": [
      "Model: \"sequential\"\n",
      "_________________________________________________________________\n",
      "Layer (type)                 Output Shape              Param #   \n",
      "=================================================================\n",
      "embedding (Embedding)        (None, 50, 50)            6050      \n",
      "_________________________________________________________________\n",
      "lstm (LSTM)                  (None, 50, 100)           60400     \n",
      "_________________________________________________________________\n",
      "lstm_1 (LSTM)                (None, 100)               80400     \n",
      "_________________________________________________________________\n",
      "dense (Dense)                (None, 100)               10100     \n",
      "_________________________________________________________________\n",
      "dense_1 (Dense)              (None, 121)               12221     \n",
      "=================================================================\n",
      "Total params: 169,171\n",
      "Trainable params: 169,171\n",
      "Non-trainable params: 0\n",
      "_________________________________________________________________\n"
     ]
    }
   ],
   "source": [
    "model.summary()"
   ]
  },
  {
   "cell_type": "code",
   "execution_count": 12,
   "id": "elect-bhutan",
   "metadata": {},
   "outputs": [],
   "source": [
    "model.compile(loss='categorical_crossentropy', optimizer='adam', metrics=['accuracy'])"
   ]
  },
  {
   "cell_type": "code",
   "execution_count": 13,
   "id": "placed-equity",
   "metadata": {},
   "outputs": [
    {
     "name": "stdout",
     "output_type": "stream",
     "text": [
      "Epoch 1/100\n",
      "1/1 [==============================] - 3s 3s/step - loss: 4.7956 - accuracy: 0.0088\n",
      "Epoch 2/100\n",
      "1/1 [==============================] - 0s 107ms/step - loss: 4.7937 - accuracy: 0.0175\n",
      "Epoch 3/100\n",
      "1/1 [==============================] - 0s 94ms/step - loss: 4.7916 - accuracy: 0.0175\n",
      "Epoch 4/100\n",
      "1/1 [==============================] - 0s 96ms/step - loss: 4.7890 - accuracy: 0.0175\n",
      "Epoch 5/100\n",
      "1/1 [==============================] - 0s 98ms/step - loss: 4.7857 - accuracy: 0.0263\n",
      "Epoch 6/100\n",
      "1/1 [==============================] - 0s 97ms/step - loss: 4.7813 - accuracy: 0.0526\n",
      "Epoch 7/100\n",
      "1/1 [==============================] - 0s 100ms/step - loss: 4.7754 - accuracy: 0.0614\n",
      "Epoch 8/100\n",
      "1/1 [==============================] - 0s 97ms/step - loss: 4.7673 - accuracy: 0.0614\n",
      "Epoch 9/100\n",
      "1/1 [==============================] - 0s 98ms/step - loss: 4.7553 - accuracy: 0.0614\n",
      "Epoch 10/100\n",
      "1/1 [==============================] - 0s 98ms/step - loss: 4.7368 - accuracy: 0.0614\n",
      "Epoch 11/100\n",
      "1/1 [==============================] - 0s 96ms/step - loss: 4.7079 - accuracy: 0.0526\n",
      "Epoch 12/100\n",
      "1/1 [==============================] - 0s 100ms/step - loss: 4.6654 - accuracy: 0.0526\n",
      "Epoch 13/100\n",
      "1/1 [==============================] - 0s 101ms/step - loss: 4.6189 - accuracy: 0.0351\n",
      "Epoch 14/100\n",
      "1/1 [==============================] - 0s 98ms/step - loss: 4.5922 - accuracy: 0.0175\n",
      "Epoch 15/100\n",
      "1/1 [==============================] - 0s 100ms/step - loss: 4.5747 - accuracy: 0.0526\n",
      "Epoch 16/100\n",
      "1/1 [==============================] - 0s 100ms/step - loss: 4.5454 - accuracy: 0.0965\n",
      "Epoch 17/100\n",
      "1/1 [==============================] - 0s 98ms/step - loss: 4.5045 - accuracy: 0.0965\n",
      "Epoch 18/100\n",
      "1/1 [==============================] - 0s 101ms/step - loss: 4.4560 - accuracy: 0.0965\n",
      "Epoch 19/100\n",
      "1/1 [==============================] - 0s 125ms/step - loss: 4.4073 - accuracy: 0.0965\n",
      "Epoch 20/100\n",
      "1/1 [==============================] - 1s 725ms/step - loss: 4.3532 - accuracy: 0.0877\n",
      "Epoch 21/100\n",
      "1/1 [==============================] - 1s 769ms/step - loss: 4.3032 - accuracy: 0.0877\n",
      "Epoch 22/100\n",
      "1/1 [==============================] - 1s 748ms/step - loss: 4.2706 - accuracy: 0.0877\n",
      "Epoch 23/100\n",
      "1/1 [==============================] - 1s 734ms/step - loss: 4.2304 - accuracy: 0.0877\n",
      "Epoch 24/100\n",
      "1/1 [==============================] - 0s 285ms/step - loss: 4.1702 - accuracy: 0.0965\n",
      "Epoch 25/100\n",
      "1/1 [==============================] - 0s 145ms/step - loss: 4.1030 - accuracy: 0.0965\n",
      "Epoch 26/100\n",
      "1/1 [==============================] - 0s 152ms/step - loss: 4.0566 - accuracy: 0.0877\n",
      "Epoch 27/100\n",
      "1/1 [==============================] - 0s 154ms/step - loss: 4.0103 - accuracy: 0.0965\n",
      "Epoch 28/100\n",
      "1/1 [==============================] - 0s 152ms/step - loss: 3.9506 - accuracy: 0.1053\n",
      "Epoch 29/100\n",
      "1/1 [==============================] - 0s 152ms/step - loss: 3.8933 - accuracy: 0.1053\n",
      "Epoch 30/100\n",
      "1/1 [==============================] - 0s 154ms/step - loss: 3.8429 - accuracy: 0.1140\n",
      "Epoch 31/100\n",
      "1/1 [==============================] - 0s 152ms/step - loss: 3.7998 - accuracy: 0.1053\n",
      "Epoch 32/100\n",
      "1/1 [==============================] - 0s 152ms/step - loss: 3.7660 - accuracy: 0.0965\n",
      "Epoch 33/100\n",
      "1/1 [==============================] - 0s 153ms/step - loss: 3.6896 - accuracy: 0.1140\n",
      "Epoch 34/100\n",
      "1/1 [==============================] - 0s 156ms/step - loss: 3.6578 - accuracy: 0.1140\n",
      "Epoch 35/100\n",
      "1/1 [==============================] - 0s 151ms/step - loss: 3.5955 - accuracy: 0.1053\n",
      "Epoch 36/100\n",
      "1/1 [==============================] - 0s 152ms/step - loss: 3.5452 - accuracy: 0.1053\n",
      "Epoch 37/100\n",
      "1/1 [==============================] - 0s 153ms/step - loss: 3.4998 - accuracy: 0.1140\n",
      "Epoch 38/100\n",
      "1/1 [==============================] - 0s 153ms/step - loss: 3.4463 - accuracy: 0.1053\n",
      "Epoch 39/100\n",
      "1/1 [==============================] - 0s 152ms/step - loss: 3.4048 - accuracy: 0.1140\n",
      "Epoch 40/100\n",
      "1/1 [==============================] - 0s 152ms/step - loss: 3.3536 - accuracy: 0.1053\n",
      "Epoch 41/100\n",
      "1/1 [==============================] - 0s 154ms/step - loss: 3.3322 - accuracy: 0.1228\n",
      "Epoch 42/100\n",
      "1/1 [==============================] - 0s 153ms/step - loss: 3.2559 - accuracy: 0.1316\n",
      "Epoch 43/100\n",
      "1/1 [==============================] - 0s 155ms/step - loss: 3.2663 - accuracy: 0.1140\n",
      "Epoch 44/100\n",
      "1/1 [==============================] - 0s 153ms/step - loss: 3.1843 - accuracy: 0.1228\n",
      "Epoch 45/100\n",
      "1/1 [==============================] - 0s 155ms/step - loss: 3.1835 - accuracy: 0.1404\n",
      "Epoch 46/100\n",
      "1/1 [==============================] - 0s 153ms/step - loss: 3.0886 - accuracy: 0.1316\n",
      "Epoch 47/100\n",
      "1/1 [==============================] - 0s 176ms/step - loss: 3.1020 - accuracy: 0.1316\n",
      "Epoch 48/100\n",
      "1/1 [==============================] - 0s 152ms/step - loss: 3.0201 - accuracy: 0.1491\n",
      "Epoch 49/100\n",
      "1/1 [==============================] - 0s 156ms/step - loss: 2.9973 - accuracy: 0.1579\n",
      "Epoch 50/100\n",
      "1/1 [==============================] - 0s 154ms/step - loss: 2.9460 - accuracy: 0.1491\n",
      "Epoch 51/100\n",
      "1/1 [==============================] - 0s 155ms/step - loss: 2.9084 - accuracy: 0.1404\n",
      "Epoch 52/100\n",
      "1/1 [==============================] - 0s 154ms/step - loss: 2.8749 - accuracy: 0.1579\n",
      "Epoch 53/100\n",
      "1/1 [==============================] - 0s 151ms/step - loss: 2.8467 - accuracy: 0.1930\n",
      "Epoch 54/100\n",
      "1/1 [==============================] - 0s 160ms/step - loss: 2.8058 - accuracy: 0.1842\n",
      "Epoch 55/100\n",
      "1/1 [==============================] - 0s 153ms/step - loss: 2.7631 - accuracy: 0.1754\n",
      "Epoch 56/100\n",
      "1/1 [==============================] - 0s 158ms/step - loss: 2.7393 - accuracy: 0.1842\n",
      "Epoch 57/100\n",
      "1/1 [==============================] - 0s 153ms/step - loss: 2.7026 - accuracy: 0.1842\n",
      "Epoch 58/100\n",
      "1/1 [==============================] - 0s 152ms/step - loss: 2.6636 - accuracy: 0.2018\n",
      "Epoch 59/100\n",
      "1/1 [==============================] - 0s 153ms/step - loss: 2.6526 - accuracy: 0.1579\n",
      "Epoch 60/100\n",
      "1/1 [==============================] - 0s 149ms/step - loss: 2.5998 - accuracy: 0.2105\n",
      "Epoch 61/100\n",
      "1/1 [==============================] - 0s 150ms/step - loss: 2.5662 - accuracy: 0.2105\n",
      "Epoch 62/100\n",
      "1/1 [==============================] - 0s 153ms/step - loss: 2.5452 - accuracy: 0.1842\n",
      "Epoch 63/100\n",
      "1/1 [==============================] - 0s 170ms/step - loss: 2.5271 - accuracy: 0.2018\n",
      "Epoch 64/100\n",
      "1/1 [==============================] - 0s 186ms/step - loss: 2.4901 - accuracy: 0.2018\n",
      "Epoch 65/100\n",
      "1/1 [==============================] - 0s 181ms/step - loss: 2.4728 - accuracy: 0.2018\n",
      "Epoch 66/100\n",
      "1/1 [==============================] - 0s 175ms/step - loss: 2.4292 - accuracy: 0.2368\n",
      "Epoch 67/100\n",
      "1/1 [==============================] - 0s 171ms/step - loss: 2.4257 - accuracy: 0.2018\n",
      "Epoch 68/100\n",
      "1/1 [==============================] - 0s 185ms/step - loss: 2.4083 - accuracy: 0.1930\n",
      "Epoch 69/100\n",
      "1/1 [==============================] - 0s 189ms/step - loss: 2.3541 - accuracy: 0.2281\n",
      "Epoch 70/100\n",
      "1/1 [==============================] - 0s 181ms/step - loss: 2.3279 - accuracy: 0.2105\n",
      "Epoch 71/100\n",
      "1/1 [==============================] - 0s 187ms/step - loss: 2.3197 - accuracy: 0.2456\n",
      "Epoch 72/100\n",
      "1/1 [==============================] - 0s 185ms/step - loss: 2.2852 - accuracy: 0.2632\n",
      "Epoch 73/100\n",
      "1/1 [==============================] - 0s 146ms/step - loss: 2.2564 - accuracy: 0.2281\n",
      "Epoch 74/100\n",
      "1/1 [==============================] - 0s 140ms/step - loss: 2.2667 - accuracy: 0.2807\n",
      "Epoch 75/100\n",
      "1/1 [==============================] - 0s 146ms/step - loss: 2.3537 - accuracy: 0.1754\n",
      "Epoch 76/100\n",
      "1/1 [==============================] - 0s 137ms/step - loss: 2.2402 - accuracy: 0.2719\n",
      "Epoch 77/100\n",
      "1/1 [==============================] - 0s 139ms/step - loss: 2.1963 - accuracy: 0.3158\n",
      "Epoch 78/100\n",
      "1/1 [==============================] - 0s 135ms/step - loss: 2.2383 - accuracy: 0.2368\n",
      "Epoch 79/100\n",
      "1/1 [==============================] - 0s 172ms/step - loss: 2.1897 - accuracy: 0.2895\n",
      "Epoch 80/100\n",
      "1/1 [==============================] - 0s 147ms/step - loss: 2.1365 - accuracy: 0.3596\n",
      "Epoch 81/100\n",
      "1/1 [==============================] - 0s 142ms/step - loss: 2.1641 - accuracy: 0.2368\n",
      "Epoch 82/100\n",
      "1/1 [==============================] - 0s 141ms/step - loss: 2.0898 - accuracy: 0.2982\n",
      "Epoch 83/100\n"
     ]
    },
    {
     "name": "stdout",
     "output_type": "stream",
     "text": [
      "1/1 [==============================] - 0s 147ms/step - loss: 2.1064 - accuracy: 0.2719\n",
      "Epoch 84/100\n",
      "1/1 [==============================] - 0s 168ms/step - loss: 2.0550 - accuracy: 0.3509\n",
      "Epoch 85/100\n",
      "1/1 [==============================] - 0s 147ms/step - loss: 2.0424 - accuracy: 0.3596\n",
      "Epoch 86/100\n",
      "1/1 [==============================] - 0s 133ms/step - loss: 2.0349 - accuracy: 0.3509\n",
      "Epoch 87/100\n",
      "1/1 [==============================] - 0s 131ms/step - loss: 2.0717 - accuracy: 0.3421\n",
      "Epoch 88/100\n",
      "1/1 [==============================] - 0s 127ms/step - loss: 2.0604 - accuracy: 0.2544\n",
      "Epoch 89/100\n",
      "1/1 [==============================] - 0s 143ms/step - loss: 1.9759 - accuracy: 0.3684\n",
      "Epoch 90/100\n",
      "1/1 [==============================] - 0s 149ms/step - loss: 1.9905 - accuracy: 0.3421\n",
      "Epoch 91/100\n",
      "1/1 [==============================] - 0s 145ms/step - loss: 1.9907 - accuracy: 0.3772\n",
      "Epoch 92/100\n",
      "1/1 [==============================] - 0s 131ms/step - loss: 1.9461 - accuracy: 0.3596\n",
      "Epoch 93/100\n",
      "1/1 [==============================] - 0s 136ms/step - loss: 1.9293 - accuracy: 0.3947\n",
      "Epoch 94/100\n",
      "1/1 [==============================] - 0s 151ms/step - loss: 1.9884 - accuracy: 0.3070\n",
      "Epoch 95/100\n",
      "1/1 [==============================] - 0s 150ms/step - loss: 1.9163 - accuracy: 0.3947\n",
      "Epoch 96/100\n",
      "1/1 [==============================] - 0s 151ms/step - loss: 1.9172 - accuracy: 0.3772\n",
      "Epoch 97/100\n",
      "1/1 [==============================] - 0s 148ms/step - loss: 1.9252 - accuracy: 0.3596\n",
      "Epoch 98/100\n",
      "1/1 [==============================] - 0s 152ms/step - loss: 1.8928 - accuracy: 0.3860\n",
      "Epoch 99/100\n",
      "1/1 [==============================] - 0s 136ms/step - loss: 1.8521 - accuracy: 0.3947\n",
      "Epoch 100/100\n",
      "1/1 [==============================] - 0s 122ms/step - loss: 1.8640 - accuracy: 0.4035\n"
     ]
    },
    {
     "data": {
      "text/plain": [
       "<tensorflow.python.keras.callbacks.History at 0x2c94a1a9790>"
      ]
     },
     "execution_count": 13,
     "metadata": {},
     "output_type": "execute_result"
    }
   ],
   "source": [
    "model.fit(X, y, batch_size=256, epochs=100)"
   ]
  },
  {
   "cell_type": "code",
   "execution_count": 17,
   "id": "earned-encoding",
   "metadata": {},
   "outputs": [
    {
     "data": {
      "text/plain": [
       "'six children some of whom witnessed this horrific act of violence anyone wishing to send cards letters of encouragement andor contributions in the form of a money order or check may do so by mail at julia y jackson co ben crump law pllc s calhoun street tallahassee fl attn adner'"
      ]
     },
     "execution_count": 17,
     "metadata": {},
     "output_type": "execute_result"
    }
   ],
   "source": [
    "seed_text=lines[len(lines) - 1]\n",
    "seq_length = X.shape[1]\n",
    "seed_text"
   ]
  },
  {
   "cell_type": "code",
   "execution_count": 18,
   "id": "hungry-vietnam",
   "metadata": {},
   "outputs": [],
   "source": [
    "def generate_text_seq(model, tokenizer, text_seq_length, seed_text, n_words):\n",
    "    text = []\n",
    "\n",
    "    for _ in range(n_words):\n",
    "        encoded = tokenizer.texts_to_sequences([seed_text])[0]\n",
    "        encoded = pad_sequences([encoded], maxlen = text_seq_length, truncating='pre')\n",
    "\n",
    "    y_predict = model.predict_classes(encoded)\n",
    "\n",
    "    predicted_word = ''\n",
    "    for word, index in tokenizer.word_index.items():\n",
    "        if index == y_predict:\n",
    "            predicted_word = word\n",
    "            break\n",
    "    seed_text = seed_text + ' ' + predicted_word\n",
    "    text.append(predicted_word)\n",
    "    return ' '.join(text)"
   ]
  },
  {
   "cell_type": "code",
   "execution_count": 19,
   "id": "honest-advertiser",
   "metadata": {},
   "outputs": [
    {
     "data": {
      "text/plain": [
       "'adner'"
      ]
     },
     "execution_count": 19,
     "metadata": {},
     "output_type": "execute_result"
    }
   ],
   "source": [
    "generate_text_seq(model, tokenizer, seq_length, seed_text, 100)"
   ]
  },
  {
   "cell_type": "markdown",
   "id": "younger-customer",
   "metadata": {},
   "source": [
    "https://kgptalkie.com/text-generation-using-tensorflow-keras-and-lstm/\n",
    "\n",
    "https://www.youtube.com/watch?v=VAMKuRAh2nc&t=1607s&ab_channel=KGPTalkie"
   ]
  },
  {
   "cell_type": "code",
   "execution_count": null,
   "id": "electrical-independence",
   "metadata": {},
   "outputs": [],
   "source": []
  }
 ],
 "metadata": {
  "kernelspec": {
   "display_name": "Python 3",
   "language": "python",
   "name": "python3"
  },
  "language_info": {
   "codemirror_mode": {
    "name": "ipython",
    "version": 3
   },
   "file_extension": ".py",
   "mimetype": "text/x-python",
   "name": "python",
   "nbconvert_exporter": "python",
   "pygments_lexer": "ipython3",
   "version": "3.8.5"
  }
 },
 "nbformat": 4,
 "nbformat_minor": 5
}
