{
 "cells": [
  {
   "cell_type": "code",
   "execution_count": 1,
   "id": "alien-volleyball",
   "metadata": {},
   "outputs": [],
   "source": [
    "import pandas as pd\n",
    "import numpy as np\n",
    "df = pd.read_csv('GFM_data.csv', sep = '\\t')"
   ]
  },
  {
   "cell_type": "code",
   "execution_count": 2,
   "id": "closing-despite",
   "metadata": {},
   "outputs": [],
   "source": [
    "import tensorflow as tf # build model\n",
    "import string # get set of punctuations\n",
    "import requests # get data file in notebook"
   ]
  },
  {
   "cell_type": "code",
   "execution_count": 3,
   "id": "settled-mortgage",
   "metadata": {},
   "outputs": [],
   "source": [
    "#!pip install nltk\n",
    "import nltk\n",
    "import re\n",
    "from nltk.corpus import stopwords\n",
    "from nltk.stem.porter import PorterStemmer\n",
    "#nltk.download('punkt')\n",
    "#nltk.download('averaged_perceptron_tagger')\n",
    "#nltk.download('maxent_ne_chunker')\n",
    "#nltk.download('words')\n",
    "#nltk.download('wordnet')\n",
    "#nltk.download('stopwords')\n",
    "from nltk.corpus import wordnet\n",
    "\n",
    "REPLACE_BY_SPACE_RE = re.compile('[/(){}\\[\\]\\|@,;]')\n",
    "BAD_SYMBOLS_RE = re.compile('[^0-9a-z #+_]')\n",
    "STOPWORDS = set(stopwords.words('english'))\n",
    "REPLACE_IP_ADDRESS = re.compile(r'\\b(?:[0-9]{1,3}\\.){3}[0-9]{1,3}\\b')\n",
    "def extract_entities(text):\n",
    "    names = []\n",
    "    for sent in nltk.sent_tokenize(text):\n",
    "        for chunk in nltk.ne_chunk(nltk.pos_tag(nltk.word_tokenize(sent))):\n",
    "            if hasattr(chunk, 'label'):\n",
    "                names.append(' '.join(c[0] for c in chunk.leaves()))\n",
    "    new_text = text\n",
    "    for name in names:\n",
    "        if name in text:\n",
    "            new_text = new_text.replace(name, 'NLP')\n",
    "    return new_text\n",
    "\n",
    "def clean_text(x):\n",
    "    ## removing names\n",
    "    x = extract_entities(x)\n",
    "    ## normalizing text by stripping white space and lower casing\n",
    "    x =  x.lower().strip()\n",
    "    ## removing urls\n",
    "    x = re.sub(r'(?i)\\b((?:https?://|www\\d{0,3}[.]|[a-z0-9.\\-]+[.][a-z]{2,4}/)(?:[^\\s()<>]+|\\(([^\\s()<>]+|(\\([^\\s()<>]+\\)))*\\))+(?:\\(([^\\s()<>]+|(\\([^\\s()<>]+\\)))*\\)|[^\\s`!()\\[\\]{};:\\'\".,<>?«»“”‘’]))', '', x)\n",
    "    ## removing phone numbers\n",
    "    x = re.sub('\\([0-9]{3}\\)\\s*[0-9]{3}-[0-9]{4}','',x)\n",
    "    ## strip all non alphanumeric things\n",
    "    x = re.sub('\\n',' ',x)\n",
    "    x = re.sub(\"[^a-zA-Z0-9 #]\",'',x)\n",
    "    x = re.sub(\"\\s+\",' ',x)\n",
    "    text = x.replace('\\n', ' ').lower()# lowercase text\n",
    "    text = REPLACE_IP_ADDRESS.sub('', text) # remove ip address\n",
    "    text = REPLACE_BY_SPACE_RE.sub(' ',text)# replace REPLACE_BY_SPACE_RE symbols by space in text\n",
    "    text = BAD_SYMBOLS_RE.sub('',text)# delete symbols which are in BAD_SYMBOLS_RE from text\n",
    "    # originally:\n",
    "    # text = ' '.join([w for w in text.split() if not w in STOPWORDS])# delete stopwords from text\n",
    "    text = [w for w in text.split() if not w in STOPWORDS]# delete stopwords from text   \n",
    "    return text"
   ]
  },
  {
   "cell_type": "code",
   "execution_count": 4,
   "id": "passing-auction",
   "metadata": {},
   "outputs": [
    {
     "name": "stderr",
     "output_type": "stream",
     "text": [
      "<ipython-input-4-fc72f8768162>:2: SettingWithCopyWarning: \n",
      "A value is trying to be set on a copy of a slice from a DataFrame.\n",
      "Try using .loc[row_indexer,col_indexer] = value instead\n",
      "\n",
      "See the caveats in the documentation: https://pandas.pydata.org/pandas-docs/stable/user_guide/indexing.html#returning-a-view-versus-a-copy\n",
      "  no_nan['Text'] = no_nan['Text'].apply(clean_text)\n"
     ]
    }
   ],
   "source": [
    "no_nan = df.dropna()\n",
    "no_nan['Text'] = no_nan['Text'].apply(clean_text)\n",
    "text = no_nan.get('Text').to_numpy()"
   ]
  },
  {
   "cell_type": "code",
   "execution_count": 24,
   "id": "theoretical-mercury",
   "metadata": {},
   "outputs": [],
   "source": [
    "#text # check what's inside"
   ]
  },
  {
   "cell_type": "code",
   "execution_count": 6,
   "id": "scientific-camping",
   "metadata": {},
   "outputs": [
    {
     "data": {
      "text/plain": [
       "144109"
      ]
     },
     "execution_count": 6,
     "metadata": {},
     "output_type": "execute_result"
    }
   ],
   "source": [
    "tokens = [] # combine words\n",
    "for lst in text:\n",
    "    tokens += lst\n",
    "len(tokens)"
   ]
  },
  {
   "cell_type": "code",
   "execution_count": 7,
   "id": "square-experiment",
   "metadata": {},
   "outputs": [],
   "source": [
    "#text = ' '.join(text) # join all array element\n",
    "#new_text = clean_text(text)\n",
    "#new_text\n",
    "length = 51 # learn initial 50 words, predict the next word\n",
    "lines = [] # lst of all training sequences\n",
    "tokens = text[0]\n",
    "sufficiency = 200_000\n",
    "for i in range(length, len(tokens)):\n",
    "    seq = tokens[i-length:i]\n",
    "    line = ' '.join(seq)\n",
    "    lines.append(line)\n",
    "    if i > sufficiency:\n",
    "        break"
   ]
  },
  {
   "cell_type": "code",
   "execution_count": 8,
   "id": "unnecessary-pavilion",
   "metadata": {},
   "outputs": [],
   "source": [
    "from tensorflow.keras.preprocessing.text import Tokenizer\n",
    "from tensorflow.keras.utils import to_categorical\n",
    "from tensorflow.keras.models import Sequential\n",
    "from tensorflow.keras.layers import Dense, LSTM, Embedding\n",
    "from tensorflow.keras.preprocessing.sequence import pad_sequences\n",
    "from tensorflow.keras.callbacks import LambdaCallback"
   ]
  },
  {
   "cell_type": "code",
   "execution_count": 9,
   "id": "scientific-assumption",
   "metadata": {},
   "outputs": [],
   "source": [
    "tokenizer = Tokenizer(oov_token=\"<OOV>\") # OOV adds new words outside the trained words\n",
    "tokenizer.fit_on_texts(lines)\n",
    "sequences = tokenizer.texts_to_sequences(lines) # all words become numbers"
   ]
  },
  {
   "cell_type": "code",
   "execution_count": 10,
   "id": "reflected-bracket",
   "metadata": {},
   "outputs": [],
   "source": [
    "sequences = np.array(sequences)\n",
    "X, y = sequences[:, :-1], sequences[:,-1] # 50 first words in X, the last word in y"
   ]
  },
  {
   "cell_type": "code",
   "execution_count": 11,
   "id": "advance-canal",
   "metadata": {},
   "outputs": [],
   "source": [
    "# one-hot encoding\n",
    "vocab_size = len(tokenizer.word_index) + 1\n",
    "y = to_categorical(y, num_classes=vocab_size)"
   ]
  },
  {
   "cell_type": "code",
   "execution_count": 12,
   "id": "broadband-motor",
   "metadata": {},
   "outputs": [],
   "source": [
    "sequence_length = len(X[0]) # Length of each list in X is 50 (might also use X.shape[1])\n",
    " \n",
    "# LSTM model\n",
    "model = Sequential()\n",
    "model.add(Embedding(vocab_size, 50, input_length = sequence_length)) # input dim - vocabsize, output dim = 50\n",
    "# 100 hidden layers\n",
    "model.add(LSTM(100, return_sequences=True)) # do twice, return_sequences=True\n",
    "model.add(LSTM(100)) \n",
    "model.add(Dense(100, activation='relu'))\n",
    "model.add(Dense(vocab_size, activation='softmax'))"
   ]
  },
  {
   "cell_type": "code",
   "execution_count": 13,
   "id": "heated-blond",
   "metadata": {},
   "outputs": [
    {
     "name": "stdout",
     "output_type": "stream",
     "text": [
      "Model: \"sequential\"\n",
      "_________________________________________________________________\n",
      "Layer (type)                 Output Shape              Param #   \n",
      "=================================================================\n",
      "embedding (Embedding)        (None, 50, 50)            4100      \n",
      "_________________________________________________________________\n",
      "lstm (LSTM)                  (None, 50, 100)           60400     \n",
      "_________________________________________________________________\n",
      "lstm_1 (LSTM)                (None, 100)               80400     \n",
      "_________________________________________________________________\n",
      "dense (Dense)                (None, 100)               10100     \n",
      "_________________________________________________________________\n",
      "dense_1 (Dense)              (None, 82)                8282      \n",
      "=================================================================\n",
      "Total params: 163,282\n",
      "Trainable params: 163,282\n",
      "Non-trainable params: 0\n",
      "_________________________________________________________________\n"
     ]
    }
   ],
   "source": [
    "model.summary()"
   ]
  },
  {
   "cell_type": "code",
   "execution_count": 14,
   "id": "funky-documentation",
   "metadata": {},
   "outputs": [],
   "source": [
    "def generate_text_seq(model, tokenizer, text_seq_length, seed_text, n_words):\n",
    "    text = []\n",
    "    \n",
    "    for _ in range(n_words):\n",
    "        encoded = tokenizer.texts_to_sequences([seed_text])[0]\n",
    "        encoded = pad_sequences([encoded], maxlen = text_seq_length, truncating='pre')\n",
    "\n",
    "        y_predict = model.predict_classes(encoded)\n",
    "\n",
    "        predicted_word = ''\n",
    "        for word, index in tokenizer.word_index.items():\n",
    "            if index == y_predict:\n",
    "                predicted_word = word\n",
    "                break\n",
    "        seed_text = seed_text + ' ' + predicted_word\n",
    "        text.append(predicted_word)\n",
    "    return ' '.join(text)"
   ]
  },
  {
   "cell_type": "code",
   "execution_count": 26,
   "id": "known-marsh",
   "metadata": {},
   "outputs": [],
   "source": [
    "alltext = df['Text'].str.cat(sep='. ').lower()\n",
    "#alltext"
   ]
  },
  {
   "cell_type": "code",
   "execution_count": 17,
   "id": "conventional-buddy",
   "metadata": {},
   "outputs": [],
   "source": [
    "model.compile(loss='categorical_crossentropy', optimizer='adam', metrics=['accuracy'])"
   ]
  },
  {
   "cell_type": "code",
   "execution_count": 20,
   "id": "bulgarian-blake",
   "metadata": {},
   "outputs": [
    {
     "name": "stdout",
     "output_type": "stream",
     "text": [
      "Epoch 1/100\n",
      "1/1 [==============================] - 0s 74ms/step - loss: 1.5574 - accuracy: 0.5610\n",
      "Epoch 2/100\n",
      "1/1 [==============================] - 0s 62ms/step - loss: 1.5322 - accuracy: 0.6098\n",
      "Epoch 3/100\n",
      "1/1 [==============================] - 0s 56ms/step - loss: 1.5373 - accuracy: 0.6585\n",
      "Epoch 4/100\n",
      "1/1 [==============================] - 0s 57ms/step - loss: 1.5172 - accuracy: 0.6098\n",
      "Epoch 5/100\n",
      "1/1 [==============================] - 0s 67ms/step - loss: 1.4922 - accuracy: 0.6341\n",
      "Epoch 6/100\n",
      "1/1 [==============================] - 0s 62ms/step - loss: 1.4543 - accuracy: 0.8049\n",
      "Epoch 7/100\n",
      "1/1 [==============================] - 0s 62ms/step - loss: 1.4401 - accuracy: 0.8049\n",
      "Epoch 8/100\n",
      "1/1 [==============================] - 0s 59ms/step - loss: 1.4202 - accuracy: 0.8049\n",
      "Epoch 9/100\n",
      "1/1 [==============================] - 0s 57ms/step - loss: 1.4250 - accuracy: 0.6829\n",
      "Epoch 10/100\n",
      "1/1 [==============================] - 0s 61ms/step - loss: 1.4313 - accuracy: 0.6341\n",
      "Epoch 11/100\n",
      "1/1 [==============================] - 0s 58ms/step - loss: 1.4545 - accuracy: 0.4390\n",
      "Epoch 12/100\n",
      "1/1 [==============================] - 0s 60ms/step - loss: 1.3794 - accuracy: 0.7561\n",
      "Epoch 13/100\n",
      "1/1 [==============================] - 0s 58ms/step - loss: 1.3409 - accuracy: 0.8293\n",
      "Epoch 14/100\n",
      "1/1 [==============================] - 0s 61ms/step - loss: 1.3363 - accuracy: 0.7073\n",
      "Epoch 15/100\n",
      "1/1 [==============================] - 0s 57ms/step - loss: 1.3583 - accuracy: 0.7073\n",
      "Epoch 16/100\n",
      "1/1 [==============================] - 0s 63ms/step - loss: 1.3396 - accuracy: 0.6098\n",
      "Epoch 17/100\n",
      "1/1 [==============================] - 0s 62ms/step - loss: 1.2865 - accuracy: 0.8049\n",
      "Epoch 18/100\n",
      "1/1 [==============================] - 0s 58ms/step - loss: 1.2618 - accuracy: 0.9024\n",
      "Epoch 19/100\n",
      "1/1 [==============================] - 0s 61ms/step - loss: 1.2696 - accuracy: 0.7805\n",
      "Epoch 20/100\n",
      "1/1 [==============================] - 0s 60ms/step - loss: 1.2641 - accuracy: 0.8049\n",
      "Epoch 21/100\n",
      "1/1 [==============================] - 0s 59ms/step - loss: 1.2465 - accuracy: 0.8049\n",
      "Epoch 22/100\n",
      "1/1 [==============================] - 0s 62ms/step - loss: 1.2099 - accuracy: 0.9268\n",
      "Epoch 23/100\n",
      "1/1 [==============================] - 0s 68ms/step - loss: 1.1920 - accuracy: 0.9268\n",
      "Epoch 24/100\n",
      "1/1 [==============================] - 0s 74ms/step - loss: 1.1893 - accuracy: 0.8537\n",
      "Epoch 25/100\n",
      "1/1 [==============================] - 0s 86ms/step - loss: 1.1919 - accuracy: 0.8780\n",
      "Epoch 26/100\n",
      "1/1 [==============================] - 0s 93ms/step - loss: 1.1977 - accuracy: 0.7073\n",
      "Epoch 27/100\n",
      "1/1 [==============================] - 0s 88ms/step - loss: 1.1849 - accuracy: 0.7805\n",
      "Epoch 28/100\n",
      "1/1 [==============================] - 0s 92ms/step - loss: 1.1615 - accuracy: 0.8537\n",
      "Epoch 29/100\n",
      "1/1 [==============================] - 0s 116ms/step - loss: 1.1236 - accuracy: 0.9024\n",
      "Epoch 30/100\n",
      "1/1 [==============================] - 0s 99ms/step - loss: 1.1021 - accuracy: 0.9512\n",
      "Epoch 31/100\n",
      "1/1 [==============================] - 0s 105ms/step - loss: 1.0982 - accuracy: 0.9512\n",
      "Epoch 32/100\n",
      "1/1 [==============================] - 0s 99ms/step - loss: 1.1106 - accuracy: 0.8780\n",
      "Epoch 33/100\n",
      "1/1 [==============================] - 0s 114ms/step - loss: 1.1472 - accuracy: 0.5854\n",
      "Epoch 34/100\n",
      "1/1 [==============================] - 0s 110ms/step - loss: 1.1424 - accuracy: 0.6829\n",
      "Epoch 35/100\n",
      "1/1 [==============================] - 0s 110ms/step - loss: 1.1020 - accuracy: 0.7073\n",
      "Epoch 36/100\n",
      "1/1 [==============================] - 0s 106ms/step - loss: 1.0408 - accuracy: 0.9512\n",
      "Epoch 37/100\n",
      "1/1 [==============================] - 0s 97ms/step - loss: 1.0340 - accuracy: 0.9512\n",
      "Epoch 38/100\n",
      "1/1 [==============================] - 0s 101ms/step - loss: 1.0616 - accuracy: 0.8537\n",
      "Epoch 39/100\n",
      "1/1 [==============================] - 0s 98ms/step - loss: 1.0616 - accuracy: 0.8049\n",
      "Epoch 40/100\n",
      "1/1 [==============================] - 0s 93ms/step - loss: 1.0369 - accuracy: 0.8537\n",
      "Epoch 41/100\n",
      "1/1 [==============================] - 0s 96ms/step - loss: 0.9875 - accuracy: 0.9512\n",
      "Epoch 42/100\n",
      "1/1 [==============================] - 0s 101ms/step - loss: 0.9821 - accuracy: 0.9512\n",
      "Epoch 43/100\n",
      "1/1 [==============================] - 0s 100ms/step - loss: 1.0126 - accuracy: 0.8780\n",
      "Epoch 44/100\n",
      "1/1 [==============================] - 0s 90ms/step - loss: 1.0039 - accuracy: 0.8780\n",
      "Epoch 45/100\n",
      "1/1 [==============================] - 0s 86ms/step - loss: 0.9753 - accuracy: 0.9268\n",
      "Epoch 46/100\n",
      "1/1 [==============================] - 0s 85ms/step - loss: 0.9401 - accuracy: 0.9512\n",
      "Epoch 47/100\n",
      "1/1 [==============================] - 0s 90ms/step - loss: 0.9280 - accuracy: 0.9512\n",
      "Epoch 48/100\n",
      "1/1 [==============================] - 0s 87ms/step - loss: 0.9388 - accuracy: 0.9756\n",
      "Epoch 49/100\n",
      "1/1 [==============================] - 0s 81ms/step - loss: 0.9472 - accuracy: 0.9268\n",
      "Epoch 50/100\n",
      "1/1 [==============================] - 0s 91ms/step - loss: 0.9465 - accuracy: 0.9756\n",
      "Epoch 51/100\n",
      "1/1 [==============================] - 0s 95ms/step - loss: 0.9240 - accuracy: 0.9024\n",
      "Epoch 52/100\n",
      "1/1 [==============================] - 0s 100ms/step - loss: 0.8963 - accuracy: 0.9756\n",
      "Epoch 53/100\n",
      "1/1 [==============================] - 0s 96ms/step - loss: 0.8728 - accuracy: 0.9512\n",
      "Epoch 54/100\n",
      "1/1 [==============================] - 0s 98ms/step - loss: 0.8646 - accuracy: 0.9512\n",
      "Epoch 55/100\n",
      "1/1 [==============================] - 0s 90ms/step - loss: 0.8705 - accuracy: 0.9756\n",
      "Epoch 56/100\n",
      "1/1 [==============================] - 0s 89ms/step - loss: 0.8871 - accuracy: 0.8780\n",
      "Epoch 57/100\n",
      "1/1 [==============================] - 0s 85ms/step - loss: 0.9204 - accuracy: 0.8293\n",
      "Epoch 58/100\n",
      "1/1 [==============================] - 0s 83ms/step - loss: 0.9287 - accuracy: 0.8537\n",
      "Epoch 59/100\n",
      "1/1 [==============================] - 0s 88ms/step - loss: 0.9102 - accuracy: 0.9024\n",
      "Epoch 60/100\n",
      "1/1 [==============================] - 0s 79ms/step - loss: 0.8463 - accuracy: 0.9512\n",
      "Epoch 61/100\n",
      "1/1 [==============================] - 0s 83ms/step - loss: 0.8065 - accuracy: 0.9512\n",
      "Epoch 62/100\n",
      "1/1 [==============================] - 0s 101ms/step - loss: 0.8186 - accuracy: 0.9756\n",
      "Epoch 63/100\n",
      "1/1 [==============================] - 0s 99ms/step - loss: 0.8443 - accuracy: 0.9268\n",
      "Epoch 64/100\n",
      "1/1 [==============================] - 0s 113ms/step - loss: 0.8460 - accuracy: 0.9512\n",
      "Epoch 65/100\n",
      "1/1 [==============================] - 0s 110ms/step - loss: 0.8053 - accuracy: 0.9512\n",
      "Epoch 66/100\n",
      "1/1 [==============================] - 0s 111ms/step - loss: 0.7678 - accuracy: 0.9756\n",
      "Epoch 67/100\n",
      "1/1 [==============================] - 0s 111ms/step - loss: 0.7695 - accuracy: 0.9756\n",
      "Epoch 68/100\n",
      "1/1 [==============================] - 0s 116ms/step - loss: 0.7946 - accuracy: 0.9512\n",
      "Epoch 69/100\n",
      "1/1 [==============================] - 0s 112ms/step - loss: 0.7971 - accuracy: 0.9756\n",
      "Epoch 70/100\n",
      "1/1 [==============================] - 0s 93ms/step - loss: 0.7693 - accuracy: 0.9756\n",
      "Epoch 71/100\n",
      "1/1 [==============================] - 0s 94ms/step - loss: 0.7329 - accuracy: 0.9756\n",
      "Epoch 72/100\n",
      "1/1 [==============================] - 0s 98ms/step - loss: 0.7239 - accuracy: 0.9756\n",
      "Epoch 73/100\n",
      "1/1 [==============================] - 0s 94ms/step - loss: 0.7396 - accuracy: 0.9756\n",
      "Epoch 74/100\n",
      "1/1 [==============================] - 0s 86ms/step - loss: 0.7485 - accuracy: 0.9756\n",
      "Epoch 75/100\n",
      "1/1 [==============================] - 0s 91ms/step - loss: 0.7389 - accuracy: 0.9756\n",
      "Epoch 76/100\n",
      "1/1 [==============================] - 0s 88ms/step - loss: 0.7338 - accuracy: 0.9756\n",
      "Epoch 77/100\n",
      "1/1 [==============================] - 0s 89ms/step - loss: 0.7430 - accuracy: 0.9268\n",
      "Epoch 78/100\n",
      "1/1 [==============================] - 0s 94ms/step - loss: 0.7635 - accuracy: 0.8537\n",
      "Epoch 79/100\n",
      "1/1 [==============================] - 0s 108ms/step - loss: 0.7255 - accuracy: 0.9268\n",
      "Epoch 80/100\n",
      "1/1 [==============================] - 0s 95ms/step - loss: 0.6900 - accuracy: 0.9756\n",
      "Epoch 81/100\n",
      "1/1 [==============================] - 0s 96ms/step - loss: 0.7065 - accuracy: 0.9756\n",
      "Epoch 82/100\n",
      "1/1 [==============================] - 0s 96ms/step - loss: 0.6897 - accuracy: 0.9756\n",
      "Epoch 83/100\n"
     ]
    },
    {
     "name": "stdout",
     "output_type": "stream",
     "text": [
      "1/1 [==============================] - 0s 96ms/step - loss: 0.6472 - accuracy: 0.9756\n",
      "Epoch 84/100\n",
      "1/1 [==============================] - 0s 92ms/step - loss: 0.6570 - accuracy: 0.9756\n",
      "Epoch 85/100\n",
      "1/1 [==============================] - 0s 101ms/step - loss: 0.6440 - accuracy: 0.9756\n",
      "Epoch 86/100\n",
      "1/1 [==============================] - 0s 101ms/step - loss: 0.6294 - accuracy: 0.9756\n",
      "Epoch 87/100\n",
      "1/1 [==============================] - 0s 101ms/step - loss: 0.6452 - accuracy: 0.9756\n",
      "Epoch 88/100\n",
      "1/1 [==============================] - 0s 106ms/step - loss: 0.6337 - accuracy: 0.9756\n",
      "Epoch 89/100\n",
      "1/1 [==============================] - 0s 113ms/step - loss: 0.6471 - accuracy: 0.9756\n",
      "Epoch 90/100\n",
      "1/1 [==============================] - 0s 113ms/step - loss: 0.6768 - accuracy: 0.9024\n",
      "Epoch 91/100\n",
      "1/1 [==============================] - 0s 105ms/step - loss: 0.6999 - accuracy: 0.9512\n",
      "Epoch 92/100\n",
      "1/1 [==============================] - 0s 112ms/step - loss: 0.7587 - accuracy: 0.8293\n",
      "Epoch 93/100\n",
      "1/1 [==============================] - 0s 110ms/step - loss: 0.8150 - accuracy: 0.5610\n",
      "Epoch 94/100\n",
      "1/1 [==============================] - 0s 115ms/step - loss: 0.7131 - accuracy: 0.9024\n",
      "Epoch 95/100\n",
      "1/1 [==============================] - 0s 109ms/step - loss: 0.6008 - accuracy: 0.9756\n",
      "Epoch 96/100\n",
      "1/1 [==============================] - 0s 106ms/step - loss: 0.5939 - accuracy: 0.9756\n",
      "Epoch 97/100\n",
      "1/1 [==============================] - 0s 108ms/step - loss: 0.6770 - accuracy: 0.9024\n",
      "Epoch 98/100\n",
      "1/1 [==============================] - 0s 96ms/step - loss: 0.6449 - accuracy: 0.9268\n",
      "Epoch 99/100\n",
      "1/1 [==============================] - 0s 105ms/step - loss: 0.5592 - accuracy: 0.9756\n",
      "Epoch 100/100\n",
      "1/1 [==============================] - 0s 106ms/step - loss: 0.5706 - accuracy: 0.9756\n"
     ]
    },
    {
     "data": {
      "text/plain": [
       "<tensorflow.python.keras.callbacks.History at 0x25a7f8fc1c0>"
      ]
     },
     "execution_count": 20,
     "metadata": {},
     "output_type": "execute_result"
    }
   ],
   "source": [
    "model.fit(X, y, batch_size=256, epochs=100)"
   ]
  },
  {
   "cell_type": "code",
   "execution_count": 28,
   "id": "lasting-income",
   "metadata": {},
   "outputs": [],
   "source": [
    "seed_text=alltext\n",
    "seq_length = len(X[0])\n",
    "#seed_text"
   ]
  },
  {
   "cell_type": "code",
   "execution_count": 22,
   "id": "coupled-crack",
   "metadata": {},
   "outputs": [],
   "source": [
    "def generate_text_seq(model, tokenizer, text_seq_length, seed_text, n_words):\n",
    "    text = []\n",
    "\n",
    "    for _ in range(n_words):\n",
    "        encoded = tokenizer.texts_to_sequences([seed_text])[0]\n",
    "        encoded = pad_sequences([encoded], maxlen = text_seq_length, truncating='pre')\n",
    "\n",
    "        y_predict = model.predict_classes(encoded)\n",
    "\n",
    "        predicted_word = ''\n",
    "        for word, index in tokenizer.word_index.items():\n",
    "            if index == y_predict:\n",
    "                predicted_word = word\n",
    "                break\n",
    "        seed_text = seed_text + ' ' + predicted_word\n",
    "        text.append(predicted_word)\n",
    "    return ' '.join(text)"
   ]
  },
  {
   "cell_type": "code",
   "execution_count": 30,
   "id": "charged-theme",
   "metadata": {},
   "outputs": [
    {
     "data": {
      "text/plain": [
       "'send send send send send send cards cards cards letters letters encouragement encouragement contributions form money order order order check nlp nlp nlp tallahassee seek seek continue continue continue justice justice nlp portion portion proceeds proceeds proceeds also used used benefit benefit sons sons six six children children witnessed horrific act act anyone wishing send cards letters encouragement andor form money order check may nlp nlp nlp calhoun street fl fl 32301 attn attn attn continue justice justice justice portion portion portion proceeds proceeds also also used used benefit sons sons six children witnessed horrific act act anyone wishing send cards letters encouragement contributions form order check may mail nlp nlp calhoun street street fl fl 32301 attn attn attn attn continue justice justice portion portion proceeds proceeds proceeds also used used benefit sons sons six children children horrific act act anyone wishing send cards letters encouragement andor form money order may mail nlp nlp calhoun street street fl fl 32301 attn attn attn continue continue continue justice portion portion portion proceeds proceeds also used used benefit sons sons six children children horrific horrific act anyone wishing send cards letters encouragement andor form money order check mail nlp nlp 122 calhoun street fl fl 32301 attn attn attn continue continue continue justice portion portion portion proceeds proceeds also used used used benefit sons six six children witnessed horrific act violence anyone wishing cards cards encouragement andor contributions form order check mail nlp nlp 122 calhoun street fl fl 32301 32301 attn attn attn continue continue justice justice portion portion proceeds proceeds proceeds also used used benefit sons sons six children witnessed horrific act act anyone wishing send cards letters encouragement contributions form order check mail nlp nlp 122 street street fl fl 32301 32301 attn attn attn attn attn justice justice nlp portion portion proceeds proceeds also used used benefit sons sons six children witnessed horrific act act anyone wishing send cards encouragement andor contributions form order check mail nlp nlp calhoun fl 32301 attn 32301 32301 32301 32301 attn attn attn tallahassee continue justice justice justice portion portion proceeds proceeds proceeds also also used benefit benefit sons six six children witnessed horrific act violence anyone wishing cards letters encouragement contributions money check mail order contributions form order check may mail nlp nlp nlp nlp 122 street tallahassee 32301 attn continue justice justice justice portion portion portion proceeds proceeds proceeds also used used benefit sons sons six children witnessed horrific horrific act anyone anyone wishing cards cards encouragement andor contributions form order check may mail nlp nlp nlp calhoun street tallahassee fl 32301 32301 attn attn continue justice justice justice portion portion proceeds proceeds proceeds also also used used benefit sons six six children witnessed horrific act violence anyone wishing send cards letters andor contributions money order check mail nlp nlp 122 calhoun street fl fl 32301 32301 attn attn attn attn attn justice justice portion portion proceeds proceeds proceeds also also used used benefit sons six children children horrific act act anyone wishing send cards letters encouragement contributions form order check mail nlp nlp calhoun fl 32301 attn 32301 32301 32301 32301 attn attn attn tallahassee continue justice justice justice portion portion proceeds proceeds proceeds also also used used benefit sons six six children witnessed horrific act violence anyone wishing cards letters encouragement contributions money check mail order contributions form order check may mail nlp nlp nlp nlp 122 street tallahassee 32301 attn continue justice justice justice portion portion portion proceeds proceeds proceeds also used used benefit sons sons six children witnessed horrific horrific act anyone anyone wishing cards cards encouragement andor contributions form order check may mail nlp nlp nlp calhoun street tallahassee fl 32301 32301 attn attn continue justice justice justice portion portion proceeds proceeds proceeds also also used used benefit sons six six children witnessed horrific act violence anyone wishing send cards letters andor contributions money order check mail nlp nlp 122 calhoun street fl fl 32301 32301 attn attn attn attn attn justice justice portion portion proceeds proceeds proceeds also also used used benefit sons six children children horrific act act anyone wishing send cards letters encouragement contributions form order check mail nlp nlp calhoun fl 32301 attn 32301 32301 32301 32301 attn attn attn tallahassee continue justice justice justice portion portion proceeds proceeds proceeds also also used used benefit sons six six children witnessed horrific act violence anyone wishing cards letters encouragement contributions money check mail order contributions form order check may mail nlp nlp nlp nlp 122 street tallahassee 32301 attn continue justice justice justice portion portion portion proceeds proceeds proceeds also used used benefit sons sons six children witnessed horrific horrific act anyone anyone wishing cards cards encouragement andor contributions form order check may mail nlp nlp nlp calhoun street tallahassee fl 32301 32301 attn attn continue justice justice justice portion portion proceeds proceeds proceeds also also used used benefit sons six six children witnessed horrific act violence anyone wishing send cards letters andor contributions money order check mail nlp nlp 122 calhoun street fl fl 32301 32301 attn attn attn attn attn justice justice portion portion proceeds proceeds proceeds also also used used benefit sons six children children horrific act act anyone wishing send cards letters encouragement contributions form order check mail nlp nlp calhoun fl 32301 attn 32301 32301 32301 32301 attn attn attn tallahassee continue justice justice justice portion portion proceeds proceeds proceeds also also used used benefit sons six six children witnessed horrific act violence anyone wishing cards letters encouragement contributions money check mail order contributions form order check may mail nlp nlp nlp nlp 122 street tallahassee 32301 attn continue justice justice justice portion portion portion proceeds proceeds proceeds also used used benefit sons sons six children witnessed horrific horrific act anyone anyone wishing cards cards encouragement andor contributions form order check may mail nlp nlp nlp calhoun street tallahassee fl 32301 32301 attn attn continue justice justice justice portion portion proceeds proceeds proceeds also also used'"
      ]
     },
     "execution_count": 30,
     "metadata": {},
     "output_type": "execute_result"
    }
   ],
   "source": [
    "generate_text_seq(model, tokenizer, seq_length, seed_text, 1000)"
   ]
  },
  {
   "cell_type": "markdown",
   "id": "appropriate-sunglasses",
   "metadata": {},
   "source": [
    "https://kgptalkie.com/text-generation-using-tensorflow-keras-and-lstm/\n",
    "\n",
    "https://www.youtube.com/watch?v=VAMKuRAh2nc&t=1607s&ab_channel=KGPTalkie"
   ]
  },
  {
   "cell_type": "code",
   "execution_count": null,
   "id": "suburban-facing",
   "metadata": {},
   "outputs": [],
   "source": []
  }
 ],
 "metadata": {
  "kernelspec": {
   "display_name": "Python 3",
   "language": "python",
   "name": "python3"
  },
  "language_info": {
   "codemirror_mode": {
    "name": "ipython",
    "version": 3
   },
   "file_extension": ".py",
   "mimetype": "text/x-python",
   "name": "python",
   "nbconvert_exporter": "python",
   "pygments_lexer": "ipython3",
   "version": "3.8.5"
  }
 },
 "nbformat": 4,
 "nbformat_minor": 5
}
