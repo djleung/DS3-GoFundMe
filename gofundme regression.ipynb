{
 "cells": [
  {
   "cell_type": "code",
   "execution_count": 1,
   "metadata": {},
   "outputs": [],
   "source": [
    "%matplotlib inline\n",
    "import pandas as pd\n",
    "import numpy as np\n",
    "import matplotlib.pyplot as plt\n",
    "plt.style.use('seaborn-whitegrid')\n",
    "from sklearn.linear_model import LinearRegression\n",
    "from sklearn.metrics import r2_score\n",
    "from sklearn.linear_model import Ridge\n",
    "from sklearn.metrics import mean_squared_error\n",
    "import statsmodels.api as sm\n",
    "from sklearn import preprocessing\n",
    "import seaborn as sn\n",
    "from scipy import stats\n",
    "from sklearn.model_selection import train_test_split\n",
    "from sklearn.pipeline import Pipeline\n",
    "from sklearn.feature_extraction.text import TfidfVectorizer,CountVectorizer\n",
    "from nltk.corpus import stopwords\n",
    "from nltk.stem.porter import PorterStemmer\n",
    "from sklearn.compose import ColumnTransformer\n",
    "from sklearn.preprocessing import FunctionTransformer\n",
    "import re"
   ]
  },
  {
   "cell_type": "code",
   "execution_count": 51,
   "metadata": {},
   "outputs": [],
   "source": [
    "df = pd.read_csv('GFM_data.csv', sep = '\\t')"
   ]
  },
  {
   "cell_type": "markdown",
   "metadata": {},
   "source": [
    "### Clean dataframe and standardize numerical data"
   ]
  },
  {
   "cell_type": "code",
   "execution_count": 52,
   "metadata": {},
   "outputs": [],
   "source": [
    "def helper(x):\n",
    "    ## if string will make numeric\n",
    "    if isinstance(x,str):\n",
    "        x = x.replace(',','')\n",
    "        ## if has \".1k\" will change to numeric\n",
    "        if '.' in x and 'K' in x:\n",
    "            x = x.replace('.','')\n",
    "            x = x.replace('K','00')\n",
    "        ## if \"k\" will change to numeric\n",
    "        if 'K' in x:\n",
    "            x = x.replace('K','000')\n",
    "        return x\n",
    "    ## return nan\n",
    "    else:\n",
    "        return x\n",
    "df['Number_of_Donations'] = df['Number_of_Donations'].apply(helper).astype(float)\n",
    "df['FB_Shares'] = df['FB_Shares'].apply(helper).astype(float)\n",
    "df['Number_of_Donors'] = df['Number_of_Donors'].apply(helper).astype(float)\n",
    "df['Followers'] = df['Followers'].apply(helper).astype(float)"
   ]
  },
  {
   "cell_type": "code",
   "execution_count": 56,
   "metadata": {},
   "outputs": [],
   "source": [
    "df['Amount_Raised'] = pd.Series(preprocessing.scale(df['Amount_Raised'].values))\n",
    "df['Goal'] = pd.Series(preprocessing.scale(df['Goal'].values))\n",
    "df['Number_of_Donations'] = pd.Series(preprocessing.scale(df['Number_of_Donations'].values))\n",
    "df['FB_Shares'] = pd.Series(preprocessing.scale(df['FB_Shares'].values))\n",
    "df['Number_of_Donors'] = pd.Series(preprocessing.scale(df['Number_of_Donors'].values))\n",
    "df['Followers'] = pd.Series(preprocessing.scale(df['Followers'].values))\n",
    "df['Location'] = df['Location'].apply(lambda x: x[-2:])"
   ]
  },
  {
   "cell_type": "code",
   "execution_count": 57,
   "metadata": {},
   "outputs": [],
   "source": [
    "df = df.dropna()"
   ]
  },
  {
   "cell_type": "code",
   "execution_count": 58,
   "metadata": {},
   "outputs": [],
   "source": [
    "df['Length_of_Fundraising']= df['Length_of_Fundraising'].apply(lambda x: int(x[:-24]))\n",
    "df['Length_of_Fundraising'] = pd.Series(preprocessing.scale(df['Length_of_Fundraising'].values))"
   ]
  },
  {
   "cell_type": "code",
   "execution_count": 59,
   "metadata": {},
   "outputs": [
    {
     "data": {
      "text/html": [
       "<div>\n",
       "<style scoped>\n",
       "    .dataframe tbody tr th:only-of-type {\n",
       "        vertical-align: middle;\n",
       "    }\n",
       "\n",
       "    .dataframe tbody tr th {\n",
       "        vertical-align: top;\n",
       "    }\n",
       "\n",
       "    .dataframe thead th {\n",
       "        text-align: right;\n",
       "    }\n",
       "</style>\n",
       "<table border=\"1\" class=\"dataframe\">\n",
       "  <thead>\n",
       "    <tr style=\"text-align: right;\">\n",
       "      <th></th>\n",
       "      <th>Unnamed: 0</th>\n",
       "      <th>Url</th>\n",
       "      <th>Category</th>\n",
       "      <th>Position</th>\n",
       "      <th>Title</th>\n",
       "      <th>Location</th>\n",
       "      <th>Amount_Raised</th>\n",
       "      <th>Goal</th>\n",
       "      <th>Number_of_Donations</th>\n",
       "      <th>Length_of_Fundraising</th>\n",
       "      <th>FB_Shares</th>\n",
       "      <th>Number_of_Donors</th>\n",
       "      <th>Followers</th>\n",
       "      <th>Text</th>\n",
       "    </tr>\n",
       "  </thead>\n",
       "  <tbody>\n",
       "    <tr>\n",
       "      <td>0</td>\n",
       "      <td>0</td>\n",
       "      <td>https://www.gofundme.com/f/justiceforjacobblake</td>\n",
       "      <td>Medical</td>\n",
       "      <td>0</td>\n",
       "      <td>Justice for Jacob Blake</td>\n",
       "      <td>WI</td>\n",
       "      <td>6.819495</td>\n",
       "      <td>9.664486</td>\n",
       "      <td>7.465261</td>\n",
       "      <td>-0.858451</td>\n",
       "      <td>10.953765</td>\n",
       "      <td>7.540335</td>\n",
       "      <td>7.745799</td>\n",
       "      <td>On August 23rd my son was shot multiple times ...</td>\n",
       "    </tr>\n",
       "    <tr>\n",
       "      <td>1</td>\n",
       "      <td>0</td>\n",
       "      <td>https://www.gofundme.com/f/official-navajo-nat...</td>\n",
       "      <td>Medical</td>\n",
       "      <td>0</td>\n",
       "      <td>Official Navajo Nation COVID-19 Relief Fund</td>\n",
       "      <td>AZ</td>\n",
       "      <td>5.458150</td>\n",
       "      <td>2.880037</td>\n",
       "      <td>2.161467</td>\n",
       "      <td>1.387553</td>\n",
       "      <td>6.491736</td>\n",
       "      <td>2.138286</td>\n",
       "      <td>2.180896</td>\n",
       "      <td>\\r\\nThe Navajo Nation COVID-19 Fund has been e...</td>\n",
       "    </tr>\n",
       "    <tr>\n",
       "      <td>2</td>\n",
       "      <td>0</td>\n",
       "      <td>https://www.gofundme.com/f/help-a-front-line-n...</td>\n",
       "      <td>Medical</td>\n",
       "      <td>0</td>\n",
       "      <td>Help a front line nurse and baby get proper care</td>\n",
       "      <td>NJ</td>\n",
       "      <td>2.624691</td>\n",
       "      <td>3.558482</td>\n",
       "      <td>1.793877</td>\n",
       "      <td>1.588089</td>\n",
       "      <td>1.162357</td>\n",
       "      <td>1.753951</td>\n",
       "      <td>1.737003</td>\n",
       "      <td>On Sunday, April 12, Sylvia Leroy, a pregnant ...</td>\n",
       "    </tr>\n",
       "    <tr>\n",
       "      <td>3</td>\n",
       "      <td>0</td>\n",
       "      <td>https://www.gofundme.com/f/Tommy-Rivers-Rest-Up</td>\n",
       "      <td>Medical</td>\n",
       "      <td>1</td>\n",
       "      <td>Rest up, Tommy, we'll see you soon</td>\n",
       "      <td>AZ</td>\n",
       "      <td>1.745172</td>\n",
       "      <td>2.880037</td>\n",
       "      <td>0.985180</td>\n",
       "      <td>-0.096414</td>\n",
       "      <td>1.634581</td>\n",
       "      <td>0.899872</td>\n",
       "      <td>0.925004</td>\n",
       "      <td>First, thank you for being here. Tommy Rivers ...</td>\n",
       "    </tr>\n",
       "    <tr>\n",
       "      <td>4</td>\n",
       "      <td>0</td>\n",
       "      <td>https://www.gofundme.com/f/brandon039s-medical...</td>\n",
       "      <td>Medical</td>\n",
       "      <td>1</td>\n",
       "      <td>OFFICIAL BRANDON SAENZ MEDICAL FUND</td>\n",
       "      <td>TX</td>\n",
       "      <td>1.424581</td>\n",
       "      <td>2.031981</td>\n",
       "      <td>2.392523</td>\n",
       "      <td>0.785945</td>\n",
       "      <td>0.111901</td>\n",
       "      <td>2.394510</td>\n",
       "      <td>2.451563</td>\n",
       "      <td>My name is Melissa Green and I am the mother o...</td>\n",
       "    </tr>\n",
       "  </tbody>\n",
       "</table>\n",
       "</div>"
      ],
      "text/plain": [
       "   Unnamed: 0                                                Url Category  \\\n",
       "0           0    https://www.gofundme.com/f/justiceforjacobblake  Medical   \n",
       "1           0  https://www.gofundme.com/f/official-navajo-nat...  Medical   \n",
       "2           0  https://www.gofundme.com/f/help-a-front-line-n...  Medical   \n",
       "3           0    https://www.gofundme.com/f/Tommy-Rivers-Rest-Up  Medical   \n",
       "4           0  https://www.gofundme.com/f/brandon039s-medical...  Medical   \n",
       "\n",
       "   Position                                             Title Location  \\\n",
       "0         0                           Justice for Jacob Blake       WI   \n",
       "1         0       Official Navajo Nation COVID-19 Relief Fund       AZ   \n",
       "2         0  Help a front line nurse and baby get proper care       NJ   \n",
       "3         1                Rest up, Tommy, we'll see you soon       AZ   \n",
       "4         1               OFFICIAL BRANDON SAENZ MEDICAL FUND       TX   \n",
       "\n",
       "   Amount_Raised      Goal  Number_of_Donations  Length_of_Fundraising  \\\n",
       "0       6.819495  9.664486             7.465261              -0.858451   \n",
       "1       5.458150  2.880037             2.161467               1.387553   \n",
       "2       2.624691  3.558482             1.793877               1.588089   \n",
       "3       1.745172  2.880037             0.985180              -0.096414   \n",
       "4       1.424581  2.031981             2.392523               0.785945   \n",
       "\n",
       "   FB_Shares  Number_of_Donors  Followers  \\\n",
       "0  10.953765          7.540335   7.745799   \n",
       "1   6.491736          2.138286   2.180896   \n",
       "2   1.162357          1.753951   1.737003   \n",
       "3   1.634581          0.899872   0.925004   \n",
       "4   0.111901          2.394510   2.451563   \n",
       "\n",
       "                                                Text  \n",
       "0  On August 23rd my son was shot multiple times ...  \n",
       "1  \\r\\nThe Navajo Nation COVID-19 Fund has been e...  \n",
       "2  On Sunday, April 12, Sylvia Leroy, a pregnant ...  \n",
       "3  First, thank you for being here. Tommy Rivers ...  \n",
       "4  My name is Melissa Green and I am the mother o...  "
      ]
     },
     "execution_count": 59,
     "metadata": {},
     "output_type": "execute_result"
    }
   ],
   "source": [
    "df.head()"
   ]
  },
  {
   "cell_type": "code",
   "execution_count": null,
   "metadata": {},
   "outputs": [],
   "source": []
  },
  {
   "cell_type": "markdown",
   "metadata": {},
   "source": [
    "## Quantitative Predictors"
   ]
  },
  {
   "cell_type": "markdown",
   "metadata": {},
   "source": [
    "### The relationship between Amount_Raised and Number_of_Donations appears linear"
   ]
  },
  {
   "cell_type": "code",
   "execution_count": 9,
   "metadata": {},
   "outputs": [
    {
     "data": {
      "text/plain": [
       "[<matplotlib.lines.Line2D at 0x1e1ce522a48>]"
      ]
     },
     "execution_count": 9,
     "metadata": {},
     "output_type": "execute_result"
    },
    {
     "data": {
      "image/png": "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\n",
      "text/plain": [
       "<Figure size 432x288 with 1 Axes>"
      ]
     },
     "metadata": {
      "needs_background": "light"
     },
     "output_type": "display_data"
    }
   ],
   "source": [
    "x = df['Number_of_Donations']\n",
    "y = df['Amount_Raised']\n",
    "\n",
    "plt.plot(x, y, 'o', color = 'black')\n",
    "\n",
    "m, b = np.polyfit(x, y, 1)\n",
    "\n",
    "\n",
    "plt.plot(x, m*x + b)"
   ]
  },
  {
   "cell_type": "markdown",
   "metadata": {},
   "source": [
    "The p-value is very close to 0 so number of donations is a strong predictor of amount raised"
   ]
  },
  {
   "cell_type": "code",
   "execution_count": 10,
   "metadata": {},
   "outputs": [
    {
     "name": "stdout",
     "output_type": "stream",
     "text": [
      "                            OLS Regression Results                            \n",
      "==============================================================================\n",
      "Dep. Variable:          Amount_Raised   R-squared:                       0.835\n",
      "Model:                            OLS   Adj. R-squared:                  0.835\n",
      "Method:                 Least Squares   F-statistic:                     4215.\n",
      "Date:                Tue, 08 Dec 2020   Prob (F-statistic):               0.00\n",
      "Time:                        17:17:04   Log-Likelihood:                -434.48\n",
      "No. Observations:                 836   AIC:                             873.0\n",
      "Df Residuals:                     834   BIC:                             882.4\n",
      "Df Model:                           1                                         \n",
      "Covariance Type:            nonrobust                                         \n",
      "==============================================================================\n",
      "                 coef    std err          t      P>|t|      [0.025      0.975]\n",
      "------------------------------------------------------------------------------\n",
      "const          0.0001      0.014      0.009      0.993      -0.028       0.028\n",
      "x1             0.9137      0.014     64.923      0.000       0.886       0.941\n",
      "==============================================================================\n",
      "Omnibus:                     1071.969   Durbin-Watson:                   1.530\n",
      "Prob(Omnibus):                  0.000   Jarque-Bera (JB):           360142.489\n",
      "Skew:                           6.225   Prob(JB):                         0.00\n",
      "Kurtosis:                     103.916   Cond. No.                         1.00\n",
      "==============================================================================\n",
      "\n",
      "Warnings:\n",
      "[1] Standard Errors assume that the covariance matrix of the errors is correctly specified.\n"
     ]
    }
   ],
   "source": [
    "X2 = sm.add_constant(x.values)\n",
    "est = sm.OLS(y, X2)\n",
    "est2 = est.fit()\n",
    "print(est2.summary())"
   ]
  },
  {
   "cell_type": "code",
   "execution_count": 11,
   "metadata": {},
   "outputs": [],
   "source": [
    "mod = sm.OLS(y, x)\n",
    "fii = mod.fit()\n",
    "p_values = fii.summary2().tables[1]['P>|t|']"
   ]
  },
  {
   "cell_type": "code",
   "execution_count": 12,
   "metadata": {},
   "outputs": [
    {
     "data": {
      "text/plain": [
       "Number_of_Donations    0.0\n",
       "Name: P>|t|, dtype: float64"
      ]
     },
     "execution_count": 12,
     "metadata": {},
     "output_type": "execute_result"
    }
   ],
   "source": [
    "p_values"
   ]
  },
  {
   "cell_type": "markdown",
   "metadata": {},
   "source": [
    "### The relationship between Amount_Raised and Goal appears linear"
   ]
  },
  {
   "cell_type": "code",
   "execution_count": 13,
   "metadata": {},
   "outputs": [
    {
     "data": {
      "text/plain": [
       "[<matplotlib.lines.Line2D at 0x1e1cf606948>]"
      ]
     },
     "execution_count": 13,
     "metadata": {},
     "output_type": "execute_result"
    },
    {
     "data": {
      "image/png": "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\n",
      "text/plain": [
       "<Figure size 432x288 with 1 Axes>"
      ]
     },
     "metadata": {
      "needs_background": "light"
     },
     "output_type": "display_data"
    }
   ],
   "source": [
    "x = df['Goal']\n",
    "y = df['Amount_Raised']\n",
    "\n",
    "plt.plot(x, y, 'o', color = 'black')\n",
    "\n",
    "m, b = np.polyfit(x, y, 1)\n",
    "\n",
    "\n",
    "plt.plot(x, m*x + b)"
   ]
  },
  {
   "cell_type": "markdown",
   "metadata": {},
   "source": [
    "The p-value is very close to 0 so Goal is a strong predictor of Amount_Raised"
   ]
  },
  {
   "cell_type": "code",
   "execution_count": 14,
   "metadata": {},
   "outputs": [
    {
     "name": "stdout",
     "output_type": "stream",
     "text": [
      "                            OLS Regression Results                            \n",
      "==============================================================================\n",
      "Dep. Variable:          Amount_Raised   R-squared:                       0.306\n",
      "Model:                            OLS   Adj. R-squared:                  0.305\n",
      "Method:                 Least Squares   F-statistic:                     367.3\n",
      "Date:                Tue, 08 Dec 2020   Prob (F-statistic):           4.07e-68\n",
      "Time:                        17:17:06   Log-Likelihood:                -1034.6\n",
      "No. Observations:                 836   AIC:                             2073.\n",
      "Df Residuals:                     834   BIC:                             2083.\n",
      "Df Model:                           1                                         \n",
      "Covariance Type:            nonrobust                                         \n",
      "==============================================================================\n",
      "                 coef    std err          t      P>|t|      [0.025      0.975]\n",
      "------------------------------------------------------------------------------\n",
      "const          0.0002      0.029      0.006      0.995      -0.057       0.057\n",
      "x1             0.5530      0.029     19.165      0.000       0.496       0.610\n",
      "==============================================================================\n",
      "Omnibus:                     1779.518   Durbin-Watson:                   1.987\n",
      "Prob(Omnibus):                  0.000   Jarque-Bera (JB):          5586486.983\n",
      "Skew:                          16.939   Prob(JB):                         0.00\n",
      "Kurtosis:                     402.036   Cond. No.                         1.00\n",
      "==============================================================================\n",
      "\n",
      "Warnings:\n",
      "[1] Standard Errors assume that the covariance matrix of the errors is correctly specified.\n"
     ]
    }
   ],
   "source": [
    "X2 = sm.add_constant(x.values)\n",
    "est = sm.OLS(y, X2)\n",
    "est2 = est.fit()\n",
    "print(est2.summary())"
   ]
  },
  {
   "cell_type": "code",
   "execution_count": 15,
   "metadata": {},
   "outputs": [],
   "source": [
    "mod = sm.OLS(y, x)\n",
    "fii = mod.fit()\n",
    "p_values = fii.summary2().tables[1]['P>|t|']"
   ]
  },
  {
   "cell_type": "code",
   "execution_count": 16,
   "metadata": {},
   "outputs": [
    {
     "data": {
      "text/plain": [
       "Goal    3.390507e-68\n",
       "Name: P>|t|, dtype: float64"
      ]
     },
     "execution_count": 16,
     "metadata": {},
     "output_type": "execute_result"
    }
   ],
   "source": [
    "p_values"
   ]
  },
  {
   "cell_type": "markdown",
   "metadata": {},
   "source": [
    "### The relationship between Amount_Raised and Followers appears linear"
   ]
  },
  {
   "cell_type": "code",
   "execution_count": 17,
   "metadata": {},
   "outputs": [
    {
     "data": {
      "text/plain": [
       "[<matplotlib.lines.Line2D at 0x1e1cfad4288>]"
      ]
     },
     "execution_count": 17,
     "metadata": {},
     "output_type": "execute_result"
    },
    {
     "data": {
      "image/png": "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\n",
      "text/plain": [
       "<Figure size 432x288 with 1 Axes>"
      ]
     },
     "metadata": {
      "needs_background": "light"
     },
     "output_type": "display_data"
    }
   ],
   "source": [
    "x = df['Followers']\n",
    "y = df['Amount_Raised']\n",
    "\n",
    "plt.plot(x, y, 'o', color = 'black')\n",
    "\n",
    "m, b = np.polyfit(x, y, 1)\n",
    "\n",
    "\n",
    "plt.plot(x, m*x + b)"
   ]
  },
  {
   "cell_type": "markdown",
   "metadata": {},
   "source": [
    "The p-value is very close to 0 so Goal is a strong predictor of Amount_Raised"
   ]
  },
  {
   "cell_type": "code",
   "execution_count": 18,
   "metadata": {},
   "outputs": [
    {
     "name": "stdout",
     "output_type": "stream",
     "text": [
      "                            OLS Regression Results                            \n",
      "==============================================================================\n",
      "Dep. Variable:          Amount_Raised   R-squared:                       0.815\n",
      "Model:                            OLS   Adj. R-squared:                  0.814\n",
      "Method:                 Least Squares   F-statistic:                     3665.\n",
      "Date:                Tue, 08 Dec 2020   Prob (F-statistic):          1.77e-307\n",
      "Time:                        17:17:07   Log-Likelihood:                -482.65\n",
      "No. Observations:                 836   AIC:                             969.3\n",
      "Df Residuals:                     834   BIC:                             978.8\n",
      "Df Model:                           1                                         \n",
      "Covariance Type:            nonrobust                                         \n",
      "==============================================================================\n",
      "                 coef    std err          t      P>|t|      [0.025      0.975]\n",
      "------------------------------------------------------------------------------\n",
      "const          0.0001      0.015      0.009      0.993      -0.029       0.029\n",
      "x1             0.9026      0.015     60.542      0.000       0.873       0.932\n",
      "==============================================================================\n",
      "Omnibus:                     1210.946   Durbin-Watson:                   1.509\n",
      "Prob(Omnibus):                  0.000   Jarque-Bera (JB):           455486.034\n",
      "Skew:                           7.907   Prob(JB):                         0.00\n",
      "Kurtosis:                     116.252   Cond. No.                         1.00\n",
      "==============================================================================\n",
      "\n",
      "Warnings:\n",
      "[1] Standard Errors assume that the covariance matrix of the errors is correctly specified.\n"
     ]
    }
   ],
   "source": [
    "X2 = sm.add_constant(x.values)\n",
    "est = sm.OLS(y, X2)\n",
    "est2 = est.fit()\n",
    "print(est2.summary())"
   ]
  },
  {
   "cell_type": "code",
   "execution_count": 19,
   "metadata": {},
   "outputs": [],
   "source": [
    "mod = sm.OLS(y, x)\n",
    "fii = mod.fit()\n",
    "p_values = fii.summary2().tables[1]['P>|t|']"
   ]
  },
  {
   "cell_type": "code",
   "execution_count": 20,
   "metadata": {},
   "outputs": [
    {
     "data": {
      "text/plain": [
       "Followers    7.606328e-308\n",
       "Name: P>|t|, dtype: float64"
      ]
     },
     "execution_count": 20,
     "metadata": {},
     "output_type": "execute_result"
    }
   ],
   "source": [
    "p_values"
   ]
  },
  {
   "cell_type": "markdown",
   "metadata": {},
   "source": [
    "## Categorical Predictors"
   ]
  },
  {
   "cell_type": "code",
   "execution_count": 21,
   "metadata": {},
   "outputs": [],
   "source": [
    "def boxplot_sorted(df, by, column):\n",
    "    df2 = pd.DataFrame({col:vals[column] for col, vals in df.groupby(by)})\n",
    "    meds = df2.median().sort_values()\n",
    "    df2[meds.index].boxplot(fontsize=14)"
   ]
  },
  {
   "cell_type": "code",
   "execution_count": 22,
   "metadata": {},
   "outputs": [
    {
     "data": {
      "text/plain": [
       "Text(0.5, 0.98, '')"
      ]
     },
     "execution_count": 22,
     "metadata": {},
     "output_type": "execute_result"
    },
    {
     "data": {
      "image/png": "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\n",
      "text/plain": [
       "<Figure size 1440x576 with 1 Axes>"
      ]
     },
     "metadata": {
      "needs_background": "light"
     },
     "output_type": "display_data"
    }
   ],
   "source": [
    "plt.figure(figsize=(20,8))\n",
    "boxplot_sorted(df, by=[\"Category\"], column=\"Amount_Raised\")\n",
    "plt.title(\"Boxplot of Standardized Amount_Raised by Category\", fontsize=18)\n",
    "plt.suptitle(\"\")"
   ]
  },
  {
   "cell_type": "code",
   "execution_count": 23,
   "metadata": {},
   "outputs": [
    {
     "data": {
      "text/plain": [
       "Text(0.5, 0.98, '')"
      ]
     },
     "execution_count": 23,
     "metadata": {},
     "output_type": "execute_result"
    },
    {
     "data": {
      "image/png": "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\n",
      "text/plain": [
       "<Figure size 1440x576 with 1 Axes>"
      ]
     },
     "metadata": {
      "needs_background": "light"
     },
     "output_type": "display_data"
    }
   ],
   "source": [
    "plt.figure(figsize=(20,8))\n",
    "boxplot_sorted(df, by=[\"Category\"], column=\"Amount_Raised\")\n",
    "plt.ylim(-0.5, 2.5)\n",
    "plt.title(\"Boxplot of Standardized Amount_Raised by Category Zoomed\", fontsize=18)\n",
    "plt.suptitle(\"\")"
   ]
  },
  {
   "cell_type": "code",
   "execution_count": null,
   "metadata": {},
   "outputs": [],
   "source": []
  },
  {
   "cell_type": "code",
   "execution_count": 24,
   "metadata": {},
   "outputs": [],
   "source": [
    "cat_subset = df[['Category', 'Amount_Raised']]\n",
    "grps = pd.unique(cat_subset['Category'])\n",
    "l_data = [cat_subset['Amount_Raised'][cat_subset['Category'] == grp] for grp in grps]\n",
    "f, p = stats.f_oneway(*l_data)"
   ]
  },
  {
   "cell_type": "code",
   "execution_count": 25,
   "metadata": {},
   "outputs": [
    {
     "data": {
      "text/plain": [
       "(6.128265450927433, 4.9057089530166766e-11)"
      ]
     },
     "execution_count": 25,
     "metadata": {},
     "output_type": "execute_result"
    }
   ],
   "source": [
    "f, p"
   ]
  },
  {
   "cell_type": "code",
   "execution_count": null,
   "metadata": {},
   "outputs": [],
   "source": []
  },
  {
   "cell_type": "markdown",
   "metadata": {},
   "source": [
    "## Ridge Regression"
   ]
  },
  {
   "cell_type": "code",
   "execution_count": 26,
   "metadata": {},
   "outputs": [
    {
     "data": {
      "image/png": "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\n",
      "text/plain": [
       "<Figure size 432x288 with 2 Axes>"
      ]
     },
     "metadata": {
      "needs_background": "light"
     },
     "output_type": "display_data"
    }
   ],
   "source": [
    "sn.heatmap(df.corr(), annot = True)\n",
    "plt.show()"
   ]
  },
  {
   "cell_type": "code",
   "execution_count": 74,
   "metadata": {},
   "outputs": [],
   "source": [
    "def to_integer(x):\n",
    "    d = {'Business': 1, 'Community': 2, 'Competition': 3, 'Creative': 4, 'Education': 5, 'Emergency': 6, 'Event': 7, 'Faith': 8, 'Family':9, 'Medical': 10, 'Newlywed':11, 'Sports':12, 'Travel':13, 'Wishes': 14,'Memorial':15,'Animals':16}\n",
    "    return d[x]"
   ]
  },
  {
   "cell_type": "code",
   "execution_count": 72,
   "metadata": {},
   "outputs": [],
   "source": [
    "locations = df['Location'].unique()\n",
    "loc_dict = {locations[x]:x for x in range(len(locations))}\n",
    "df = df.replace({'Location': loc_dict})"
   ]
  },
  {
   "cell_type": "code",
   "execution_count": 75,
   "metadata": {},
   "outputs": [],
   "source": [
    "new_column = df.get('Category').apply(to_integer)\n",
    "df = df.assign(Categorical_Assign = new_column)"
   ]
  },
  {
   "cell_type": "code",
   "execution_count": 76,
   "metadata": {},
   "outputs": [],
   "source": [
    "reg_df = df[['Amount_Raised', 'Categorical_Assign', 'Goal', 'Number_of_Donations', 'FB_Shares', 'Number_of_Donors', 'Followers', 'Location']].copy()"
   ]
  },
  {
   "cell_type": "code",
   "execution_count": 77,
   "metadata": {},
   "outputs": [
    {
     "data": {
      "text/html": [
       "<div>\n",
       "<style scoped>\n",
       "    .dataframe tbody tr th:only-of-type {\n",
       "        vertical-align: middle;\n",
       "    }\n",
       "\n",
       "    .dataframe tbody tr th {\n",
       "        vertical-align: top;\n",
       "    }\n",
       "\n",
       "    .dataframe thead th {\n",
       "        text-align: right;\n",
       "    }\n",
       "</style>\n",
       "<table border=\"1\" class=\"dataframe\">\n",
       "  <thead>\n",
       "    <tr style=\"text-align: right;\">\n",
       "      <th></th>\n",
       "      <th>Amount_Raised</th>\n",
       "      <th>Categorical_Assign</th>\n",
       "      <th>Goal</th>\n",
       "      <th>Number_of_Donations</th>\n",
       "      <th>FB_Shares</th>\n",
       "      <th>Number_of_Donors</th>\n",
       "      <th>Followers</th>\n",
       "      <th>Location</th>\n",
       "      <th>Category</th>\n",
       "    </tr>\n",
       "  </thead>\n",
       "  <tbody>\n",
       "    <tr>\n",
       "      <td>0</td>\n",
       "      <td>6.819495</td>\n",
       "      <td>0.625</td>\n",
       "      <td>1.000000</td>\n",
       "      <td>0.340455</td>\n",
       "      <td>1.000000</td>\n",
       "      <td>0.344147</td>\n",
       "      <td>0.350974</td>\n",
       "      <td>0.000000</td>\n",
       "      <td>Medical</td>\n",
       "    </tr>\n",
       "    <tr>\n",
       "      <td>1</td>\n",
       "      <td>5.458150</td>\n",
       "      <td>0.625</td>\n",
       "      <td>0.298002</td>\n",
       "      <td>0.098574</td>\n",
       "      <td>0.592649</td>\n",
       "      <td>0.097593</td>\n",
       "      <td>0.098820</td>\n",
       "      <td>0.019231</td>\n",
       "      <td>Medical</td>\n",
       "    </tr>\n",
       "    <tr>\n",
       "      <td>2</td>\n",
       "      <td>2.624691</td>\n",
       "      <td>0.625</td>\n",
       "      <td>0.368202</td>\n",
       "      <td>0.081810</td>\n",
       "      <td>0.106115</td>\n",
       "      <td>0.080052</td>\n",
       "      <td>0.078706</td>\n",
       "      <td>0.038462</td>\n",
       "      <td>Medical</td>\n",
       "    </tr>\n",
       "    <tr>\n",
       "      <td>3</td>\n",
       "      <td>1.745172</td>\n",
       "      <td>0.625</td>\n",
       "      <td>0.298002</td>\n",
       "      <td>0.044929</td>\n",
       "      <td>0.149225</td>\n",
       "      <td>0.041071</td>\n",
       "      <td>0.041913</td>\n",
       "      <td>0.019231</td>\n",
       "      <td>Medical</td>\n",
       "    </tr>\n",
       "    <tr>\n",
       "      <td>4</td>\n",
       "      <td>1.424581</td>\n",
       "      <td>0.625</td>\n",
       "      <td>0.210252</td>\n",
       "      <td>0.109112</td>\n",
       "      <td>0.010216</td>\n",
       "      <td>0.109287</td>\n",
       "      <td>0.111084</td>\n",
       "      <td>0.057692</td>\n",
       "      <td>Medical</td>\n",
       "    </tr>\n",
       "    <tr>\n",
       "      <td>...</td>\n",
       "      <td>...</td>\n",
       "      <td>...</td>\n",
       "      <td>...</td>\n",
       "      <td>...</td>\n",
       "      <td>...</td>\n",
       "      <td>...</td>\n",
       "      <td>...</td>\n",
       "      <td>...</td>\n",
       "      <td>...</td>\n",
       "    </tr>\n",
       "    <tr>\n",
       "      <td>783</td>\n",
       "      <td>-0.302733</td>\n",
       "      <td>0.750</td>\n",
       "      <td>-0.017897</td>\n",
       "      <td>-0.008069</td>\n",
       "      <td>-0.037558</td>\n",
       "      <td>-0.007977</td>\n",
       "      <td>-0.007939</td>\n",
       "      <td>0.153846</td>\n",
       "      <td>Sports</td>\n",
       "    </tr>\n",
       "    <tr>\n",
       "      <td>784</td>\n",
       "      <td>-0.302836</td>\n",
       "      <td>0.750</td>\n",
       "      <td>-0.044222</td>\n",
       "      <td>-0.004855</td>\n",
       "      <td>-0.037593</td>\n",
       "      <td>-0.004751</td>\n",
       "      <td>-0.004691</td>\n",
       "      <td>0.269231</td>\n",
       "      <td>Sports</td>\n",
       "    </tr>\n",
       "    <tr>\n",
       "      <td>785</td>\n",
       "      <td>-0.303080</td>\n",
       "      <td>0.750</td>\n",
       "      <td>-0.045977</td>\n",
       "      <td>-0.007432</td>\n",
       "      <td>-0.036291</td>\n",
       "      <td>-0.007334</td>\n",
       "      <td>-0.007311</td>\n",
       "      <td>0.423077</td>\n",
       "      <td>Sports</td>\n",
       "    </tr>\n",
       "    <tr>\n",
       "      <td>786</td>\n",
       "      <td>-0.290315</td>\n",
       "      <td>0.750</td>\n",
       "      <td>0.052303</td>\n",
       "      <td>-0.007643</td>\n",
       "      <td>-0.030537</td>\n",
       "      <td>-0.007567</td>\n",
       "      <td>-0.007546</td>\n",
       "      <td>0.057692</td>\n",
       "      <td>Sports</td>\n",
       "    </tr>\n",
       "    <tr>\n",
       "      <td>787</td>\n",
       "      <td>-0.306025</td>\n",
       "      <td>0.750</td>\n",
       "      <td>-0.028427</td>\n",
       "      <td>-0.008476</td>\n",
       "      <td>-0.034839</td>\n",
       "      <td>-0.008396</td>\n",
       "      <td>-0.008380</td>\n",
       "      <td>0.096154</td>\n",
       "      <td>Sports</td>\n",
       "    </tr>\n",
       "  </tbody>\n",
       "</table>\n",
       "<p>744 rows × 9 columns</p>\n",
       "</div>"
      ],
      "text/plain": [
       "     Amount_Raised  Categorical_Assign      Goal  Number_of_Donations  \\\n",
       "0         6.819495               0.625  1.000000             0.340455   \n",
       "1         5.458150               0.625  0.298002             0.098574   \n",
       "2         2.624691               0.625  0.368202             0.081810   \n",
       "3         1.745172               0.625  0.298002             0.044929   \n",
       "4         1.424581               0.625  0.210252             0.109112   \n",
       "..             ...                 ...       ...                  ...   \n",
       "783      -0.302733               0.750 -0.017897            -0.008069   \n",
       "784      -0.302836               0.750 -0.044222            -0.004855   \n",
       "785      -0.303080               0.750 -0.045977            -0.007432   \n",
       "786      -0.290315               0.750  0.052303            -0.007643   \n",
       "787      -0.306025               0.750 -0.028427            -0.008476   \n",
       "\n",
       "     FB_Shares  Number_of_Donors  Followers  Location Category  \n",
       "0     1.000000          0.344147   0.350974  0.000000  Medical  \n",
       "1     0.592649          0.097593   0.098820  0.019231  Medical  \n",
       "2     0.106115          0.080052   0.078706  0.038462  Medical  \n",
       "3     0.149225          0.041071   0.041913  0.019231  Medical  \n",
       "4     0.010216          0.109287   0.111084  0.057692  Medical  \n",
       "..         ...               ...        ...       ...      ...  \n",
       "783  -0.037558         -0.007977  -0.007939  0.153846   Sports  \n",
       "784  -0.037593         -0.004751  -0.004691  0.269231   Sports  \n",
       "785  -0.036291         -0.007334  -0.007311  0.423077   Sports  \n",
       "786  -0.030537         -0.007567  -0.007546  0.057692   Sports  \n",
       "787  -0.034839         -0.008396  -0.008380  0.096154   Sports  \n",
       "\n",
       "[744 rows x 9 columns]"
      ]
     },
     "execution_count": 77,
     "metadata": {},
     "output_type": "execute_result"
    }
   ],
   "source": [
    "target_column = ['Amount_Raised']\n",
    "predictors = list(set(list(reg_df.columns))-set(target_column))\n",
    "reg_df[predictors] = reg_df[predictors]/reg_df[predictors].max()\n",
    "reg_df['Category'] = df['Category']\n",
    "reg_df = reg_df.dropna()\n",
    "reg_df"
   ]
  },
  {
   "cell_type": "code",
   "execution_count": 78,
   "metadata": {},
   "outputs": [],
   "source": [
    "X = df[predictors]#.values\n",
    "y = df[target_column]#.values"
   ]
  },
  {
   "cell_type": "code",
   "execution_count": 79,
   "metadata": {},
   "outputs": [
    {
     "name": "stdout",
     "output_type": "stream",
     "text": [
      "(520, 7)\n",
      "(224, 7)\n"
     ]
    }
   ],
   "source": [
    "X_train, X_test, y_train, y_test = train_test_split(X, y, test_size=0.30, random_state=10, shuffle=True)\n",
    "print(X_train.shape); print(X_test.shape)"
   ]
  },
  {
   "cell_type": "code",
   "execution_count": 80,
   "metadata": {},
   "outputs": [
    {
     "name": "stdout",
     "output_type": "stream",
     "text": [
      "0.24115712440025305\n",
      "0.9537710890939868\n"
     ]
    }
   ],
   "source": [
    "rr = Ridge(alpha=0)\n",
    "rr.fit(X_train, y_train) \n",
    "pred_train_rr= rr.predict(X_train)\n",
    "print(np.sqrt(mean_squared_error(y_train,pred_train_rr)))\n",
    "print(r2_score(y_train, pred_train_rr))"
   ]
  },
  {
   "cell_type": "code",
   "execution_count": 81,
   "metadata": {},
   "outputs": [
    {
     "name": "stdout",
     "output_type": "stream",
     "text": [
      "0.4083073033922459\n",
      "0.4217921177772197\n"
     ]
    }
   ],
   "source": [
    "pred_test_rr= rr.predict(X_test)\n",
    "print(np.sqrt(mean_squared_error(y_test,pred_test_rr))) \n",
    "print(r2_score(y_test, pred_test_rr))"
   ]
  },
  {
   "cell_type": "code",
<<<<<<< Updated upstream
   "execution_count": 35,
=======
   "execution_count": 82,
>>>>>>> Stashed changes
   "metadata": {},
   "outputs": [],
   "source": [
    "r2_train_scores = []\n",
    "r2_test_scores = []\n",
    "for i in range(10000):\n",
    "    X_train, X_test, y_train, y_test = train_test_split(X, y, test_size=0.30, random_state=i, shuffle=True)\n",
    "    rr = Ridge(alpha=0)\n",
    "    rr.fit(X_train, y_train) \n",
    "    pred_train_rr= rr.predict(X_train)\n",
    "    pred_test_rr= rr.predict(X_test)\n",
    "    r2_train_scores.append(r2_score(y_train, pred_train_rr))\n",
    "    r2_test_scores.append(r2_score(y_test, pred_test_rr))"
   ]
  },
  {
   "cell_type": "code",
<<<<<<< Updated upstream
   "execution_count": 36,
=======
   "execution_count": 83,
>>>>>>> Stashed changes
   "metadata": {},
   "outputs": [],
   "source": [
    "hbins = [x/100 for x in range(0, 100, 5)]"
   ]
  },
  {
   "cell_type": "code",
<<<<<<< Updated upstream
   "execution_count": 37,
=======
   "execution_count": 84,
>>>>>>> Stashed changes
   "metadata": {},
   "outputs": [
    {
     "data": {
<<<<<<< Updated upstream
      "image/png": "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\n",
=======
      "image/png": "iVBORw0KGgoAAAANSUhEUgAAAXYAAAECCAYAAADq7fyyAAAABHNCSVQICAgIfAhkiAAAAAlwSFlzAAALEgAACxIB0t1+/AAAADh0RVh0U29mdHdhcmUAbWF0cGxvdGxpYiB2ZXJzaW9uMy4xLjEsIGh0dHA6Ly9tYXRwbG90bGliLm9yZy8QZhcZAAAWtklEQVR4nO3df5xcdX3v8deG8EPaJF4vtJUqIqX349pWkKAJCib2giEkBat4LxWroIi2oYrgD2wR1h8PBUWsXkF8wG1je6n30RtFrRjNvVYwxiBlCZTo+EkxIq2oF2IhoC6YZO8f5+zNMJnZnezu7Ga/+3o+Hnlk5pzPmfl+Znffc+Z7zsz0DQ8PI0kqx5zpHoAkaXIZ7JJUGINdkgpjsEtSYQx2SSqMwS5JhZk73QPQ5IiIjwEvqq8+G/g+8Iv6+vGZ+Yu2G+55O6cBJ2Xmm0apOQxYk5kvmMCQm2/vZuAZwMP1ov2Bm4D3ZuYjY2z7POB1mfnGvbzPYWAzsBMYBg4GtgN/kpm3d9jmbODPqP5u5gIbgYsy8+F29dMlIjYD52fmzU3LlgCfAw5r/l2IiAOBHwInZ+amDrd3BLA5M3+1l+PW5DHYC9EcxBFxL3BWp4Aa43a+AHxhjJr7gUkJ9SZvy8w1ABGxP/Ax4O+APxhju98BnjbO+3xxZj44ciUi3gr8N+D41sL6CeRS4LjM/GlE7AdcDXwCeOU473/KZOYtEfFD4GXADU2rXgZs6RTqmpkM9lkiIh4DPg8cDZwFPAd4A3AA8BTg8sz8RL1XekZmrqz3pDcCLwQOB/4PcF59eXNm/mpEDABHAE+l2uv+IfCqzPxRHYafqO/je/X6C5v3JNvJzF9GxIXAjyPiWcAW4CPAYmAe0AecC9wHvAdYEBF/DbyuXV1mbuji8Zlb9/XTDiVPpZq6PBj4aWbujIhLqZ5YiIgFwHVUj++P6rFtzcyB+on2jJEn2ubrEfHnwOnAk4BfAd6amTfWj+vxwGHAXZn5qoj4C+Dl9TjuBf40M++PiGcDf1WP7bv17bRzDfBanhjs5wEfr8e1GPggcGDd7//OzNe1PE4DwCGZeX7r9fox+Cjwe1Svur5K9YS9IyLeDfwh8DiwDTg7M3/UYZyaIOfYZ48DgH/IzKD64389cGpmPhf4r1R/0O38FrCU6olgObCkTc2JwCsy81nAz4A31kH5WeBdmfkcqj3wY7odbD1dsIUqJBZRBdzxmfls4FPAxZn5r1R70esz85xOdaPczdci4p8j4v76vgDO6VC7FtgA3BsRd0TEx4HnATfX698LDAHPono8f3+sHiPiGcBJwNL6MfoLqieqEc8AnluH+qvrx+L5mXkM8CXg+rruBuC6+jY+Wm/Xzt8Cx0XEM+v7/+16vGvq9W8GLs3MRVTTeadFxMKx+mjyEWAwMxcCzwUOAS6MiKcDFwDPy8zjgHVUPyv1iME+u6wHyMxHgZXAioh4L1WgdJo//YfM3JWZ24F7qPbuW91crwfYVNf8Xn1fa+v/v0Y1p703hoGfZ+ZG4BLgDRFxJXBGu/F2W9fkxXUYrqTa2/1aZv7fdoWZ+cvMPItqr/7DVE+UnwL+Z13y+8CnMnM4M3/C7rDsKDN/ALwaOCsiLgfe2DLeWzNzR315JdUrkdsj4k6quf6IiP9I9aT7N/VtbqDD41wfr/gf7H7yOg+4PjMfr6+/Bnhy/SriGqpXEXszr76S6rG/ExgEnk/1e/BD4C7gjvrncmdmfm4vbld7yWCfXR4FiIinAXdS7dl9gyoMO2k+6DpMNb3RTc2ONrU7ux1oRBwM9APfjogVVAdToZpOurbdOLqta5WZdwBvAVbXBwqJiC9FxJ31v9Mi4rURcVpm3p+ZN2TmecCxwCsi4hCqx6D5vh5vutz6uB1Q38exVFNd86n2Yq9oqXu06fJ+wBWZeUy9x34c1RTZiObtdtDZNcDZEXEQ1ZTcJ5vWfR04leoV3XuoArn18WvbS9MYX9E0xkVUB3F3Ub3SO5tqGuYjEdHpFaImgcE+Ox0HPAC8jypQVgLUBwQnSwN4LCJOqW97ZO9tzE+di4gnAX8JrM3Me4GTqV45fAK4HXgpVYhAFWL715dHqxtVZn4auI1qOoHMPHUkoOoDyruAK+onxRG/A/wA+HeqJ5TXR8R+9VzzS5vqHqB6zImIpVTz11CdxXR7Zl4F3DLGeL8CnBsR8+vr7wH+NjO3Ue0dn1vf/rHUr5Y69PltYCvwAeCbmflv9XZPpppaekdmfpbqgPRRbcbzALAwIvoiYh71707TGN9SrzuQ6iD8+RFxNNWriEZmfoDqMX5epzFq4gz22Wkd8G9AUgXw4VR/sEdN1h3UUwgvBwYiYhNwEfBj4OcdNvlQvXd8B/Atqr3V19TrrgWWRsTdwB1UB2KfGRFzgFuBIyPis2PUdeN84NSIWNamn9VUZ8x8KSIyIr4L/AmwLDN3ApdTHXj9Z6qQbz4w+A7gzfUUxR9TBTHAp4FDIqIBfKfu+Sl1YLa6HvgicGtEfJtq+uXset0fAWfWfb+L6mc6mqup5tOvburvIaqwv6M+XfJiqmMKrb8TN1D9rvxLPZ5bmta9ierA7d3143A38MHMvAv4e6pppNupDuBeOMYYNQF9fmyveiUiPgRcmZk/qQ+g3QUcWYdI0eqDqw9m5sB0j0Wzj6c7qpd+AHw1In7J7lMPiw91abq5xy5JhXGOXZIKY7BLUmEMdkkqzD5x8HRwcNCJfkkah4ULF+7xJrx9ItgBFi7cm4+k2K3RaNDf3z/Jo5k57N/+7X/29j84ONh2uVMxklQYg12SCmOwS1JhDHZJKozBLkmFMdglqTBdne4YEe8ETqP6UP1rqD6qczXVZ2tvBlZl5q6IuAxYQfUZ2Rdk5m0RcVS72knuQ5JUG3OPvf5igBdQfVvLEuDpwFXAJZl5ItWn9p1ef8D/EqpvTTmT3Z/1vEftJPcgSWrSzR77MqoPzL+R6iu83kb1RcgjH7C/FngJ1Zc2rMvMYeC+iJgbEYcCC9vU3jhpHUjSNDni4pvGLhrFvZevmKSRPFE3wX4I1XdjrgSeSfV1V3PqAAd4BFhAFfrbmrYbWd7XpnYPjcZYX/rS3tDQ0Li3LYH927/9z9z+ezX2boJ9G/Dd+pvMMyKGqKZjRswDHgK215dbl+9qs2wP431b8Gx/S7H927/9T2f/Wye09UTHPpGPFPgGcEr9BbWHUX2n4VfruXeA5cB6qu9HXBYRcyLicKq9+geBTW1qJUk9MuYee2Z+MSJeRPUN7nOAVcD3gesi4gCqL85dk5k7I2I9sLGpDqovMX5C7eS3IUka0dXpjpn59jaLl7SpGwAGWpZtaVcrSeoN36AkSYUx2CWpMAa7JBXGYJekwhjsklQYg12SCmOwS1JhDHZJKozBLkmFMdglqTAGuyQVxmCXpMIY7JJUGINdkgpjsEtSYQx2SSqMwS5JhTHYJakwBrskFcZgl6TCGOySVBiDXZIKY7BLUmEMdkkqjMEuSYUx2CWpMHO7KYqITcDD9dXvA58EPgrsANZl5rsjYg5wDXA08BhwbmbeExGLW2snuQdJUpMxgz0iDgLIzKVNy+4EXg5sBW6KiGOBI4CDMvP4Osw/DJwOXNtam5l3THIfkqRaN3vsRwMHR8S6un4AODAzvwcQEV8B/jPwVODLAJl5a0QcFxHzO9Qa7JLUI90E+8+BK4Hrgd8G1gIPNa1/BDgSmM/u6RqAnfWy7W1q99BoNLoedLOhoaFxb1sC+7d/+5+5/fdq7N0E+xbgnswcBrZExMPAU5rWz6MK+oPryyPmUIX6vDa1e+jv79+LYe/WaDTGvW0J7N/+7X86+986oa0nOvbBwcG2y7s5K+a1VPPlRMRhVAH+s4j4rYjoA5YB64ENwKl13WLg7szcDjzeplaS1CPd7LH/d2B1RHwDGKYK+l3ADcB+VGe6fCsi/gk4OSK+CfQB59Tbv7G1dpJ7kCQ1GTPYM/Nx4JVtVi1uqdtFFeKt29/aWitJ6h3foCRJhTHYJakwBrskFcZgl6TCGOySVBiDXZIKY7BLUmEMdkkqjMEuSYUx2CWpMAa7JBXGYJekwhjsklQYg12SCmOwS1JhDHZJKozBLkmFMdglqTAGuyQVxmCXpMIY7JJUGINdkgpjsEtSYQx2SSqMwS5JhTHYJakwBrskFWZuN0UR8WvAIHAysANYDQwDm4FVmbkrIi4DVtTrL8jM2yLiqHa1k92EJGm3MffYI2J/4JPAL+pFVwGXZOaJQB9wekQcCywBFgFnAld3qp3c4UuSWnUzFXMlcC1wf319IXBLfXktcBJwArAuM4cz8z5gbkQc2qFWktRDo07FRMTZwAOZ+ZWIeGe9uC8zh+vLjwALgPnAtqZNR5a3q22r0Wjs/eiBoaGhcW9bAvu3f/ufuf33auxjzbG/FhiOiJOAY4C/AX6taf084CFge325dfmuNsva6u/v737UTRqNxri3LYH927/9T2f/Wye09UTHPjg42Hb5qFMxmfmizFySmUuBO4FXA2sjYmldshxYD2wAlkXEnIg4HJiTmQ8Cm9rUSpJ6qKuzYlpcBFwXEQcADWBNZu6MiPXARqoni1WdaidhzJKkUXQd7PVe+4glbdYPAAMty7a0q5Uk9Y5vUJKkwhjsklQYg12SCmOwS1JhDHZJKozBLkmFMdglqTAGuyQVxmCXpMIY7JJUGINdkgpjsEtSYQx2SSqMwS5JhTHYJakwBrskFcZgl6TCGOySVBiDXZIKY7BLUmEMdkkqjMEuSYUx2CWpMAa7JBXGYJekwhjsklSYuWMVRMR+wHVAADuBc4A+YDUwDGwGVmXmroi4DFgB7AAuyMzbIuKodrWT34okCbrbY/8DgMx8IXApcFX975LMPJEq5E+PiGOBJcAi4Ezg6nr7PWontQNJ0hOMGeyZ+TngvPrqM4CfAAuBW+pla4GTgBOAdZk5nJn3AXMj4tAOtZKkHhlzKgYgM3dExKeAPwTOAFZm5nC9+hFgATAf2Na02cjyvja1e2g0Gns/emBoaGjc25bA/u3f/mdu/70ae1fBDpCZr4mIdwDfAp7UtGoe8BCwvb7cunxXm2V76O/v73YoT9BoNMa9bQns3/7tfzr73zqhrSc69sHBwbbLx5yKiYg/joh31ld/ThXUt0fE0nrZcmA9sAFYFhFzIuJwYE5mPghsalMrSeqRbvbYPwv8dUR8HdgfuABoANdFxAH15TWZuTMi1gMbqZ4wVtXbX9RaO8k9SJKajBnsmfkz4L+0WbWkTe0AMNCybEu7WklSb/gGJUkqjMEuSYUx2CWpMAa7JBXGYJekwhjsklQYg12SCmOwS1JhDHZJKozBLkmFMdglqTAGuyQVxmCXpMIY7JJUGINdkgpjsEtSYQx2SSqMwS5JhTHYJakwBrskFcZgl6TCGOySVBiDXZIKY7BLUmEMdkkqjMEuSYWZO9rKiNgf+CvgCOBA4H3Ad4DVwDCwGViVmbsi4jJgBbADuCAzb4uIo9rV9qQTSRIw9h77q4BtmXkisBz4OHAVcEm9rA84PSKOBZYAi4Azgavr7feonfwWJEnNxgr2/wW8q+n6DmAhcEt9fS1wEnACsC4zhzPzPmBuRBzaoVaS1EOjTsVk5qMAETEPWANcAlyZmcN1ySPAAmA+sK1p05HlfW1qJUk9NGqwA0TE04EbgWsy8+8i4oNNq+cBDwHb68uty3e1WdZWo9HYi2HvNjQ0NO5tS2D/9m//M7f/Xo19rIOnvw6sA87PzK/WizdFxNLMvJlq3v1rwD3AByPiSuBpwJzMfDAi2tW21d/fP64GGo3GuLctgf3bv/1PZ/9bJ7T1RMc+ODjYdvlYe+x/DvwH4F0RMTLX/mbgYxFxANAA1mTmzohYD2ykmrdfVddeBFzXXDuhLiRJYxprjv3NVEHeakmb2gFgoGXZlna1kqTe8Q1KklQYg12SCmOwS1JhDHZJKozBLkmFMdglqTAGuyQVxmCXpMIY7JJUGINdkgpjsEtSYQx2SSqMwS5JhTHYJakwBrskFcZgl6TCGOySVBiDXZIKY7BLUmEMdkkqjMEuSYUx2CWpMAa7JBXGYJekwsyd7gFImr2OuPimSbiVrePe8t7LV0zC/e973GOXpMIY7JJUmK6mYiJiEXBFZi6NiKOA1cAwsBlYlZm7IuIyYAWwA7ggM2/rVDv5bUiSRoy5xx4RbweuBw6qF10FXJKZJwJ9wOkRcSywBFgEnAlc3al2cocvSWrVzVTM94CXNV1fCNxSX14LnAScAKzLzOHMvA+YGxGHdqiVJPXQmFMxmfmZiDiiaVFfZg7Xlx8BFgDzgW1NNSPL29W21Wg09mLYuw0NDY172xLYv/3P5v4narofu17d/3hOd2yeI58HPARsry+3Lm9X21Z/f/84hlI9MOPdtgT2b/8zu//xn6o4GSb+2E1s/BO9/8HBwbbLx3NWzKaIWFpfXg6sBzYAyyJiTkQcDszJzAc71EqSemg8e+wXAddFxAFAA1iTmTsjYj2wkerJYlWn2kkYsyRpFF0Fe2beCyyuL2+hOgOmtWYAGGhZ1rZWktQ7vkFJkgpjsEtSYQx2SSqMwS5JhTHYJakwBrskFcZgl6TCGOySVBiDXZIKY7BLUmEMdkkqjMEuSYUx2CWpMAa7JBXGYJekwhjsklQYg12SCmOwS1JhxvOdp5IEwBEX3zTdQ1Ab7rFLUmEMdkkqjMEuSYVxjl3SrFXqMQL32CWpMAa7JBXGYJekwvR8jj0i5gDXAEcDjwHnZuY9vb5fSZqtpuLg6UuBgzLz+IhYDHwYOH0K7lfSGEo9eDjbTcVUzAnAlwEy81bguCm4T0matfqGh4d7egcRcT3wmcxcW1+/DzgyM3eM1AwODvZ2EJJUqIULF/a1LpuKqZjtwLym63OaQx3aD0ySND5TMRWzATgVoJ5jv3sK7lOSZq2p2GO/ETg5Ir4J9AHnTMF9StKs1fM59sky1mmTEfF64A3ADuB9mfnFaRloj3TR/1uAM+urX8rMd0/9KHunm9Nm65qbgM9n5rVTP8re6eLnvxy4rL56B7AqM2fGH3cXuuj/rcAfAbuA92fmjdMy0H3ETHqD0v8/bRK4mOq0SQAi4jeANwEvBJYBH4iIA6dllL0zWv9HAmcBLwCOB14SEc+ZllH2Tsf+m7wPeMqUjmrqjPbznwd8CFiZmYuBe4FDpmOQPTRa/0+m+vs/HngJ8JfTMsJ9yEwK9tFOm3w+sCEzH8vMh4F7gNKCbbT+/xU4JTN3ZuYuYH9gaOqH2FOjnjYbEWdQ7a2tnfqhTYnR+n8B1bGrD0fEeuAnmfnA1A+xp0br/2fAD4Bfqf/tmvLR7WNmUrDPBx5uur4zIuZ2WPcIsGCqBjZFOvafmb/MzAcjoi8irgQ2ZeaWaRll73TsPyJ+F3glcOl0DGyKjPb7fwjwYuAdwHLggoj4T1M8vl4brX+odm6+QzUN9bGpHNi+aCYF+2inTbaumwc8NFUDmyKjnjYaEQcBN9Q1fzrFY5sKo/X/auA3gX8EzgYujIhTpnZ4PTda/9uAf8rMH2fmo8DXgWOmeoA9Nlr/y4GnAs8EDgdeGhHPn+Lx7VNmUrCPdtrkbcCJEXFQRCwA+oHNUz/EnurYf0T0AZ8H7srMN2TmzukZYk917D8z356ZizJzKbAauCozvzwdg+yh0X7/B4HfjYhD6r3YxVR7ryUZrf9/B34BPJaZQ1Q7dU+e8hHuQ2biWTHPYfdpk6cC92TmF+qzYs6jerJ6f2Z+ZtoG2wOj9Q/sB3wauLVpk3dm5sapHmevjPXzb6obAH5c8FkxnX7/zwTeVpf/fWZeMT0j7Y0u+n83cArV/Po3gLeXdFbQ3poxwS5J6s5MmoqRJHXBYJekwhjsklQYg12SCmOwS1JhDHZJKozBLkmFMdglqTD/D47jN551/3g8AAAAAElFTkSuQmCC\n",
>>>>>>> Stashed changes
      "text/plain": [
       "<Figure size 432x288 with 1 Axes>"
      ]
     },
     "metadata": {
      "needs_background": "light"
     },
     "output_type": "display_data"
    }
   ],
   "source": [
    "a = np.array(r2_train_scores) \n",
    "plt.hist(a, bins = hbins)\n",
    "plt.title(\"Training Data R-Squared Values\") \n",
    "plt.show()"
   ]
  },
  {
   "cell_type": "code",
<<<<<<< Updated upstream
   "execution_count": 38,
=======
   "execution_count": 85,
>>>>>>> Stashed changes
   "metadata": {},
   "outputs": [
    {
     "data": {
<<<<<<< Updated upstream
      "image/png": "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\n",
=======
      "image/png": "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\n",
>>>>>>> Stashed changes
      "text/plain": [
       "<Figure size 432x288 with 1 Axes>"
      ]
     },
     "metadata": {
      "needs_background": "light"
     },
     "output_type": "display_data"
    }
   ],
   "source": [
    "a = np.array(r2_test_scores) \n",
    "plt.hist(a, bins = hbins) \n",
    "plt.title(\"Testing Data R-Squared Values\") \n",
    "plt.show()"
   ]
  },
  {
   "cell_type": "code",
<<<<<<< Updated upstream
   "execution_count": 39,
=======
   "execution_count": 86,
>>>>>>> Stashed changes
   "metadata": {},
   "outputs": [
    {
     "data": {
      "text/plain": [
<<<<<<< Updated upstream
       "0.7432438800086355"
      ]
     },
     "execution_count": 39,
=======
       "0.7394495439436867"
      ]
     },
     "execution_count": 86,
>>>>>>> Stashed changes
     "metadata": {},
     "output_type": "execute_result"
    }
   ],
   "source": [
    "np.mean(a)"
   ]
  },
  {
   "cell_type": "code",
<<<<<<< Updated upstream
   "execution_count": 40,
=======
   "execution_count": 87,
>>>>>>> Stashed changes
   "metadata": {},
   "outputs": [
    {
     "data": {
      "text/plain": [
<<<<<<< Updated upstream
       "0.7849145471020766"
      ]
     },
     "execution_count": 40,
=======
       "0.7601259924323204"
      ]
     },
     "execution_count": 87,
>>>>>>> Stashed changes
     "metadata": {},
     "output_type": "execute_result"
    }
   ],
   "source": [
    "np.median(a)"
   ]
  },
  {
   "cell_type": "code",
<<<<<<< Updated upstream
   "execution_count": 41,
=======
   "execution_count": 88,
>>>>>>> Stashed changes
   "metadata": {},
   "outputs": [
    {
     "data": {
      "text/plain": [
<<<<<<< Updated upstream
       "ModeResult(mode=array([0.921]), count=array([52]))"
      ]
     },
     "execution_count": 41,
=======
       "ModeResult(mode=array([0.915]), count=array([54]))"
      ]
     },
     "execution_count": 88,
>>>>>>> Stashed changes
     "metadata": {},
     "output_type": "execute_result"
    }
   ],
   "source": [
    "a = np.around(a, decimals = 3)\n",
    "stats.mode(a, axis=None)"
   ]
  },
  {
   "cell_type": "code",
<<<<<<< Updated upstream
   "execution_count": 42,
=======
   "execution_count": 89,
>>>>>>> Stashed changes
   "metadata": {},
   "outputs": [
    {
     "data": {
      "text/plain": [
       "{'alpha': 0,\n",
       " 'copy_X': True,\n",
       " 'fit_intercept': True,\n",
       " 'max_iter': None,\n",
       " 'normalize': False,\n",
       " 'random_state': None,\n",
       " 'solver': 'auto',\n",
       " 'tol': 0.001}"
      ]
     },
<<<<<<< Updated upstream
     "execution_count": 42,
=======
     "execution_count": 89,
>>>>>>> Stashed changes
     "metadata": {},
     "output_type": "execute_result"
    }
   ],
   "source": [
    "rr.get_params()"
   ]
  },
  {
   "cell_type": "code",
   "execution_count": 43,
<<<<<<< Updated upstream
   "metadata": {},
   "outputs": [
    {
     "data": {
      "text/html": [
       "<div>\n",
       "<style scoped>\n",
       "    .dataframe tbody tr th:only-of-type {\n",
       "        vertical-align: middle;\n",
       "    }\n",
       "\n",
       "    .dataframe tbody tr th {\n",
       "        vertical-align: top;\n",
       "    }\n",
       "\n",
       "    .dataframe thead th {\n",
       "        text-align: right;\n",
       "    }\n",
       "</style>\n",
       "<table border=\"1\" class=\"dataframe\">\n",
       "  <thead>\n",
       "    <tr style=\"text-align: right;\">\n",
       "      <th></th>\n",
       "      <th>Categorical_Assign</th>\n",
       "      <th>Goal</th>\n",
       "      <th>Number_of_Donors</th>\n",
       "      <th>Followers</th>\n",
       "      <th>FB_Shares</th>\n",
       "      <th>Number_of_Donations</th>\n",
       "    </tr>\n",
       "  </thead>\n",
       "  <tbody>\n",
       "    <tr>\n",
       "      <th>0</th>\n",
       "      <td>10</td>\n",
       "      <td>9.412042</td>\n",
       "      <td>7.557339</td>\n",
       "      <td>7.755310</td>\n",
       "      <td>10.818038</td>\n",
       "      <td>7.487609</td>\n",
       "    </tr>\n",
       "    <tr>\n",
       "      <th>1</th>\n",
       "      <td>10</td>\n",
       "      <td>2.797580</td>\n",
       "      <td>2.140900</td>\n",
       "      <td>2.181245</td>\n",
       "      <td>6.408449</td>\n",
       "      <td>2.165875</td>\n",
       "    </tr>\n",
       "    <tr>\n",
       "      <th>2</th>\n",
       "      <td>10</td>\n",
       "      <td>3.459026</td>\n",
       "      <td>1.755540</td>\n",
       "      <td>1.736621</td>\n",
       "      <td>1.141705</td>\n",
       "      <td>1.797042</td>\n",
       "    </tr>\n",
       "    <tr>\n",
       "      <th>3</th>\n",
       "      <td>10</td>\n",
       "      <td>2.797580</td>\n",
       "      <td>0.899186</td>\n",
       "      <td>0.923285</td>\n",
       "      <td>1.608379</td>\n",
       "      <td>0.985609</td>\n",
       "    </tr>\n",
       "    <tr>\n",
       "      <th>4</th>\n",
       "      <td>10</td>\n",
       "      <td>1.970772</td>\n",
       "      <td>2.397806</td>\n",
       "      <td>2.452357</td>\n",
       "      <td>0.103595</td>\n",
       "      <td>2.397713</td>\n",
       "    </tr>\n",
       "    <tr>\n",
       "      <th>...</th>\n",
       "      <td>...</td>\n",
       "      <td>...</td>\n",
       "      <td>...</td>\n",
       "      <td>...</td>\n",
       "      <td>...</td>\n",
       "      <td>...</td>\n",
       "    </tr>\n",
       "    <tr>\n",
       "      <th>881</th>\n",
       "      <td>14</td>\n",
       "      <td>-0.443507</td>\n",
       "      <td>-0.164192</td>\n",
       "      <td>-0.164851</td>\n",
       "      <td>-0.399841</td>\n",
       "      <td>-0.166415</td>\n",
       "    </tr>\n",
       "    <tr>\n",
       "      <th>882</th>\n",
       "      <td>14</td>\n",
       "      <td>-0.453428</td>\n",
       "      <td>-0.173504</td>\n",
       "      <td>-0.174177</td>\n",
       "      <td>-0.182124</td>\n",
       "      <td>-0.172632</td>\n",
       "    </tr>\n",
       "    <tr>\n",
       "      <th>883</th>\n",
       "      <td>14</td>\n",
       "      <td>0.482518</td>\n",
       "      <td>-0.169330</td>\n",
       "      <td>-0.170056</td>\n",
       "      <td>-0.337555</td>\n",
       "      <td>-0.171052</td>\n",
       "    </tr>\n",
       "    <tr>\n",
       "      <th>884</th>\n",
       "      <td>14</td>\n",
       "      <td>-0.278145</td>\n",
       "      <td>-0.187527</td>\n",
       "      <td>-0.188492</td>\n",
       "      <td>-0.384127</td>\n",
       "      <td>-0.189388</td>\n",
       "    </tr>\n",
       "    <tr>\n",
       "      <th>885</th>\n",
       "      <td>14</td>\n",
       "      <td>-0.344290</td>\n",
       "      <td>-0.198553</td>\n",
       "      <td>-0.199661</td>\n",
       "      <td>-0.397174</td>\n",
       "      <td>-0.197397</td>\n",
       "    </tr>\n",
       "  </tbody>\n",
       "</table>\n",
       "<p>836 rows × 6 columns</p>\n",
       "</div>"
      ],
      "text/plain": [
       "     Categorical_Assign      Goal  Number_of_Donors  Followers  FB_Shares  \\\n",
       "0                    10  9.412042          7.557339   7.755310  10.818038   \n",
       "1                    10  2.797580          2.140900   2.181245   6.408449   \n",
       "2                    10  3.459026          1.755540   1.736621   1.141705   \n",
       "3                    10  2.797580          0.899186   0.923285   1.608379   \n",
       "4                    10  1.970772          2.397806   2.452357   0.103595   \n",
       "..                  ...       ...               ...        ...        ...   \n",
       "881                  14 -0.443507         -0.164192  -0.164851  -0.399841   \n",
       "882                  14 -0.453428         -0.173504  -0.174177  -0.182124   \n",
       "883                  14  0.482518         -0.169330  -0.170056  -0.337555   \n",
       "884                  14 -0.278145         -0.187527  -0.188492  -0.384127   \n",
       "885                  14 -0.344290         -0.198553  -0.199661  -0.397174   \n",
       "\n",
       "     Number_of_Donations  \n",
       "0               7.487609  \n",
       "1               2.165875  \n",
       "2               1.797042  \n",
       "3               0.985609  \n",
       "4               2.397713  \n",
       "..                   ...  \n",
       "881            -0.166415  \n",
       "882            -0.172632  \n",
       "883            -0.171052  \n",
       "884            -0.189388  \n",
       "885            -0.197397  \n",
       "\n",
       "[836 rows x 6 columns]"
      ]
     },
     "execution_count": 43,
     "metadata": {},
     "output_type": "execute_result"
    }
   ],
   "source": [
    "X"
   ]
  },
  {
   "cell_type": "markdown",
=======
>>>>>>> Stashed changes
   "metadata": {},
   "outputs": [
    {
     "data": {
      "text/html": [
       "<div>\n",
       "<style scoped>\n",
       "    .dataframe tbody tr th:only-of-type {\n",
       "        vertical-align: middle;\n",
       "    }\n",
       "\n",
       "    .dataframe tbody tr th {\n",
       "        vertical-align: top;\n",
       "    }\n",
       "\n",
       "    .dataframe thead th {\n",
       "        text-align: right;\n",
       "    }\n",
       "</style>\n",
       "<table border=\"1\" class=\"dataframe\">\n",
       "  <thead>\n",
       "    <tr style=\"text-align: right;\">\n",
       "      <th></th>\n",
       "      <th>Categorical_Assign</th>\n",
       "      <th>FB_Shares</th>\n",
       "      <th>Number_of_Donations</th>\n",
       "      <th>Number_of_Donors</th>\n",
       "      <th>Goal</th>\n",
       "      <th>Followers</th>\n",
       "    </tr>\n",
       "  </thead>\n",
       "  <tbody>\n",
       "    <tr>\n",
       "      <td>0</td>\n",
       "      <td>10</td>\n",
       "      <td>10.818038</td>\n",
       "      <td>7.487609</td>\n",
       "      <td>7.557339</td>\n",
       "      <td>9.412042</td>\n",
       "      <td>7.755310</td>\n",
       "    </tr>\n",
       "    <tr>\n",
       "      <td>1</td>\n",
       "      <td>10</td>\n",
       "      <td>6.408449</td>\n",
       "      <td>2.165875</td>\n",
       "      <td>2.140900</td>\n",
       "      <td>2.797580</td>\n",
       "      <td>2.181245</td>\n",
       "    </tr>\n",
       "    <tr>\n",
       "      <td>2</td>\n",
       "      <td>10</td>\n",
       "      <td>1.141705</td>\n",
       "      <td>1.797042</td>\n",
       "      <td>1.755540</td>\n",
       "      <td>3.459026</td>\n",
       "      <td>1.736621</td>\n",
       "    </tr>\n",
       "    <tr>\n",
       "      <td>3</td>\n",
       "      <td>10</td>\n",
       "      <td>1.608379</td>\n",
       "      <td>0.985609</td>\n",
       "      <td>0.899186</td>\n",
       "      <td>2.797580</td>\n",
       "      <td>0.923285</td>\n",
       "    </tr>\n",
       "    <tr>\n",
       "      <td>4</td>\n",
       "      <td>10</td>\n",
       "      <td>0.103595</td>\n",
       "      <td>2.397713</td>\n",
       "      <td>2.397806</td>\n",
       "      <td>1.970772</td>\n",
       "      <td>2.452357</td>\n",
       "    </tr>\n",
       "    <tr>\n",
       "      <td>...</td>\n",
       "      <td>...</td>\n",
       "      <td>...</td>\n",
       "      <td>...</td>\n",
       "      <td>...</td>\n",
       "      <td>...</td>\n",
       "      <td>...</td>\n",
       "    </tr>\n",
       "    <tr>\n",
       "      <td>881</td>\n",
       "      <td>14</td>\n",
       "      <td>-0.399841</td>\n",
       "      <td>-0.166415</td>\n",
       "      <td>-0.164192</td>\n",
       "      <td>-0.443507</td>\n",
       "      <td>-0.164851</td>\n",
       "    </tr>\n",
       "    <tr>\n",
       "      <td>882</td>\n",
       "      <td>14</td>\n",
       "      <td>-0.182124</td>\n",
       "      <td>-0.172632</td>\n",
       "      <td>-0.173504</td>\n",
       "      <td>-0.453428</td>\n",
       "      <td>-0.174177</td>\n",
       "    </tr>\n",
       "    <tr>\n",
       "      <td>883</td>\n",
       "      <td>14</td>\n",
       "      <td>-0.337555</td>\n",
       "      <td>-0.171052</td>\n",
       "      <td>-0.169330</td>\n",
       "      <td>0.482518</td>\n",
       "      <td>-0.170056</td>\n",
       "    </tr>\n",
       "    <tr>\n",
       "      <td>884</td>\n",
       "      <td>14</td>\n",
       "      <td>-0.384127</td>\n",
       "      <td>-0.189388</td>\n",
       "      <td>-0.187527</td>\n",
       "      <td>-0.278145</td>\n",
       "      <td>-0.188492</td>\n",
       "    </tr>\n",
       "    <tr>\n",
       "      <td>885</td>\n",
       "      <td>14</td>\n",
       "      <td>-0.397174</td>\n",
       "      <td>-0.197397</td>\n",
       "      <td>-0.198553</td>\n",
       "      <td>-0.344290</td>\n",
       "      <td>-0.199661</td>\n",
       "    </tr>\n",
       "  </tbody>\n",
       "</table>\n",
       "<p>836 rows × 6 columns</p>\n",
       "</div>"
      ],
      "text/plain": [
       "     Categorical_Assign  FB_Shares  Number_of_Donations  Number_of_Donors  \\\n",
       "0                    10  10.818038             7.487609          7.557339   \n",
       "1                    10   6.408449             2.165875          2.140900   \n",
       "2                    10   1.141705             1.797042          1.755540   \n",
       "3                    10   1.608379             0.985609          0.899186   \n",
       "4                    10   0.103595             2.397713          2.397806   \n",
       "..                  ...        ...                  ...               ...   \n",
       "881                  14  -0.399841            -0.166415         -0.164192   \n",
       "882                  14  -0.182124            -0.172632         -0.173504   \n",
       "883                  14  -0.337555            -0.171052         -0.169330   \n",
       "884                  14  -0.384127            -0.189388         -0.187527   \n",
       "885                  14  -0.397174            -0.197397         -0.198553   \n",
       "\n",
       "         Goal  Followers  \n",
       "0    9.412042   7.755310  \n",
       "1    2.797580   2.181245  \n",
       "2    3.459026   1.736621  \n",
       "3    2.797580   0.923285  \n",
       "4    1.970772   2.452357  \n",
       "..        ...        ...  \n",
       "881 -0.443507  -0.164851  \n",
       "882 -0.453428  -0.174177  \n",
       "883  0.482518  -0.170056  \n",
       "884 -0.278145  -0.188492  \n",
       "885 -0.344290  -0.199661  \n",
       "\n",
       "[836 rows x 6 columns]"
      ]
     },
     "execution_count": 43,
     "metadata": {},
     "output_type": "execute_result"
    }
   ],
   "source": [
    "X"
   ]
  },
  {
   "cell_type": "markdown",
   "metadata": {},
   "source": [
    "# Added NLTK "
   ]
  },
  {
   "cell_type": "code",
   "execution_count": 44,
   "metadata": {},
   "outputs": [],
   "source": [
    "reg_df = df[['Amount_Raised', 'Categorical_Assign', 'Goal', 'Number_of_Donations', 'FB_Shares', 'Number_of_Donors', 'Followers']].copy()"
   ]
  },
  {
   "cell_type": "code",
   "execution_count": 45,
   "metadata": {},
   "outputs": [
    {
     "data": {
      "text/html": [
       "<div>\n",
       "<style scoped>\n",
       "    .dataframe tbody tr th:only-of-type {\n",
       "        vertical-align: middle;\n",
       "    }\n",
       "\n",
       "    .dataframe tbody tr th {\n",
       "        vertical-align: top;\n",
       "    }\n",
       "\n",
       "    .dataframe thead th {\n",
       "        text-align: right;\n",
       "    }\n",
       "</style>\n",
       "<table border=\"1\" class=\"dataframe\">\n",
       "  <thead>\n",
       "    <tr style=\"text-align: right;\">\n",
       "      <th></th>\n",
       "      <th>Amount_Raised</th>\n",
       "      <th>Categorical_Assign</th>\n",
       "      <th>Goal</th>\n",
       "      <th>Number_of_Donations</th>\n",
       "      <th>FB_Shares</th>\n",
       "      <th>Number_of_Donors</th>\n",
       "      <th>Followers</th>\n",
       "      <th>Category</th>\n",
       "    </tr>\n",
       "  </thead>\n",
       "  <tbody>\n",
       "    <tr>\n",
<<<<<<< Updated upstream
       "      <th>0</th>\n",
=======
       "      <td>0</td>\n",
>>>>>>> Stashed changes
       "      <td>6.787767</td>\n",
       "      <td>0.625</td>\n",
       "      <td>1.000000</td>\n",
       "      <td>0.340368</td>\n",
       "      <td>1.000000</td>\n",
       "      <td>0.344055</td>\n",
       "      <td>0.350878</td>\n",
       "      <td>Medical</td>\n",
       "    </tr>\n",
       "    <tr>\n",
<<<<<<< Updated upstream
       "      <th>1</th>\n",
=======
       "      <td>1</td>\n",
>>>>>>> Stashed changes
       "      <td>5.431987</td>\n",
       "      <td>0.625</td>\n",
       "      <td>0.297234</td>\n",
       "      <td>0.098455</td>\n",
       "      <td>0.592386</td>\n",
       "      <td>0.097466</td>\n",
       "      <td>0.098687</td>\n",
       "      <td>Medical</td>\n",
       "    </tr>\n",
       "    <tr>\n",
<<<<<<< Updated upstream
       "      <th>2</th>\n",
=======
       "      <td>2</td>\n",
>>>>>>> Stashed changes
       "      <td>2.610111</td>\n",
       "      <td>0.625</td>\n",
       "      <td>0.367511</td>\n",
       "      <td>0.081689</td>\n",
       "      <td>0.105537</td>\n",
       "      <td>0.079923</td>\n",
       "      <td>0.078571</td>\n",
       "      <td>Medical</td>\n",
       "    </tr>\n",
       "    <tr>\n",
<<<<<<< Updated upstream
       "      <th>3</th>\n",
=======
       "      <td>3</td>\n",
>>>>>>> Stashed changes
       "      <td>1.734186</td>\n",
       "      <td>0.625</td>\n",
       "      <td>0.297234</td>\n",
       "      <td>0.044803</td>\n",
       "      <td>0.148676</td>\n",
       "      <td>0.040936</td>\n",
       "      <td>0.041773</td>\n",
       "      <td>Medical</td>\n",
       "    </tr>\n",
       "    <tr>\n",
<<<<<<< Updated upstream
       "      <th>4</th>\n",
=======
       "      <td>4</td>\n",
>>>>>>> Stashed changes
       "      <td>1.414907</td>\n",
       "      <td>0.625</td>\n",
       "      <td>0.209388</td>\n",
       "      <td>0.108994</td>\n",
       "      <td>0.009576</td>\n",
       "      <td>0.109162</td>\n",
       "      <td>0.110954</td>\n",
       "      <td>Medical</td>\n",
       "    </tr>\n",
       "    <tr>\n",
<<<<<<< Updated upstream
       "      <th>...</th>\n",
=======
       "      <td>...</td>\n",
>>>>>>> Stashed changes
       "      <td>...</td>\n",
       "      <td>...</td>\n",
       "      <td>...</td>\n",
       "      <td>...</td>\n",
       "      <td>...</td>\n",
       "      <td>...</td>\n",
       "      <td>...</td>\n",
       "      <td>...</td>\n",
       "    </tr>\n",
       "    <tr>\n",
<<<<<<< Updated upstream
       "      <th>881</th>\n",
=======
       "      <td>881</td>\n",
>>>>>>> Stashed changes
       "      <td>-0.305692</td>\n",
       "      <td>0.875</td>\n",
       "      <td>-0.047121</td>\n",
       "      <td>-0.007565</td>\n",
       "      <td>-0.036961</td>\n",
       "      <td>-0.007475</td>\n",
       "      <td>-0.007458</td>\n",
       "      <td>Wishes</td>\n",
       "    </tr>\n",
       "    <tr>\n",
<<<<<<< Updated upstream
       "      <th>882</th>\n",
=======
       "      <td>882</td>\n",
>>>>>>> Stashed changes
       "      <td>-0.299621</td>\n",
       "      <td>0.875</td>\n",
       "      <td>-0.048175</td>\n",
       "      <td>-0.007847</td>\n",
       "      <td>-0.016835</td>\n",
       "      <td>-0.007899</td>\n",
       "      <td>-0.007880</td>\n",
       "      <td>Wishes</td>\n",
       "    </tr>\n",
       "    <tr>\n",
<<<<<<< Updated upstream
       "      <th>883</th>\n",
=======
       "      <td>883</td>\n",
>>>>>>> Stashed changes
       "      <td>-0.292980</td>\n",
       "      <td>0.875</td>\n",
       "      <td>0.051266</td>\n",
       "      <td>-0.007776</td>\n",
       "      <td>-0.031203</td>\n",
       "      <td>-0.007709</td>\n",
       "      <td>-0.007694</td>\n",
       "      <td>Wishes</td>\n",
       "    </tr>\n",
       "    <tr>\n",
<<<<<<< Updated upstream
       "      <th>884</th>\n",
=======
       "      <td>884</td>\n",
>>>>>>> Stashed changes
       "      <td>-0.308625</td>\n",
       "      <td>0.875</td>\n",
       "      <td>-0.029552</td>\n",
       "      <td>-0.008609</td>\n",
       "      <td>-0.035508</td>\n",
       "      <td>-0.008537</td>\n",
       "      <td>-0.008528</td>\n",
       "      <td>Wishes</td>\n",
       "    </tr>\n",
       "    <tr>\n",
<<<<<<< Updated upstream
       "      <th>885</th>\n",
=======
       "      <td>885</td>\n",
>>>>>>> Stashed changes
       "      <td>-0.303960</td>\n",
       "      <td>0.875</td>\n",
       "      <td>-0.036580</td>\n",
       "      <td>-0.008973</td>\n",
       "      <td>-0.036714</td>\n",
       "      <td>-0.009039</td>\n",
       "      <td>-0.009033</td>\n",
       "      <td>Wishes</td>\n",
       "    </tr>\n",
       "  </tbody>\n",
       "</table>\n",
       "<p>836 rows × 8 columns</p>\n",
       "</div>"
      ],
      "text/plain": [
       "     Amount_Raised  Categorical_Assign      Goal  Number_of_Donations  \\\n",
       "0         6.787767               0.625  1.000000             0.340368   \n",
       "1         5.431987               0.625  0.297234             0.098455   \n",
       "2         2.610111               0.625  0.367511             0.081689   \n",
       "3         1.734186               0.625  0.297234             0.044803   \n",
       "4         1.414907               0.625  0.209388             0.108994   \n",
       "..             ...                 ...       ...                  ...   \n",
       "881      -0.305692               0.875 -0.047121            -0.007565   \n",
       "882      -0.299621               0.875 -0.048175            -0.007847   \n",
       "883      -0.292980               0.875  0.051266            -0.007776   \n",
       "884      -0.308625               0.875 -0.029552            -0.008609   \n",
       "885      -0.303960               0.875 -0.036580            -0.008973   \n",
       "\n",
       "     FB_Shares  Number_of_Donors  Followers Category  \n",
       "0     1.000000          0.344055   0.350878  Medical  \n",
       "1     0.592386          0.097466   0.098687  Medical  \n",
       "2     0.105537          0.079923   0.078571  Medical  \n",
       "3     0.148676          0.040936   0.041773  Medical  \n",
       "4     0.009576          0.109162   0.110954  Medical  \n",
       "..         ...               ...        ...      ...  \n",
       "881  -0.036961         -0.007475  -0.007458   Wishes  \n",
       "882  -0.016835         -0.007899  -0.007880   Wishes  \n",
       "883  -0.031203         -0.007709  -0.007694   Wishes  \n",
       "884  -0.035508         -0.008537  -0.008528   Wishes  \n",
       "885  -0.036714         -0.009039  -0.009033   Wishes  \n",
       "\n",
       "[836 rows x 8 columns]"
      ]
     },
     "execution_count": 45,
     "metadata": {},
     "output_type": "execute_result"
    }
   ],
   "source": [
    "target_column = ['Amount_Raised']\n",
    "predictors = list(set(list(reg_df.columns))-set(target_column))\n",
    "reg_df[predictors] = reg_df[predictors]/reg_df[predictors].max()\n",
    "reg_df['Category'] = df['Category']\n",
    "reg_df = reg_df.dropna()\n",
    "reg_df"
   ]
  },
  {
   "cell_type": "code",
   "execution_count": 46,
   "metadata": {},
   "outputs": [],
   "source": [
    "predictors.append('Text')\n",
    "X = df[predictors]#.values\n",
    "y = df[target_column]#.values"
   ]
  },
  {
   "cell_type": "code",
   "execution_count": 47,
   "metadata": {},
   "outputs": [
    {
     "name": "stdout",
     "output_type": "stream",
     "text": [
      "(585, 7)\n",
      "(251, 7)\n"
     ]
    }
   ],
   "source": [
    "X_train, X_test, y_train, y_test = train_test_split(X, y, test_size=0.30, random_state=10, shuffle=True)\n",
    "print(X_train.shape); print(X_test.shape)"
   ]
  },
  {
   "cell_type": "code",
   "execution_count": 48,
   "metadata": {},
   "outputs": [],
   "source": [
    "REPLACE_BY_SPACE_RE = re.compile('[/(){}\\[\\]\\|@,;]')\n",
    "BAD_SYMBOLS_RE = re.compile('[^0-9a-z #+_]')\n",
    "STOPWORDS = set(stopwords.words('english'))\n",
    "REPLACE_IP_ADDRESS = re.compile(r'\\b(?:[0-9]{1,3}\\.){3}[0-9]{1,3}\\b')\n",
    "\n",
    "def clean_text(x):\n",
    "    ## normalizing text by stripping white space and lower casing\n",
    "    x =  x.lower().strip()\n",
    "    ## removing urls\n",
    "    x = re.sub(r'(?i)\\b((?:https?://|www\\d{0,3}[.]|[a-z0-9.\\-]+[.][a-z]{2,4}/)(?:[^\\s()<>]+|\\(([^\\s()<>]+|(\\([^\\s()<>]+\\)))*\\))+(?:\\(([^\\s()<>]+|(\\([^\\s()<>]+\\)))*\\)|[^\\s`!()\\[\\]{};:\\'\".,<>?«»“”‘’]))', '', x)\n",
    "    ## removing phone numbers\n",
    "    x = re.sub('\\([0-9]{3}\\)\\s*[0-9]{3}-[0-9]{4}','',x)\n",
    "    ## strip all non alphanumeric things\n",
    "    x = re.sub('\\n',' ',x)\n",
    "    x = re.sub(\"[^a-zA-Z0-9 #]\",'',x)\n",
    "    x = re.sub(\"\\s+\",' ',x)\n",
    "    text = x.replace('\\n', ' ').lower()# lowercase text\n",
    "    text = REPLACE_IP_ADDRESS.sub('', text) # remove ip address\n",
    "    text = REPLACE_BY_SPACE_RE.sub(' ',text)# replace REPLACE_BY_SPACE_RE symbols by space in text\n",
    "    text = BAD_SYMBOLS_RE.sub('',text)# delete symbols which are in BAD_SYMBOLS_RE from text\n",
    "    text = ' '.join([w for w in text.split() if not w in STOPWORDS])# delete stopwords from text\n",
    "    \n",
    "    return text"
   ]
  },
  {
   "cell_type": "code",
   "execution_count": 49,
   "metadata": {},
   "outputs": [],
   "source": [
    "p1 = Pipeline([('clean',FunctionTransformer(lambda x: x['Text'].apply(clean_text))),('tfidf', TfidfVectorizer(ngram_range=(1,2), max_df=0.9, min_df=5))])\n",
    "\n",
    "p2 = Pipeline([('identity', FunctionTransformer(lambda x: x))])\n",
    "\n",
    "ctrans = ColumnTransformer(transformers=[('log', p1, ['Text']), ('identity',p2,predictors[:-1])])\n",
    "\n",
    "p3 = Pipeline(steps=[('preprocessor', ctrans), ('regressor', Ridge(alpha=0))])\n"
   ]
  },
  {
   "cell_type": "code",
   "execution_count": 50,
   "metadata": {},
   "outputs": [
    {
<<<<<<< Updated upstream
     "name": "stdout",
     "output_type": "stream",
     "text": [
      "0.000777685493529213\n",
      "0.9999994737780907\n"
=======
     "name": "stderr",
     "output_type": "stream",
     "text": [
      "C:\\Users\\sddjl\\Anaconda3\\lib\\site-packages\\sklearn\\preprocessing\\_function_transformer.py:97: FutureWarning: The default validate=True will be replaced by validate=False in 0.22.\n",
      "  \"validate=False in 0.22.\", FutureWarning)\n"
     ]
    },
    {
     "ename": "ValueError",
     "evalue": "could not convert string to float: \"At just 21 years old, Katey Malin has been bravely fighting ependymoma brain cancer since 2015. She has spent time at St.Judes Children's Hospital and here in Austin at Dell Children's Hospital undergoing extensive surgeries and treatments. Katey is a graduate of Leander High School where she was a proud Blue Belle and even through all of her hospital stays has still kept up and succeeded with her classes at Texas State University. Everyone who knows Katey, knows what a special young lady she is.\\xa0 Katey met Austin in middle school and after her first surgery, they reconnected on Facebook. They went on their first date the following January on Katey's birthday and they they have been together ever since. He has been right be her side through all of this and they are truly a picture of what unconditional love is. On April 23, 2020, Katey went in for a routine scan and port surgery, and the doctors found 3 new spots on her brain. The doctors told Katey's family, her precious parents Ken and Belinda Malin, that\\xa0 it won't be years but months that sweet Katey has left.\\xa0 Austin, Katey's boyfriend made the decision to propose and Katey SAID YES! We are all so happy for Austin and Katey, that even in the midst of all of this, LOVE WINS. Austin and Katey will be married in Burnet, TX on July 18, 2020. As you can imagine, with medical bills, planning a wedding could be stressful and we want to not only take that stress away, but we want to make it THE DREAM WEDDING for Katey and Austin. We also want this money to be used for Austin and Katey to experience as much as they can and make as many memories together as possible. Let's join together, family and friends of the Malin's and Austin and help make this dream come true for a very special young lady and a beautiful couple that deserves the world.\"",
     "output_type": "error",
     "traceback": [
      "\u001b[1;31m---------------------------------------------------------------------------\u001b[0m",
      "\u001b[1;31mValueError\u001b[0m                                Traceback (most recent call last)",
      "\u001b[1;32m<ipython-input-50-fd819d5d62de>\u001b[0m in \u001b[0;36m<module>\u001b[1;34m\u001b[0m\n\u001b[1;32m----> 1\u001b[1;33m \u001b[0mp3\u001b[0m\u001b[1;33m.\u001b[0m\u001b[0mfit\u001b[0m\u001b[1;33m(\u001b[0m\u001b[0mX_train\u001b[0m\u001b[1;33m,\u001b[0m\u001b[0my_train\u001b[0m\u001b[1;33m)\u001b[0m\u001b[1;33m\u001b[0m\u001b[1;33m\u001b[0m\u001b[0m\n\u001b[0m\u001b[0;32m      2\u001b[0m \u001b[0mpred_train_p3\u001b[0m\u001b[1;33m=\u001b[0m \u001b[0mp3\u001b[0m\u001b[1;33m.\u001b[0m\u001b[0mpredict\u001b[0m\u001b[1;33m(\u001b[0m\u001b[0mX_train\u001b[0m\u001b[1;33m)\u001b[0m\u001b[1;33m\u001b[0m\u001b[1;33m\u001b[0m\u001b[0m\n\u001b[0;32m      3\u001b[0m \u001b[0mprint\u001b[0m\u001b[1;33m(\u001b[0m\u001b[0mnp\u001b[0m\u001b[1;33m.\u001b[0m\u001b[0msqrt\u001b[0m\u001b[1;33m(\u001b[0m\u001b[0mmean_squared_error\u001b[0m\u001b[1;33m(\u001b[0m\u001b[0my_train\u001b[0m\u001b[1;33m,\u001b[0m\u001b[0mpred_train_p3\u001b[0m\u001b[1;33m)\u001b[0m\u001b[1;33m)\u001b[0m\u001b[1;33m)\u001b[0m\u001b[1;33m\u001b[0m\u001b[1;33m\u001b[0m\u001b[0m\n\u001b[0;32m      4\u001b[0m \u001b[0mprint\u001b[0m\u001b[1;33m(\u001b[0m\u001b[0mr2_score\u001b[0m\u001b[1;33m(\u001b[0m\u001b[0my_train\u001b[0m\u001b[1;33m,\u001b[0m \u001b[0mpred_train_p3\u001b[0m\u001b[1;33m)\u001b[0m\u001b[1;33m)\u001b[0m\u001b[1;33m\u001b[0m\u001b[1;33m\u001b[0m\u001b[0m\n",
      "\u001b[1;32m~\\Anaconda3\\lib\\site-packages\\sklearn\\pipeline.py\u001b[0m in \u001b[0;36mfit\u001b[1;34m(self, X, y, **fit_params)\u001b[0m\n\u001b[0;32m    350\u001b[0m             \u001b[0mThis\u001b[0m \u001b[0mestimator\u001b[0m\u001b[1;33m\u001b[0m\u001b[1;33m\u001b[0m\u001b[0m\n\u001b[0;32m    351\u001b[0m         \"\"\"\n\u001b[1;32m--> 352\u001b[1;33m         \u001b[0mXt\u001b[0m\u001b[1;33m,\u001b[0m \u001b[0mfit_params\u001b[0m \u001b[1;33m=\u001b[0m \u001b[0mself\u001b[0m\u001b[1;33m.\u001b[0m\u001b[0m_fit\u001b[0m\u001b[1;33m(\u001b[0m\u001b[0mX\u001b[0m\u001b[1;33m,\u001b[0m \u001b[0my\u001b[0m\u001b[1;33m,\u001b[0m \u001b[1;33m**\u001b[0m\u001b[0mfit_params\u001b[0m\u001b[1;33m)\u001b[0m\u001b[1;33m\u001b[0m\u001b[1;33m\u001b[0m\u001b[0m\n\u001b[0m\u001b[0;32m    353\u001b[0m         with _print_elapsed_time('Pipeline',\n\u001b[0;32m    354\u001b[0m                                  self._log_message(len(self.steps) - 1)):\n",
      "\u001b[1;32m~\\Anaconda3\\lib\\site-packages\\sklearn\\pipeline.py\u001b[0m in \u001b[0;36m_fit\u001b[1;34m(self, X, y, **fit_params)\u001b[0m\n\u001b[0;32m    315\u001b[0m                 \u001b[0mmessage_clsname\u001b[0m\u001b[1;33m=\u001b[0m\u001b[1;34m'Pipeline'\u001b[0m\u001b[1;33m,\u001b[0m\u001b[1;33m\u001b[0m\u001b[1;33m\u001b[0m\u001b[0m\n\u001b[0;32m    316\u001b[0m                 \u001b[0mmessage\u001b[0m\u001b[1;33m=\u001b[0m\u001b[0mself\u001b[0m\u001b[1;33m.\u001b[0m\u001b[0m_log_message\u001b[0m\u001b[1;33m(\u001b[0m\u001b[0mstep_idx\u001b[0m\u001b[1;33m)\u001b[0m\u001b[1;33m,\u001b[0m\u001b[1;33m\u001b[0m\u001b[1;33m\u001b[0m\u001b[0m\n\u001b[1;32m--> 317\u001b[1;33m                 **fit_params_steps[name])\n\u001b[0m\u001b[0;32m    318\u001b[0m             \u001b[1;31m# Replace the transformer of the step with the fitted\u001b[0m\u001b[1;33m\u001b[0m\u001b[1;33m\u001b[0m\u001b[1;33m\u001b[0m\u001b[0m\n\u001b[0;32m    319\u001b[0m             \u001b[1;31m# transformer. This is necessary when loading the transformer\u001b[0m\u001b[1;33m\u001b[0m\u001b[1;33m\u001b[0m\u001b[1;33m\u001b[0m\u001b[0m\n",
      "\u001b[1;32m~\\Anaconda3\\lib\\site-packages\\joblib\\memory.py\u001b[0m in \u001b[0;36m__call__\u001b[1;34m(self, *args, **kwargs)\u001b[0m\n\u001b[0;32m    353\u001b[0m \u001b[1;33m\u001b[0m\u001b[0m\n\u001b[0;32m    354\u001b[0m     \u001b[1;32mdef\u001b[0m \u001b[0m__call__\u001b[0m\u001b[1;33m(\u001b[0m\u001b[0mself\u001b[0m\u001b[1;33m,\u001b[0m \u001b[1;33m*\u001b[0m\u001b[0margs\u001b[0m\u001b[1;33m,\u001b[0m \u001b[1;33m**\u001b[0m\u001b[0mkwargs\u001b[0m\u001b[1;33m)\u001b[0m\u001b[1;33m:\u001b[0m\u001b[1;33m\u001b[0m\u001b[1;33m\u001b[0m\u001b[0m\n\u001b[1;32m--> 355\u001b[1;33m         \u001b[1;32mreturn\u001b[0m \u001b[0mself\u001b[0m\u001b[1;33m.\u001b[0m\u001b[0mfunc\u001b[0m\u001b[1;33m(\u001b[0m\u001b[1;33m*\u001b[0m\u001b[0margs\u001b[0m\u001b[1;33m,\u001b[0m \u001b[1;33m**\u001b[0m\u001b[0mkwargs\u001b[0m\u001b[1;33m)\u001b[0m\u001b[1;33m\u001b[0m\u001b[1;33m\u001b[0m\u001b[0m\n\u001b[0m\u001b[0;32m    356\u001b[0m \u001b[1;33m\u001b[0m\u001b[0m\n\u001b[0;32m    357\u001b[0m     \u001b[1;32mdef\u001b[0m \u001b[0mcall_and_shelve\u001b[0m\u001b[1;33m(\u001b[0m\u001b[0mself\u001b[0m\u001b[1;33m,\u001b[0m \u001b[1;33m*\u001b[0m\u001b[0margs\u001b[0m\u001b[1;33m,\u001b[0m \u001b[1;33m**\u001b[0m\u001b[0mkwargs\u001b[0m\u001b[1;33m)\u001b[0m\u001b[1;33m:\u001b[0m\u001b[1;33m\u001b[0m\u001b[1;33m\u001b[0m\u001b[0m\n",
      "\u001b[1;32m~\\Anaconda3\\lib\\site-packages\\sklearn\\pipeline.py\u001b[0m in \u001b[0;36m_fit_transform_one\u001b[1;34m(transformer, X, y, weight, message_clsname, message, **fit_params)\u001b[0m\n\u001b[0;32m    714\u001b[0m     \u001b[1;32mwith\u001b[0m \u001b[0m_print_elapsed_time\u001b[0m\u001b[1;33m(\u001b[0m\u001b[0mmessage_clsname\u001b[0m\u001b[1;33m,\u001b[0m \u001b[0mmessage\u001b[0m\u001b[1;33m)\u001b[0m\u001b[1;33m:\u001b[0m\u001b[1;33m\u001b[0m\u001b[1;33m\u001b[0m\u001b[0m\n\u001b[0;32m    715\u001b[0m         \u001b[1;32mif\u001b[0m \u001b[0mhasattr\u001b[0m\u001b[1;33m(\u001b[0m\u001b[0mtransformer\u001b[0m\u001b[1;33m,\u001b[0m \u001b[1;34m'fit_transform'\u001b[0m\u001b[1;33m)\u001b[0m\u001b[1;33m:\u001b[0m\u001b[1;33m\u001b[0m\u001b[1;33m\u001b[0m\u001b[0m\n\u001b[1;32m--> 716\u001b[1;33m             \u001b[0mres\u001b[0m \u001b[1;33m=\u001b[0m \u001b[0mtransformer\u001b[0m\u001b[1;33m.\u001b[0m\u001b[0mfit_transform\u001b[0m\u001b[1;33m(\u001b[0m\u001b[0mX\u001b[0m\u001b[1;33m,\u001b[0m \u001b[0my\u001b[0m\u001b[1;33m,\u001b[0m \u001b[1;33m**\u001b[0m\u001b[0mfit_params\u001b[0m\u001b[1;33m)\u001b[0m\u001b[1;33m\u001b[0m\u001b[1;33m\u001b[0m\u001b[0m\n\u001b[0m\u001b[0;32m    717\u001b[0m         \u001b[1;32melse\u001b[0m\u001b[1;33m:\u001b[0m\u001b[1;33m\u001b[0m\u001b[1;33m\u001b[0m\u001b[0m\n\u001b[0;32m    718\u001b[0m             \u001b[0mres\u001b[0m \u001b[1;33m=\u001b[0m \u001b[0mtransformer\u001b[0m\u001b[1;33m.\u001b[0m\u001b[0mfit\u001b[0m\u001b[1;33m(\u001b[0m\u001b[0mX\u001b[0m\u001b[1;33m,\u001b[0m \u001b[0my\u001b[0m\u001b[1;33m,\u001b[0m \u001b[1;33m**\u001b[0m\u001b[0mfit_params\u001b[0m\u001b[1;33m)\u001b[0m\u001b[1;33m.\u001b[0m\u001b[0mtransform\u001b[0m\u001b[1;33m(\u001b[0m\u001b[0mX\u001b[0m\u001b[1;33m)\u001b[0m\u001b[1;33m\u001b[0m\u001b[1;33m\u001b[0m\u001b[0m\n",
      "\u001b[1;32m~\\Anaconda3\\lib\\site-packages\\sklearn\\compose\\_column_transformer.py\u001b[0m in \u001b[0;36mfit_transform\u001b[1;34m(self, X, y)\u001b[0m\n\u001b[0;32m    474\u001b[0m         \u001b[0mself\u001b[0m\u001b[1;33m.\u001b[0m\u001b[0m_validate_remainder\u001b[0m\u001b[1;33m(\u001b[0m\u001b[0mX\u001b[0m\u001b[1;33m)\u001b[0m\u001b[1;33m\u001b[0m\u001b[1;33m\u001b[0m\u001b[0m\n\u001b[0;32m    475\u001b[0m \u001b[1;33m\u001b[0m\u001b[0m\n\u001b[1;32m--> 476\u001b[1;33m         \u001b[0mresult\u001b[0m \u001b[1;33m=\u001b[0m \u001b[0mself\u001b[0m\u001b[1;33m.\u001b[0m\u001b[0m_fit_transform\u001b[0m\u001b[1;33m(\u001b[0m\u001b[0mX\u001b[0m\u001b[1;33m,\u001b[0m \u001b[0my\u001b[0m\u001b[1;33m,\u001b[0m \u001b[0m_fit_transform_one\u001b[0m\u001b[1;33m)\u001b[0m\u001b[1;33m\u001b[0m\u001b[1;33m\u001b[0m\u001b[0m\n\u001b[0m\u001b[0;32m    477\u001b[0m \u001b[1;33m\u001b[0m\u001b[0m\n\u001b[0;32m    478\u001b[0m         \u001b[1;32mif\u001b[0m \u001b[1;32mnot\u001b[0m \u001b[0mresult\u001b[0m\u001b[1;33m:\u001b[0m\u001b[1;33m\u001b[0m\u001b[1;33m\u001b[0m\u001b[0m\n",
      "\u001b[1;32m~\\Anaconda3\\lib\\site-packages\\sklearn\\compose\\_column_transformer.py\u001b[0m in \u001b[0;36m_fit_transform\u001b[1;34m(self, X, y, func, fitted)\u001b[0m\n\u001b[0;32m    418\u001b[0m                     message=self._log_message(name, idx, len(transformers)))\n\u001b[0;32m    419\u001b[0m                 for idx, (name, trans, column, weight) in enumerate(\n\u001b[1;32m--> 420\u001b[1;33m                         self._iter(fitted=fitted, replace_strings=True), 1))\n\u001b[0m\u001b[0;32m    421\u001b[0m         \u001b[1;32mexcept\u001b[0m \u001b[0mValueError\u001b[0m \u001b[1;32mas\u001b[0m \u001b[0me\u001b[0m\u001b[1;33m:\u001b[0m\u001b[1;33m\u001b[0m\u001b[1;33m\u001b[0m\u001b[0m\n\u001b[0;32m    422\u001b[0m             \u001b[1;32mif\u001b[0m \u001b[1;34m\"Expected 2D array, got 1D array instead\"\u001b[0m \u001b[1;32min\u001b[0m \u001b[0mstr\u001b[0m\u001b[1;33m(\u001b[0m\u001b[0me\u001b[0m\u001b[1;33m)\u001b[0m\u001b[1;33m:\u001b[0m\u001b[1;33m\u001b[0m\u001b[1;33m\u001b[0m\u001b[0m\n",
      "\u001b[1;32m~\\Anaconda3\\lib\\site-packages\\joblib\\parallel.py\u001b[0m in \u001b[0;36m__call__\u001b[1;34m(self, iterable)\u001b[0m\n\u001b[0;32m    919\u001b[0m             \u001b[1;31m# remaining jobs.\u001b[0m\u001b[1;33m\u001b[0m\u001b[1;33m\u001b[0m\u001b[1;33m\u001b[0m\u001b[0m\n\u001b[0;32m    920\u001b[0m             \u001b[0mself\u001b[0m\u001b[1;33m.\u001b[0m\u001b[0m_iterating\u001b[0m \u001b[1;33m=\u001b[0m \u001b[1;32mFalse\u001b[0m\u001b[1;33m\u001b[0m\u001b[1;33m\u001b[0m\u001b[0m\n\u001b[1;32m--> 921\u001b[1;33m             \u001b[1;32mif\u001b[0m \u001b[0mself\u001b[0m\u001b[1;33m.\u001b[0m\u001b[0mdispatch_one_batch\u001b[0m\u001b[1;33m(\u001b[0m\u001b[0miterator\u001b[0m\u001b[1;33m)\u001b[0m\u001b[1;33m:\u001b[0m\u001b[1;33m\u001b[0m\u001b[1;33m\u001b[0m\u001b[0m\n\u001b[0m\u001b[0;32m    922\u001b[0m                 \u001b[0mself\u001b[0m\u001b[1;33m.\u001b[0m\u001b[0m_iterating\u001b[0m \u001b[1;33m=\u001b[0m \u001b[0mself\u001b[0m\u001b[1;33m.\u001b[0m\u001b[0m_original_iterator\u001b[0m \u001b[1;32mis\u001b[0m \u001b[1;32mnot\u001b[0m \u001b[1;32mNone\u001b[0m\u001b[1;33m\u001b[0m\u001b[1;33m\u001b[0m\u001b[0m\n\u001b[0;32m    923\u001b[0m \u001b[1;33m\u001b[0m\u001b[0m\n",
      "\u001b[1;32m~\\Anaconda3\\lib\\site-packages\\joblib\\parallel.py\u001b[0m in \u001b[0;36mdispatch_one_batch\u001b[1;34m(self, iterator)\u001b[0m\n\u001b[0;32m    757\u001b[0m                 \u001b[1;32mreturn\u001b[0m \u001b[1;32mFalse\u001b[0m\u001b[1;33m\u001b[0m\u001b[1;33m\u001b[0m\u001b[0m\n\u001b[0;32m    758\u001b[0m             \u001b[1;32melse\u001b[0m\u001b[1;33m:\u001b[0m\u001b[1;33m\u001b[0m\u001b[1;33m\u001b[0m\u001b[0m\n\u001b[1;32m--> 759\u001b[1;33m                 \u001b[0mself\u001b[0m\u001b[1;33m.\u001b[0m\u001b[0m_dispatch\u001b[0m\u001b[1;33m(\u001b[0m\u001b[0mtasks\u001b[0m\u001b[1;33m)\u001b[0m\u001b[1;33m\u001b[0m\u001b[1;33m\u001b[0m\u001b[0m\n\u001b[0m\u001b[0;32m    760\u001b[0m                 \u001b[1;32mreturn\u001b[0m \u001b[1;32mTrue\u001b[0m\u001b[1;33m\u001b[0m\u001b[1;33m\u001b[0m\u001b[0m\n\u001b[0;32m    761\u001b[0m \u001b[1;33m\u001b[0m\u001b[0m\n",
      "\u001b[1;32m~\\Anaconda3\\lib\\site-packages\\joblib\\parallel.py\u001b[0m in \u001b[0;36m_dispatch\u001b[1;34m(self, batch)\u001b[0m\n\u001b[0;32m    714\u001b[0m         \u001b[1;32mwith\u001b[0m \u001b[0mself\u001b[0m\u001b[1;33m.\u001b[0m\u001b[0m_lock\u001b[0m\u001b[1;33m:\u001b[0m\u001b[1;33m\u001b[0m\u001b[1;33m\u001b[0m\u001b[0m\n\u001b[0;32m    715\u001b[0m             \u001b[0mjob_idx\u001b[0m \u001b[1;33m=\u001b[0m \u001b[0mlen\u001b[0m\u001b[1;33m(\u001b[0m\u001b[0mself\u001b[0m\u001b[1;33m.\u001b[0m\u001b[0m_jobs\u001b[0m\u001b[1;33m)\u001b[0m\u001b[1;33m\u001b[0m\u001b[1;33m\u001b[0m\u001b[0m\n\u001b[1;32m--> 716\u001b[1;33m             \u001b[0mjob\u001b[0m \u001b[1;33m=\u001b[0m \u001b[0mself\u001b[0m\u001b[1;33m.\u001b[0m\u001b[0m_backend\u001b[0m\u001b[1;33m.\u001b[0m\u001b[0mapply_async\u001b[0m\u001b[1;33m(\u001b[0m\u001b[0mbatch\u001b[0m\u001b[1;33m,\u001b[0m \u001b[0mcallback\u001b[0m\u001b[1;33m=\u001b[0m\u001b[0mcb\u001b[0m\u001b[1;33m)\u001b[0m\u001b[1;33m\u001b[0m\u001b[1;33m\u001b[0m\u001b[0m\n\u001b[0m\u001b[0;32m    717\u001b[0m             \u001b[1;31m# A job can complete so quickly than its callback is\u001b[0m\u001b[1;33m\u001b[0m\u001b[1;33m\u001b[0m\u001b[1;33m\u001b[0m\u001b[0m\n\u001b[0;32m    718\u001b[0m             \u001b[1;31m# called before we get here, causing self._jobs to\u001b[0m\u001b[1;33m\u001b[0m\u001b[1;33m\u001b[0m\u001b[1;33m\u001b[0m\u001b[0m\n",
      "\u001b[1;32m~\\Anaconda3\\lib\\site-packages\\joblib\\_parallel_backends.py\u001b[0m in \u001b[0;36mapply_async\u001b[1;34m(self, func, callback)\u001b[0m\n\u001b[0;32m    180\u001b[0m     \u001b[1;32mdef\u001b[0m \u001b[0mapply_async\u001b[0m\u001b[1;33m(\u001b[0m\u001b[0mself\u001b[0m\u001b[1;33m,\u001b[0m \u001b[0mfunc\u001b[0m\u001b[1;33m,\u001b[0m \u001b[0mcallback\u001b[0m\u001b[1;33m=\u001b[0m\u001b[1;32mNone\u001b[0m\u001b[1;33m)\u001b[0m\u001b[1;33m:\u001b[0m\u001b[1;33m\u001b[0m\u001b[1;33m\u001b[0m\u001b[0m\n\u001b[0;32m    181\u001b[0m         \u001b[1;34m\"\"\"Schedule a func to be run\"\"\"\u001b[0m\u001b[1;33m\u001b[0m\u001b[1;33m\u001b[0m\u001b[0m\n\u001b[1;32m--> 182\u001b[1;33m         \u001b[0mresult\u001b[0m \u001b[1;33m=\u001b[0m \u001b[0mImmediateResult\u001b[0m\u001b[1;33m(\u001b[0m\u001b[0mfunc\u001b[0m\u001b[1;33m)\u001b[0m\u001b[1;33m\u001b[0m\u001b[1;33m\u001b[0m\u001b[0m\n\u001b[0m\u001b[0;32m    183\u001b[0m         \u001b[1;32mif\u001b[0m \u001b[0mcallback\u001b[0m\u001b[1;33m:\u001b[0m\u001b[1;33m\u001b[0m\u001b[1;33m\u001b[0m\u001b[0m\n\u001b[0;32m    184\u001b[0m             \u001b[0mcallback\u001b[0m\u001b[1;33m(\u001b[0m\u001b[0mresult\u001b[0m\u001b[1;33m)\u001b[0m\u001b[1;33m\u001b[0m\u001b[1;33m\u001b[0m\u001b[0m\n",
      "\u001b[1;32m~\\Anaconda3\\lib\\site-packages\\joblib\\_parallel_backends.py\u001b[0m in \u001b[0;36m__init__\u001b[1;34m(self, batch)\u001b[0m\n\u001b[0;32m    547\u001b[0m         \u001b[1;31m# Don't delay the application, to avoid keeping the input\u001b[0m\u001b[1;33m\u001b[0m\u001b[1;33m\u001b[0m\u001b[1;33m\u001b[0m\u001b[0m\n\u001b[0;32m    548\u001b[0m         \u001b[1;31m# arguments in memory\u001b[0m\u001b[1;33m\u001b[0m\u001b[1;33m\u001b[0m\u001b[1;33m\u001b[0m\u001b[0m\n\u001b[1;32m--> 549\u001b[1;33m         \u001b[0mself\u001b[0m\u001b[1;33m.\u001b[0m\u001b[0mresults\u001b[0m \u001b[1;33m=\u001b[0m \u001b[0mbatch\u001b[0m\u001b[1;33m(\u001b[0m\u001b[1;33m)\u001b[0m\u001b[1;33m\u001b[0m\u001b[1;33m\u001b[0m\u001b[0m\n\u001b[0m\u001b[0;32m    550\u001b[0m \u001b[1;33m\u001b[0m\u001b[0m\n\u001b[0;32m    551\u001b[0m     \u001b[1;32mdef\u001b[0m \u001b[0mget\u001b[0m\u001b[1;33m(\u001b[0m\u001b[0mself\u001b[0m\u001b[1;33m)\u001b[0m\u001b[1;33m:\u001b[0m\u001b[1;33m\u001b[0m\u001b[1;33m\u001b[0m\u001b[0m\n",
      "\u001b[1;32m~\\Anaconda3\\lib\\site-packages\\joblib\\parallel.py\u001b[0m in \u001b[0;36m__call__\u001b[1;34m(self)\u001b[0m\n\u001b[0;32m    223\u001b[0m         \u001b[1;32mwith\u001b[0m \u001b[0mparallel_backend\u001b[0m\u001b[1;33m(\u001b[0m\u001b[0mself\u001b[0m\u001b[1;33m.\u001b[0m\u001b[0m_backend\u001b[0m\u001b[1;33m,\u001b[0m \u001b[0mn_jobs\u001b[0m\u001b[1;33m=\u001b[0m\u001b[0mself\u001b[0m\u001b[1;33m.\u001b[0m\u001b[0m_n_jobs\u001b[0m\u001b[1;33m)\u001b[0m\u001b[1;33m:\u001b[0m\u001b[1;33m\u001b[0m\u001b[1;33m\u001b[0m\u001b[0m\n\u001b[0;32m    224\u001b[0m             return [func(*args, **kwargs)\n\u001b[1;32m--> 225\u001b[1;33m                     for func, args, kwargs in self.items]\n\u001b[0m\u001b[0;32m    226\u001b[0m \u001b[1;33m\u001b[0m\u001b[0m\n\u001b[0;32m    227\u001b[0m     \u001b[1;32mdef\u001b[0m \u001b[0m__len__\u001b[0m\u001b[1;33m(\u001b[0m\u001b[0mself\u001b[0m\u001b[1;33m)\u001b[0m\u001b[1;33m:\u001b[0m\u001b[1;33m\u001b[0m\u001b[1;33m\u001b[0m\u001b[0m\n",
      "\u001b[1;32m~\\Anaconda3\\lib\\site-packages\\joblib\\parallel.py\u001b[0m in \u001b[0;36m<listcomp>\u001b[1;34m(.0)\u001b[0m\n\u001b[0;32m    223\u001b[0m         \u001b[1;32mwith\u001b[0m \u001b[0mparallel_backend\u001b[0m\u001b[1;33m(\u001b[0m\u001b[0mself\u001b[0m\u001b[1;33m.\u001b[0m\u001b[0m_backend\u001b[0m\u001b[1;33m,\u001b[0m \u001b[0mn_jobs\u001b[0m\u001b[1;33m=\u001b[0m\u001b[0mself\u001b[0m\u001b[1;33m.\u001b[0m\u001b[0m_n_jobs\u001b[0m\u001b[1;33m)\u001b[0m\u001b[1;33m:\u001b[0m\u001b[1;33m\u001b[0m\u001b[1;33m\u001b[0m\u001b[0m\n\u001b[0;32m    224\u001b[0m             return [func(*args, **kwargs)\n\u001b[1;32m--> 225\u001b[1;33m                     for func, args, kwargs in self.items]\n\u001b[0m\u001b[0;32m    226\u001b[0m \u001b[1;33m\u001b[0m\u001b[0m\n\u001b[0;32m    227\u001b[0m     \u001b[1;32mdef\u001b[0m \u001b[0m__len__\u001b[0m\u001b[1;33m(\u001b[0m\u001b[0mself\u001b[0m\u001b[1;33m)\u001b[0m\u001b[1;33m:\u001b[0m\u001b[1;33m\u001b[0m\u001b[1;33m\u001b[0m\u001b[0m\n",
      "\u001b[1;32m~\\Anaconda3\\lib\\site-packages\\sklearn\\pipeline.py\u001b[0m in \u001b[0;36m_fit_transform_one\u001b[1;34m(transformer, X, y, weight, message_clsname, message, **fit_params)\u001b[0m\n\u001b[0;32m    714\u001b[0m     \u001b[1;32mwith\u001b[0m \u001b[0m_print_elapsed_time\u001b[0m\u001b[1;33m(\u001b[0m\u001b[0mmessage_clsname\u001b[0m\u001b[1;33m,\u001b[0m \u001b[0mmessage\u001b[0m\u001b[1;33m)\u001b[0m\u001b[1;33m:\u001b[0m\u001b[1;33m\u001b[0m\u001b[1;33m\u001b[0m\u001b[0m\n\u001b[0;32m    715\u001b[0m         \u001b[1;32mif\u001b[0m \u001b[0mhasattr\u001b[0m\u001b[1;33m(\u001b[0m\u001b[0mtransformer\u001b[0m\u001b[1;33m,\u001b[0m \u001b[1;34m'fit_transform'\u001b[0m\u001b[1;33m)\u001b[0m\u001b[1;33m:\u001b[0m\u001b[1;33m\u001b[0m\u001b[1;33m\u001b[0m\u001b[0m\n\u001b[1;32m--> 716\u001b[1;33m             \u001b[0mres\u001b[0m \u001b[1;33m=\u001b[0m \u001b[0mtransformer\u001b[0m\u001b[1;33m.\u001b[0m\u001b[0mfit_transform\u001b[0m\u001b[1;33m(\u001b[0m\u001b[0mX\u001b[0m\u001b[1;33m,\u001b[0m \u001b[0my\u001b[0m\u001b[1;33m,\u001b[0m \u001b[1;33m**\u001b[0m\u001b[0mfit_params\u001b[0m\u001b[1;33m)\u001b[0m\u001b[1;33m\u001b[0m\u001b[1;33m\u001b[0m\u001b[0m\n\u001b[0m\u001b[0;32m    717\u001b[0m         \u001b[1;32melse\u001b[0m\u001b[1;33m:\u001b[0m\u001b[1;33m\u001b[0m\u001b[1;33m\u001b[0m\u001b[0m\n\u001b[0;32m    718\u001b[0m             \u001b[0mres\u001b[0m \u001b[1;33m=\u001b[0m \u001b[0mtransformer\u001b[0m\u001b[1;33m.\u001b[0m\u001b[0mfit\u001b[0m\u001b[1;33m(\u001b[0m\u001b[0mX\u001b[0m\u001b[1;33m,\u001b[0m \u001b[0my\u001b[0m\u001b[1;33m,\u001b[0m \u001b[1;33m**\u001b[0m\u001b[0mfit_params\u001b[0m\u001b[1;33m)\u001b[0m\u001b[1;33m.\u001b[0m\u001b[0mtransform\u001b[0m\u001b[1;33m(\u001b[0m\u001b[0mX\u001b[0m\u001b[1;33m)\u001b[0m\u001b[1;33m\u001b[0m\u001b[1;33m\u001b[0m\u001b[0m\n",
      "\u001b[1;32m~\\Anaconda3\\lib\\site-packages\\sklearn\\pipeline.py\u001b[0m in \u001b[0;36mfit_transform\u001b[1;34m(self, X, y, **fit_params)\u001b[0m\n\u001b[0;32m    385\u001b[0m         \"\"\"\n\u001b[0;32m    386\u001b[0m         \u001b[0mlast_step\u001b[0m \u001b[1;33m=\u001b[0m \u001b[0mself\u001b[0m\u001b[1;33m.\u001b[0m\u001b[0m_final_estimator\u001b[0m\u001b[1;33m\u001b[0m\u001b[1;33m\u001b[0m\u001b[0m\n\u001b[1;32m--> 387\u001b[1;33m         \u001b[0mXt\u001b[0m\u001b[1;33m,\u001b[0m \u001b[0mfit_params\u001b[0m \u001b[1;33m=\u001b[0m \u001b[0mself\u001b[0m\u001b[1;33m.\u001b[0m\u001b[0m_fit\u001b[0m\u001b[1;33m(\u001b[0m\u001b[0mX\u001b[0m\u001b[1;33m,\u001b[0m \u001b[0my\u001b[0m\u001b[1;33m,\u001b[0m \u001b[1;33m**\u001b[0m\u001b[0mfit_params\u001b[0m\u001b[1;33m)\u001b[0m\u001b[1;33m\u001b[0m\u001b[1;33m\u001b[0m\u001b[0m\n\u001b[0m\u001b[0;32m    388\u001b[0m         with _print_elapsed_time('Pipeline',\n\u001b[0;32m    389\u001b[0m                                  self._log_message(len(self.steps) - 1)):\n",
      "\u001b[1;32m~\\Anaconda3\\lib\\site-packages\\sklearn\\pipeline.py\u001b[0m in \u001b[0;36m_fit\u001b[1;34m(self, X, y, **fit_params)\u001b[0m\n\u001b[0;32m    315\u001b[0m                 \u001b[0mmessage_clsname\u001b[0m\u001b[1;33m=\u001b[0m\u001b[1;34m'Pipeline'\u001b[0m\u001b[1;33m,\u001b[0m\u001b[1;33m\u001b[0m\u001b[1;33m\u001b[0m\u001b[0m\n\u001b[0;32m    316\u001b[0m                 \u001b[0mmessage\u001b[0m\u001b[1;33m=\u001b[0m\u001b[0mself\u001b[0m\u001b[1;33m.\u001b[0m\u001b[0m_log_message\u001b[0m\u001b[1;33m(\u001b[0m\u001b[0mstep_idx\u001b[0m\u001b[1;33m)\u001b[0m\u001b[1;33m,\u001b[0m\u001b[1;33m\u001b[0m\u001b[1;33m\u001b[0m\u001b[0m\n\u001b[1;32m--> 317\u001b[1;33m                 **fit_params_steps[name])\n\u001b[0m\u001b[0;32m    318\u001b[0m             \u001b[1;31m# Replace the transformer of the step with the fitted\u001b[0m\u001b[1;33m\u001b[0m\u001b[1;33m\u001b[0m\u001b[1;33m\u001b[0m\u001b[0m\n\u001b[0;32m    319\u001b[0m             \u001b[1;31m# transformer. This is necessary when loading the transformer\u001b[0m\u001b[1;33m\u001b[0m\u001b[1;33m\u001b[0m\u001b[1;33m\u001b[0m\u001b[0m\n",
      "\u001b[1;32m~\\Anaconda3\\lib\\site-packages\\joblib\\memory.py\u001b[0m in \u001b[0;36m__call__\u001b[1;34m(self, *args, **kwargs)\u001b[0m\n\u001b[0;32m    353\u001b[0m \u001b[1;33m\u001b[0m\u001b[0m\n\u001b[0;32m    354\u001b[0m     \u001b[1;32mdef\u001b[0m \u001b[0m__call__\u001b[0m\u001b[1;33m(\u001b[0m\u001b[0mself\u001b[0m\u001b[1;33m,\u001b[0m \u001b[1;33m*\u001b[0m\u001b[0margs\u001b[0m\u001b[1;33m,\u001b[0m \u001b[1;33m**\u001b[0m\u001b[0mkwargs\u001b[0m\u001b[1;33m)\u001b[0m\u001b[1;33m:\u001b[0m\u001b[1;33m\u001b[0m\u001b[1;33m\u001b[0m\u001b[0m\n\u001b[1;32m--> 355\u001b[1;33m         \u001b[1;32mreturn\u001b[0m \u001b[0mself\u001b[0m\u001b[1;33m.\u001b[0m\u001b[0mfunc\u001b[0m\u001b[1;33m(\u001b[0m\u001b[1;33m*\u001b[0m\u001b[0margs\u001b[0m\u001b[1;33m,\u001b[0m \u001b[1;33m**\u001b[0m\u001b[0mkwargs\u001b[0m\u001b[1;33m)\u001b[0m\u001b[1;33m\u001b[0m\u001b[1;33m\u001b[0m\u001b[0m\n\u001b[0m\u001b[0;32m    356\u001b[0m \u001b[1;33m\u001b[0m\u001b[0m\n\u001b[0;32m    357\u001b[0m     \u001b[1;32mdef\u001b[0m \u001b[0mcall_and_shelve\u001b[0m\u001b[1;33m(\u001b[0m\u001b[0mself\u001b[0m\u001b[1;33m,\u001b[0m \u001b[1;33m*\u001b[0m\u001b[0margs\u001b[0m\u001b[1;33m,\u001b[0m \u001b[1;33m**\u001b[0m\u001b[0mkwargs\u001b[0m\u001b[1;33m)\u001b[0m\u001b[1;33m:\u001b[0m\u001b[1;33m\u001b[0m\u001b[1;33m\u001b[0m\u001b[0m\n",
      "\u001b[1;32m~\\Anaconda3\\lib\\site-packages\\sklearn\\pipeline.py\u001b[0m in \u001b[0;36m_fit_transform_one\u001b[1;34m(transformer, X, y, weight, message_clsname, message, **fit_params)\u001b[0m\n\u001b[0;32m    714\u001b[0m     \u001b[1;32mwith\u001b[0m \u001b[0m_print_elapsed_time\u001b[0m\u001b[1;33m(\u001b[0m\u001b[0mmessage_clsname\u001b[0m\u001b[1;33m,\u001b[0m \u001b[0mmessage\u001b[0m\u001b[1;33m)\u001b[0m\u001b[1;33m:\u001b[0m\u001b[1;33m\u001b[0m\u001b[1;33m\u001b[0m\u001b[0m\n\u001b[0;32m    715\u001b[0m         \u001b[1;32mif\u001b[0m \u001b[0mhasattr\u001b[0m\u001b[1;33m(\u001b[0m\u001b[0mtransformer\u001b[0m\u001b[1;33m,\u001b[0m \u001b[1;34m'fit_transform'\u001b[0m\u001b[1;33m)\u001b[0m\u001b[1;33m:\u001b[0m\u001b[1;33m\u001b[0m\u001b[1;33m\u001b[0m\u001b[0m\n\u001b[1;32m--> 716\u001b[1;33m             \u001b[0mres\u001b[0m \u001b[1;33m=\u001b[0m \u001b[0mtransformer\u001b[0m\u001b[1;33m.\u001b[0m\u001b[0mfit_transform\u001b[0m\u001b[1;33m(\u001b[0m\u001b[0mX\u001b[0m\u001b[1;33m,\u001b[0m \u001b[0my\u001b[0m\u001b[1;33m,\u001b[0m \u001b[1;33m**\u001b[0m\u001b[0mfit_params\u001b[0m\u001b[1;33m)\u001b[0m\u001b[1;33m\u001b[0m\u001b[1;33m\u001b[0m\u001b[0m\n\u001b[0m\u001b[0;32m    717\u001b[0m         \u001b[1;32melse\u001b[0m\u001b[1;33m:\u001b[0m\u001b[1;33m\u001b[0m\u001b[1;33m\u001b[0m\u001b[0m\n\u001b[0;32m    718\u001b[0m             \u001b[0mres\u001b[0m \u001b[1;33m=\u001b[0m \u001b[0mtransformer\u001b[0m\u001b[1;33m.\u001b[0m\u001b[0mfit\u001b[0m\u001b[1;33m(\u001b[0m\u001b[0mX\u001b[0m\u001b[1;33m,\u001b[0m \u001b[0my\u001b[0m\u001b[1;33m,\u001b[0m \u001b[1;33m**\u001b[0m\u001b[0mfit_params\u001b[0m\u001b[1;33m)\u001b[0m\u001b[1;33m.\u001b[0m\u001b[0mtransform\u001b[0m\u001b[1;33m(\u001b[0m\u001b[0mX\u001b[0m\u001b[1;33m)\u001b[0m\u001b[1;33m\u001b[0m\u001b[1;33m\u001b[0m\u001b[0m\n",
      "\u001b[1;32m~\\Anaconda3\\lib\\site-packages\\sklearn\\base.py\u001b[0m in \u001b[0;36mfit_transform\u001b[1;34m(self, X, y, **fit_params)\u001b[0m\n\u001b[0;32m    554\u001b[0m         \u001b[1;32melse\u001b[0m\u001b[1;33m:\u001b[0m\u001b[1;33m\u001b[0m\u001b[1;33m\u001b[0m\u001b[0m\n\u001b[0;32m    555\u001b[0m             \u001b[1;31m# fit method of arity 2 (supervised transformation)\u001b[0m\u001b[1;33m\u001b[0m\u001b[1;33m\u001b[0m\u001b[1;33m\u001b[0m\u001b[0m\n\u001b[1;32m--> 556\u001b[1;33m             \u001b[1;32mreturn\u001b[0m \u001b[0mself\u001b[0m\u001b[1;33m.\u001b[0m\u001b[0mfit\u001b[0m\u001b[1;33m(\u001b[0m\u001b[0mX\u001b[0m\u001b[1;33m,\u001b[0m \u001b[0my\u001b[0m\u001b[1;33m,\u001b[0m \u001b[1;33m**\u001b[0m\u001b[0mfit_params\u001b[0m\u001b[1;33m)\u001b[0m\u001b[1;33m.\u001b[0m\u001b[0mtransform\u001b[0m\u001b[1;33m(\u001b[0m\u001b[0mX\u001b[0m\u001b[1;33m)\u001b[0m\u001b[1;33m\u001b[0m\u001b[1;33m\u001b[0m\u001b[0m\n\u001b[0m\u001b[0;32m    557\u001b[0m \u001b[1;33m\u001b[0m\u001b[0m\n\u001b[0;32m    558\u001b[0m \u001b[1;33m\u001b[0m\u001b[0m\n",
      "\u001b[1;32m~\\Anaconda3\\lib\\site-packages\\sklearn\\preprocessing\\_function_transformer.py\u001b[0m in \u001b[0;36mfit\u001b[1;34m(self, X, y)\u001b[0m\n\u001b[0;32m    130\u001b[0m         \u001b[0mself\u001b[0m\u001b[1;33m\u001b[0m\u001b[1;33m\u001b[0m\u001b[0m\n\u001b[0;32m    131\u001b[0m         \"\"\"\n\u001b[1;32m--> 132\u001b[1;33m         \u001b[0mX\u001b[0m \u001b[1;33m=\u001b[0m \u001b[0mself\u001b[0m\u001b[1;33m.\u001b[0m\u001b[0m_check_input\u001b[0m\u001b[1;33m(\u001b[0m\u001b[0mX\u001b[0m\u001b[1;33m)\u001b[0m\u001b[1;33m\u001b[0m\u001b[1;33m\u001b[0m\u001b[0m\n\u001b[0m\u001b[0;32m    133\u001b[0m         if (self.check_inverse and not (self.func is None or\n\u001b[0;32m    134\u001b[0m                                         self.inverse_func is None)):\n",
      "\u001b[1;32m~\\Anaconda3\\lib\\site-packages\\sklearn\\preprocessing\\_function_transformer.py\u001b[0m in \u001b[0;36m_check_input\u001b[1;34m(self, X)\u001b[0m\n\u001b[0;32m    100\u001b[0m \u001b[1;33m\u001b[0m\u001b[0m\n\u001b[0;32m    101\u001b[0m         \u001b[1;32mif\u001b[0m \u001b[0mself\u001b[0m\u001b[1;33m.\u001b[0m\u001b[0m_validate\u001b[0m\u001b[1;33m:\u001b[0m\u001b[1;33m\u001b[0m\u001b[1;33m\u001b[0m\u001b[0m\n\u001b[1;32m--> 102\u001b[1;33m             \u001b[1;32mreturn\u001b[0m \u001b[0mcheck_array\u001b[0m\u001b[1;33m(\u001b[0m\u001b[0mX\u001b[0m\u001b[1;33m,\u001b[0m \u001b[0maccept_sparse\u001b[0m\u001b[1;33m=\u001b[0m\u001b[0mself\u001b[0m\u001b[1;33m.\u001b[0m\u001b[0maccept_sparse\u001b[0m\u001b[1;33m)\u001b[0m\u001b[1;33m\u001b[0m\u001b[1;33m\u001b[0m\u001b[0m\n\u001b[0m\u001b[0;32m    103\u001b[0m         \u001b[1;32mreturn\u001b[0m \u001b[0mX\u001b[0m\u001b[1;33m\u001b[0m\u001b[1;33m\u001b[0m\u001b[0m\n\u001b[0;32m    104\u001b[0m \u001b[1;33m\u001b[0m\u001b[0m\n",
      "\u001b[1;32m~\\Anaconda3\\lib\\site-packages\\sklearn\\utils\\validation.py\u001b[0m in \u001b[0;36mcheck_array\u001b[1;34m(array, accept_sparse, accept_large_sparse, dtype, order, copy, force_all_finite, ensure_2d, allow_nd, ensure_min_samples, ensure_min_features, warn_on_dtype, estimator)\u001b[0m\n\u001b[0;32m    534\u001b[0m         \u001b[1;31m# make sure we actually converted to numeric:\u001b[0m\u001b[1;33m\u001b[0m\u001b[1;33m\u001b[0m\u001b[1;33m\u001b[0m\u001b[0m\n\u001b[0;32m    535\u001b[0m         \u001b[1;32mif\u001b[0m \u001b[0mdtype_numeric\u001b[0m \u001b[1;32mand\u001b[0m \u001b[0marray\u001b[0m\u001b[1;33m.\u001b[0m\u001b[0mdtype\u001b[0m\u001b[1;33m.\u001b[0m\u001b[0mkind\u001b[0m \u001b[1;33m==\u001b[0m \u001b[1;34m\"O\"\u001b[0m\u001b[1;33m:\u001b[0m\u001b[1;33m\u001b[0m\u001b[1;33m\u001b[0m\u001b[0m\n\u001b[1;32m--> 536\u001b[1;33m             \u001b[0marray\u001b[0m \u001b[1;33m=\u001b[0m \u001b[0marray\u001b[0m\u001b[1;33m.\u001b[0m\u001b[0mastype\u001b[0m\u001b[1;33m(\u001b[0m\u001b[0mnp\u001b[0m\u001b[1;33m.\u001b[0m\u001b[0mfloat64\u001b[0m\u001b[1;33m)\u001b[0m\u001b[1;33m\u001b[0m\u001b[1;33m\u001b[0m\u001b[0m\n\u001b[0m\u001b[0;32m    537\u001b[0m         \u001b[1;32mif\u001b[0m \u001b[1;32mnot\u001b[0m \u001b[0mallow_nd\u001b[0m \u001b[1;32mand\u001b[0m \u001b[0marray\u001b[0m\u001b[1;33m.\u001b[0m\u001b[0mndim\u001b[0m \u001b[1;33m>=\u001b[0m \u001b[1;36m3\u001b[0m\u001b[1;33m:\u001b[0m\u001b[1;33m\u001b[0m\u001b[1;33m\u001b[0m\u001b[0m\n\u001b[0;32m    538\u001b[0m             raise ValueError(\"Found array with dim %d. %s expected <= 2.\"\n",
      "\u001b[1;31mValueError\u001b[0m: could not convert string to float: \"At just 21 years old, Katey Malin has been bravely fighting ependymoma brain cancer since 2015. She has spent time at St.Judes Children's Hospital and here in Austin at Dell Children's Hospital undergoing extensive surgeries and treatments. Katey is a graduate of Leander High School where she was a proud Blue Belle and even through all of her hospital stays has still kept up and succeeded with her classes at Texas State University. Everyone who knows Katey, knows what a special young lady she is.\\xa0 Katey met Austin in middle school and after her first surgery, they reconnected on Facebook. They went on their first date the following January on Katey's birthday and they they have been together ever since. He has been right be her side through all of this and they are truly a picture of what unconditional love is. On April 23, 2020, Katey went in for a routine scan and port surgery, and the doctors found 3 new spots on her brain. The doctors told Katey's family, her precious parents Ken and Belinda Malin, that\\xa0 it won't be years but months that sweet Katey has left.\\xa0 Austin, Katey's boyfriend made the decision to propose and Katey SAID YES! We are all so happy for Austin and Katey, that even in the midst of all of this, LOVE WINS. Austin and Katey will be married in Burnet, TX on July 18, 2020. As you can imagine, with medical bills, planning a wedding could be stressful and we want to not only take that stress away, but we want to make it THE DREAM WEDDING for Katey and Austin. We also want this money to be used for Austin and Katey to experience as much as they can and make as many memories together as possible. Let's join together, family and friends of the Malin's and Austin and help make this dream come true for a very special young lady and a beautiful couple that deserves the world.\""
>>>>>>> Stashed changes
     ]
    }
   ],
   "source": [
    "p3.fit(X_train,y_train)\n",
    "pred_train_p3= p3.predict(X_train)\n",
    "print(np.sqrt(mean_squared_error(y_train,pred_train_p3)))\n",
    "print(r2_score(y_train, pred_train_p3))"
   ]
  },
  {
   "cell_type": "code",
   "execution_count": 51,
   "metadata": {},
   "outputs": [
    {
     "name": "stdout",
     "output_type": "stream",
     "text": [
      "0.43648353117665384\n",
      "0.7110323022525407\n"
     ]
    }
   ],
   "source": [
    "pred_test_p3= p3.predict(X_test)\n",
    "print(np.sqrt(mean_squared_error(y_test,pred_test_p3))) \n",
    "print(r2_score(y_test, pred_test_p3))"
   ]
  },
  {
   "cell_type": "code",
   "execution_count": null,
   "metadata": {},
   "outputs": [],
   "source": [
    "r2_train_scores = []\n",
    "r2_test_scores = []\n",
    "for i in range(10000):\n",
    "    X_train, X_test, y_train, y_test = train_test_split(X, y, test_size=0.30, random_state=i, shuffle=True)\n",
    "    p3 = Pipeline(steps=[('preprocessor', ctrans), ('regressor', Ridge(alpha=0))])\n",
    "    p3.fit(X_train,y_train)\n",
    "    pred_train_p3= p3.predict(X_train)\n",
    "    pred_test_p3= p3.predict(X_test)\n",
    "    r2_train_scores.append(r2_score(y_train, pred_train_p3))\n",
    "    r2_test_scores.append(r2_score(y_test, pred_test_p3))"
   ]
  },
  {
   "cell_type": "code",
   "execution_count": null,
   "metadata": {},
   "outputs": [],
   "source": [
    "hbins = [x/100 for x in range(0, 100, 5)]"
   ]
  },
  {
   "cell_type": "code",
   "execution_count": null,
   "metadata": {},
   "outputs": [],
   "source": [
    "a = np.array(r2_train_scores) \n",
    "plt.hist(a, bins = hbins)\n",
    "plt.title(\"Training Data R-Squared Values\") \n",
    "plt.show()"
   ]
  },
  {
   "cell_type": "code",
   "execution_count": null,
   "metadata": {},
   "outputs": [],
   "source": [
    "a = np.array(r2_test_scores) \n",
    "plt.hist(a, bins = hbins) \n",
    "plt.title(\"Testing Data R-Squared Values\") \n",
    "plt.show()"
   ]
  },
  {
   "cell_type": "code",
   "execution_count": null,
   "metadata": {},
   "outputs": [],
   "source": [
    "np.mean(a), np.median(a)"
   ]
  }
 ],
 "metadata": {
  "kernelspec": {
   "display_name": "Python 3",
   "language": "python",
   "name": "python3"
  },
  "language_info": {
   "codemirror_mode": {
    "name": "ipython",
    "version": 3
   },
   "file_extension": ".py",
   "mimetype": "text/x-python",
   "name": "python",
   "nbconvert_exporter": "python",
   "pygments_lexer": "ipython3",
   "version": "3.7.4"
  }
 },
 "nbformat": 4,
 "nbformat_minor": 2
}
