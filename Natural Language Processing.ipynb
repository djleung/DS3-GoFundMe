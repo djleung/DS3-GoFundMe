{
 "cells": [
  {
   "cell_type": "code",
   "execution_count": 1,
   "metadata": {},
   "outputs": [
    {
     "name": "stderr",
     "output_type": "stream",
     "text": [
      "[nltk_data] Downloading package stopwords to\n",
      "[nltk_data]     C:\\Users\\sddjl\\AppData\\Roaming\\nltk_data...\n",
      "[nltk_data]   Package stopwords is already up-to-date!\n"
     ]
    }
   ],
   "source": [
    "import pandas as pd\n",
    "import re\n",
    "import nltk\n",
    "nltk.download('stopwords')\n",
    "from collections import defaultdict # Dictionaries with default values\n",
    "from sklearn.feature_extraction.text import TfidfVectorizer,CountVectorizer\n",
    "import string\n",
    "from nltk.corpus import stopwords\n",
    "from nltk.stem.porter import PorterStemmer\n",
    "import numpy as np"
   ]
  },
  {
   "cell_type": "code",
   "execution_count": 2,
   "metadata": {},
   "outputs": [
    {
     "data": {
      "text/html": [
       "<div>\n",
       "<style scoped>\n",
       "    .dataframe tbody tr th:only-of-type {\n",
       "        vertical-align: middle;\n",
       "    }\n",
       "\n",
       "    .dataframe tbody tr th {\n",
       "        vertical-align: top;\n",
       "    }\n",
       "\n",
       "    .dataframe thead th {\n",
       "        text-align: right;\n",
       "    }\n",
       "</style>\n",
       "<table border=\"1\" class=\"dataframe\">\n",
       "  <thead>\n",
       "    <tr style=\"text-align: right;\">\n",
       "      <th></th>\n",
       "      <th>Unnamed: 0</th>\n",
       "      <th>Url</th>\n",
       "      <th>Category</th>\n",
       "      <th>Position</th>\n",
       "      <th>Title</th>\n",
       "      <th>Location</th>\n",
       "      <th>Amount_Raised</th>\n",
       "      <th>Goal</th>\n",
       "      <th>Number_of_Donations</th>\n",
       "      <th>Length_of_Fundraising</th>\n",
       "      <th>FB_Shares</th>\n",
       "      <th>Number_of_Donors</th>\n",
       "      <th>Followers</th>\n",
       "      <th>Text</th>\n",
       "    </tr>\n",
       "  </thead>\n",
       "  <tbody>\n",
       "    <tr>\n",
       "      <td>0</td>\n",
       "      <td>0</td>\n",
       "      <td>https://www.gofundme.com/f/justiceforjacobblake</td>\n",
       "      <td>Medical</td>\n",
       "      <td>0</td>\n",
       "      <td>Justice for Jacob Blake</td>\n",
       "      <td>Kenosha, WI</td>\n",
       "      <td>2297930.0</td>\n",
       "      <td>3000000.0</td>\n",
       "      <td>73K</td>\n",
       "      <td>93 days 12:02:38.405126000</td>\n",
       "      <td>118K</td>\n",
       "      <td>72.5K</td>\n",
       "      <td>73.4K</td>\n",
       "      <td>On August 23rd my son was shot multiple times ...</td>\n",
       "    </tr>\n",
       "    <tr>\n",
       "      <td>1</td>\n",
       "      <td>0</td>\n",
       "      <td>https://www.gofundme.com/f/official-navajo-nat...</td>\n",
       "      <td>Medical</td>\n",
       "      <td>0</td>\n",
       "      <td>Official Navajo Nation COVID-19 Relief Fund</td>\n",
       "      <td>Window Rock, AZ</td>\n",
       "      <td>1862040.0</td>\n",
       "      <td>1000000.0</td>\n",
       "      <td>22.5K</td>\n",
       "      <td>205 days 12:02:39.366241000</td>\n",
       "      <td>71.7K</td>\n",
       "      <td>21.9K</td>\n",
       "      <td>22K</td>\n",
       "      <td>\\r\\nThe Navajo Nation COVID-19 Fund has been e...</td>\n",
       "    </tr>\n",
       "    <tr>\n",
       "      <td>2</td>\n",
       "      <td>0</td>\n",
       "      <td>https://www.gofundme.com/f/help-a-front-line-n...</td>\n",
       "      <td>Medical</td>\n",
       "      <td>0</td>\n",
       "      <td>Help a front line nurse and baby get proper care</td>\n",
       "      <td>Randolph, NJ</td>\n",
       "      <td>954793.0</td>\n",
       "      <td>1200000.0</td>\n",
       "      <td>19K</td>\n",
       "      <td>215 days 12:02:40.340314000</td>\n",
       "      <td>16.4K</td>\n",
       "      <td>18.3K</td>\n",
       "      <td>17.9K</td>\n",
       "      <td>On Sunday, April 12, Sylvia Leroy, a pregnant ...</td>\n",
       "    </tr>\n",
       "    <tr>\n",
       "      <td>3</td>\n",
       "      <td>0</td>\n",
       "      <td>https://www.gofundme.com/f/Tommy-Rivers-Rest-Up</td>\n",
       "      <td>Medical</td>\n",
       "      <td>1</td>\n",
       "      <td>Rest up, Tommy, we'll see you soon</td>\n",
       "      <td>Scottsdale, AZ</td>\n",
       "      <td>673179.0</td>\n",
       "      <td>1000000.0</td>\n",
       "      <td>11.3K</td>\n",
       "      <td>131 days 12:02:41.464483000</td>\n",
       "      <td>21.3K</td>\n",
       "      <td>10.3K</td>\n",
       "      <td>10.4K</td>\n",
       "      <td>First, thank you for being here. Tommy Rivers ...</td>\n",
       "    </tr>\n",
       "    <tr>\n",
       "      <td>4</td>\n",
       "      <td>0</td>\n",
       "      <td>https://www.gofundme.com/f/brandon039s-medical...</td>\n",
       "      <td>Medical</td>\n",
       "      <td>1</td>\n",
       "      <td>OFFICIAL BRANDON SAENZ MEDICAL FUND</td>\n",
       "      <td>Tyler, TX</td>\n",
       "      <td>570529.0</td>\n",
       "      <td>750000.0</td>\n",
       "      <td>24.7K</td>\n",
       "      <td>175 days 12:02:42.383091000</td>\n",
       "      <td>5.5K</td>\n",
       "      <td>24.3K</td>\n",
       "      <td>24.5K</td>\n",
       "      <td>My name is Melissa Green and I am the mother o...</td>\n",
       "    </tr>\n",
       "  </tbody>\n",
       "</table>\n",
       "</div>"
      ],
      "text/plain": [
       "   Unnamed: 0                                                Url Category  \\\n",
       "0           0    https://www.gofundme.com/f/justiceforjacobblake  Medical   \n",
       "1           0  https://www.gofundme.com/f/official-navajo-nat...  Medical   \n",
       "2           0  https://www.gofundme.com/f/help-a-front-line-n...  Medical   \n",
       "3           0    https://www.gofundme.com/f/Tommy-Rivers-Rest-Up  Medical   \n",
       "4           0  https://www.gofundme.com/f/brandon039s-medical...  Medical   \n",
       "\n",
       "   Position                                             Title  \\\n",
       "0         0                           Justice for Jacob Blake   \n",
       "1         0       Official Navajo Nation COVID-19 Relief Fund   \n",
       "2         0  Help a front line nurse and baby get proper care   \n",
       "3         1                Rest up, Tommy, we'll see you soon   \n",
       "4         1               OFFICIAL BRANDON SAENZ MEDICAL FUND   \n",
       "\n",
       "          Location  Amount_Raised       Goal Number_of_Donations  \\\n",
       "0      Kenosha, WI      2297930.0  3000000.0                 73K   \n",
       "1  Window Rock, AZ      1862040.0  1000000.0               22.5K   \n",
       "2     Randolph, NJ       954793.0  1200000.0                 19K   \n",
       "3   Scottsdale, AZ       673179.0  1000000.0               11.3K   \n",
       "4        Tyler, TX       570529.0   750000.0               24.7K   \n",
       "\n",
       "         Length_of_Fundraising FB_Shares Number_of_Donors Followers  \\\n",
       "0   93 days 12:02:38.405126000      118K            72.5K     73.4K   \n",
       "1  205 days 12:02:39.366241000     71.7K            21.9K       22K   \n",
       "2  215 days 12:02:40.340314000     16.4K            18.3K     17.9K   \n",
       "3  131 days 12:02:41.464483000     21.3K            10.3K     10.4K   \n",
       "4  175 days 12:02:42.383091000      5.5K            24.3K     24.5K   \n",
       "\n",
       "                                                Text  \n",
       "0  On August 23rd my son was shot multiple times ...  \n",
       "1  \\r\\nThe Navajo Nation COVID-19 Fund has been e...  \n",
       "2  On Sunday, April 12, Sylvia Leroy, a pregnant ...  \n",
       "3  First, thank you for being here. Tommy Rivers ...  \n",
       "4  My name is Melissa Green and I am the mother o...  "
      ]
     },
     "execution_count": 2,
     "metadata": {},
     "output_type": "execute_result"
    }
   ],
   "source": [
    "## importing data sets and dropping nan's\n",
    "df = pd.read_csv('GFM_data.csv',sep = '\\t')\n",
    "df = df.loc[df['Text'].dropna().index]\n",
    "df.head()"
   ]
  },
  {
   "cell_type": "markdown",
   "metadata": {},
   "source": [
    "## Text preprocessing using Regex"
   ]
  },
  {
   "cell_type": "code",
   "execution_count": 3,
   "metadata": {},
   "outputs": [],
   "source": [
    "REPLACE_BY_SPACE_RE = re.compile('[/(){}\\[\\]\\|@,;]')\n",
    "BAD_SYMBOLS_RE = re.compile('[^0-9a-z #+_]')\n",
    "STOPWORDS = set(stopwords.words('english'))\n",
    "REPLACE_IP_ADDRESS = re.compile(r'\\b(?:[0-9]{1,3}\\.){3}[0-9]{1,3}\\b')\n",
    "\n",
    "def clean_text(x):\n",
    "    ## normalizing text by stripping white space and lower casing\n",
    "    x =  x.lower().strip()\n",
    "    ## removing urls\n",
    "    x = re.sub(r'(?i)\\b((?:https?://|www\\d{0,3}[.]|[a-z0-9.\\-]+[.][a-z]{2,4}/)(?:[^\\s()<>]+|\\(([^\\s()<>]+|(\\([^\\s()<>]+\\)))*\\))+(?:\\(([^\\s()<>]+|(\\([^\\s()<>]+\\)))*\\)|[^\\s`!()\\[\\]{};:\\'\".,<>?«»“”‘’]))', '', x)\n",
    "    ## removing phone numbers\n",
    "    x = re.sub('\\([0-9]{3}\\)\\s*[0-9]{3}-[0-9]{4}','',x)\n",
    "    ## strip all non alphanumeric things\n",
    "    x = re.sub('\\n',' ',x)\n",
    "    x = re.sub(\"[^a-zA-Z0-9 #]\",'',x)\n",
    "    x = re.sub(\"\\s+\",' ',x)\n",
    "    text = x.replace('\\n', ' ').lower()# lowercase text\n",
    "    text = REPLACE_IP_ADDRESS.sub('', text) # remove ip address\n",
    "    text = REPLACE_BY_SPACE_RE.sub(' ',text)# replace REPLACE_BY_SPACE_RE symbols by space in text\n",
    "    text = BAD_SYMBOLS_RE.sub('',text)# delete symbols which are in BAD_SYMBOLS_RE from text\n",
    "    text = ' '.join([w for w in text.split() if not w in STOPWORDS])# delete stopwords from text\n",
    "    \n",
    "    return text"
   ]
  },
  {
   "cell_type": "code",
   "execution_count": 4,
   "metadata": {
    "scrolled": true
   },
   "outputs": [],
   "source": [
    "df['Text'] = df['Text'].apply(clean_text)"
   ]
  },
  {
   "cell_type": "markdown",
   "metadata": {},
   "source": [
    "## Splitting into train and test set"
   ]
  },
  {
   "cell_type": "code",
   "execution_count": 5,
   "metadata": {},
   "outputs": [],
   "source": [
    "categories = {i: idx for idx,i in enumerate(df['Category'].unique())}"
   ]
  },
  {
   "cell_type": "code",
   "execution_count": 6,
   "metadata": {},
   "outputs": [],
   "source": [
    "from sklearn.model_selection import train_test_split\n",
    "X = df['Text']\n",
    "y = [categories[i] for i in df['Category']]\n",
    "X_train, X_test, y_train, y_test = train_test_split(X, y, test_size=0.25, random_state=42)"
   ]
  },
  {
   "cell_type": "markdown",
   "metadata": {},
   "source": [
    "## BoW (Bag of Words)\n"
   ]
  },
  {
   "cell_type": "code",
   "execution_count": 7,
   "metadata": {},
   "outputs": [],
   "source": [
    "from scipy import sparse as sp_sparse"
   ]
  },
  {
   "cell_type": "code",
   "execution_count": 8,
   "metadata": {},
   "outputs": [],
   "source": [
    "# Dictionary of all words from train corpus with their counts.\n",
    "words_counts = {}\n",
    "for comments in X_train:\n",
    "    for word in comments.split():\n",
    "        if word not in words_counts:\n",
    "            words_counts[word] = 0\n",
    "        words_counts[word] += 1\n",
    "##most pop words        \n",
    "DICT_SIZE = 10000\n",
    "POPULAR_WORDS = sorted(words_counts, key=words_counts.get, reverse=True)[:DICT_SIZE]\n",
    "## same dics but flopped\n",
    "WORDS_TO_INDEX = {key: rank for rank, key in enumerate(POPULAR_WORDS, 0)}\n",
    "INDEX_TO_WORDS = {index:word for word, index in WORDS_TO_INDEX.items()}\n",
    "ALL_WORDS = WORDS_TO_INDEX.keys()"
   ]
  },
  {
   "cell_type": "code",
   "execution_count": 9,
   "metadata": {},
   "outputs": [
    {
     "name": "stdout",
     "output_type": "stream",
     "text": [
      "X_train shape  (646, 10000) \n",
      "X_val shape  (216, 10000)\n"
     ]
    }
   ],
   "source": [
    "def my_bag_of_words(text, words_to_index, dict_size):\n",
    "    result_vector = np.zeros(dict_size)\n",
    "    for word in text.split(' '):\n",
    "        if word in words_to_index:\n",
    "            result_vector[words_to_index[word]] +=1\n",
    "    return result_vector\n",
    "\n",
    "X_train_mybag = sp_sparse.vstack([sp_sparse.csr_matrix(my_bag_of_words(text, WORDS_TO_INDEX, DICT_SIZE)) for text in X_train])\n",
    "X_test_mybag = sp_sparse.vstack([sp_sparse.csr_matrix(my_bag_of_words(text, WORDS_TO_INDEX, DICT_SIZE)) for text in X_test])\n",
    "print('X_train shape ', X_train_mybag.shape, '\\nX_val shape ', X_test_mybag.shape)"
   ]
  },
  {
   "cell_type": "code",
   "execution_count": 10,
   "metadata": {},
   "outputs": [
    {
     "name": "stdout",
     "output_type": "stream",
     "text": [
      "  (0, 0)\t1.0\n",
      "  (0, 1)\t5.0\n",
      "  (0, 2)\t5.0\n",
      "  (0, 3)\t5.0\n",
      "  (0, 4)\t2.0\n",
      "  (0, 5)\t2.0\n",
      "  (0, 6)\t3.0\n",
      "  (0, 7)\t5.0\n",
      "  (0, 8)\t1.0\n",
      "  (0, 9)\t2.0\n",
      "  (0, 10)\t1.0\n",
      "  (0, 13)\t1.0\n",
      "  (0, 14)\t3.0\n",
      "  (0, 15)\t3.0\n",
      "  (0, 19)\t1.0\n",
      "  (0, 20)\t1.0\n",
      "  (0, 21)\t1.0\n",
      "  (0, 22)\t2.0\n",
      "  (0, 25)\t2.0\n",
      "  (0, 26)\t1.0\n",
      "  (0, 32)\t1.0\n",
      "  (0, 35)\t1.0\n",
      "  (0, 40)\t4.0\n",
      "  (0, 42)\t1.0\n",
      "  (0, 48)\t2.0\n",
      "  :\t:\n",
      "  (0, 8605)\t1.0\n",
      "  (0, 8606)\t1.0\n",
      "  (0, 8607)\t1.0\n",
      "  (0, 8608)\t1.0\n",
      "  (0, 8609)\t1.0\n",
      "  (0, 8610)\t1.0\n",
      "  (0, 8611)\t1.0\n",
      "  (0, 8612)\t1.0\n",
      "  (0, 8613)\t1.0\n",
      "  (0, 8614)\t1.0\n",
      "  (0, 8615)\t1.0\n",
      "  (0, 8616)\t1.0\n",
      "  (0, 8617)\t1.0\n",
      "  (0, 8618)\t1.0\n",
      "  (0, 8619)\t1.0\n",
      "  (0, 8620)\t1.0\n",
      "  (0, 8621)\t1.0\n",
      "  (0, 8622)\t1.0\n",
      "  (0, 8623)\t1.0\n",
      "  (0, 8624)\t1.0\n",
      "  (0, 8625)\t1.0\n",
      "  (0, 8626)\t1.0\n",
      "  (0, 8627)\t1.0\n",
      "  (0, 8628)\t1.0\n",
      "  (0, 8629)\t1.0\n"
     ]
    }
   ],
   "source": [
    "print(X_train_mybag[0])\n"
   ]
  },
  {
   "cell_type": "code",
   "execution_count": 11,
   "metadata": {},
   "outputs": [
    {
     "data": {
      "text/plain": [
       "['help',\n",
       " 'family',\n",
       " 'us',\n",
       " 'support',\n",
       " 'community',\n",
       " 'time',\n",
       " 'many',\n",
       " 'years',\n",
       " 'life',\n",
       " 'would']"
      ]
     },
     "execution_count": 11,
     "metadata": {},
     "output_type": "execute_result"
    }
   ],
   "source": [
    "POPULAR_WORDS[:10]"
   ]
  },
  {
   "cell_type": "markdown",
   "metadata": {},
   "source": [
    "## TF-IDF¶\n"
   ]
  },
  {
   "cell_type": "code",
   "execution_count": 12,
   "metadata": {},
   "outputs": [],
   "source": [
    "from sklearn.feature_extraction.text import TfidfVectorizer"
   ]
  },
  {
   "cell_type": "code",
   "execution_count": 13,
   "metadata": {},
   "outputs": [],
   "source": [
    "## creating tfidf vector\n",
    "tfidf_vectorizer = TfidfVectorizer(ngram_range=(1,2), max_df=0.9, min_df=5)\n",
    "## transforming it\n",
    "X_train_tfidf = tfidf_vectorizer.fit_transform(X_train)\n",
    "X_test_tfidf = tfidf_vectorizer.transform(X_test)\n"
   ]
  },
  {
   "cell_type": "code",
   "execution_count": 14,
   "metadata": {},
   "outputs": [
    {
     "name": "stdout",
     "output_type": "stream",
     "text": [
      "  (0, 3544)\t0.05412889865323257\n",
      "  (0, 1444)\t0.041825336076166786\n",
      "  (0, 3400)\t0.05789711357437934\n",
      "  (0, 2214)\t0.0438671889721343\n",
      "  (0, 3067)\t0.059077065510944285\n",
      "  (0, 3909)\t0.03746364799126061\n",
      "  (0, 3647)\t0.06189158235803169\n",
      "  (0, 3914)\t0.0603961395506785\n",
      "  (0, 1408)\t0.0603961395506785\n",
      "  (0, 3264)\t0.06189158235803169\n",
      "  (0, 2074)\t0.06361794438321094\n",
      "  (0, 85)\t0.056829717211213264\n",
      "  (0, 3884)\t0.05013442986958022\n",
      "  (0, 1277)\t0.12378316471606338\n",
      "  (0, 1292)\t0.0603961395506785\n",
      "  (0, 1991)\t0.04809257697361271\n",
      "  (0, 1651)\t0.04452615463414748\n",
      "  (0, 1938)\t0.03922015589005254\n",
      "  (0, 3350)\t0.06189158235803169\n",
      "  (0, 1442)\t0.024804525859215356\n",
      "  (0, 1505)\t0.038405310400233705\n",
      "  (0, 168)\t0.038405310400233705\n",
      "  (0, 1588)\t0.046773502933878504\n",
      "  (0, 930)\t0.047635403893281074\n",
      "  (0, 2486)\t0.043244851912797075\n",
      "  :\t:\n",
      "  (0, 2605)\t0.0728582841274634\n",
      "  (0, 516)\t0.03965094689626415\n",
      "  (0, 1637)\t0.032451154791935395\n",
      "  (0, 3883)\t0.03764575257733272\n",
      "  (0, 106)\t0.06361794438321094\n",
      "  (0, 2578)\t0.26099120042730084\n",
      "  (0, 1204)\t0.0364291420637317\n",
      "  (0, 525)\t0.12668318580029275\n",
      "  (0, 1731)\t0.05528813765817092\n",
      "  (0, 2148)\t0.0956647895743951\n",
      "  (0, 1274)\t0.09455030396337884\n",
      "  (0, 3664)\t0.06361794438321094\n",
      "  (0, 66)\t0.059077065510944285\n",
      "  (0, 3133)\t0.0410526721250469\n",
      "  (0, 2337)\t0.053356234702112676\n",
      "  (0, 84)\t0.09813406701282829\n",
      "  (0, 3069)\t0.21651559461293027\n",
      "  (0, 3140)\t0.04958801978096591\n",
      "  (0, 1296)\t0.2597725473666497\n",
      "  (0, 1486)\t0.1272358887664219\n",
      "  (0, 2464)\t0.05013442986958022\n",
      "  (0, 3427)\t0.06361794438321094\n",
      "  (0, 1368)\t0.08589237854500074\n",
      "  (0, 1535)\t0.11815413102188857\n",
      "  (0, 3391)\t0.09153182871971677\n"
     ]
    }
   ],
   "source": [
    "print(X_train_tfidf[0])"
   ]
  },
  {
   "cell_type": "markdown",
   "metadata": {},
   "source": [
    "## Classification"
   ]
  },
  {
   "cell_type": "code",
   "execution_count": 15,
   "metadata": {},
   "outputs": [],
   "source": [
    "from sklearn.multiclass import OneVsRestClassifier\n",
    "from sklearn.linear_model import LogisticRegression, RidgeClassifier\n",
    "def train_classifier(X_train, y_train, C, regularisation):\n",
    "    model = OneVsRestClassifier(LogisticRegression(penalty=regularisation, C=C, max_iter=10000)).fit(X_train, y_train)\n",
    "    return model"
   ]
  },
  {
   "cell_type": "code",
   "execution_count": 16,
   "metadata": {},
   "outputs": [
    {
     "name": "stderr",
     "output_type": "stream",
     "text": [
      "C:\\Users\\sddjl\\Anaconda3\\lib\\site-packages\\sklearn\\linear_model\\logistic.py:432: FutureWarning: Default solver will be changed to 'lbfgs' in 0.22. Specify a solver to silence this warning.\n",
      "  FutureWarning)\n"
     ]
    }
   ],
   "source": [
    "classifier_mybag = train_classifier(X_train_mybag, y_train, C = 4, regularisation = 'l2')\n",
    "classifier_tfidf = train_classifier(X_train_tfidf, y_train, C = 4, regularisation = 'l2')"
   ]
  },
  {
   "cell_type": "code",
   "execution_count": 17,
   "metadata": {},
   "outputs": [],
   "source": [
    "y_test_predicted_labels_mybag = classifier_mybag.predict(X_test_mybag)\n",
    "y_test_predicted_labels_tfidf = classifier_tfidf.predict(X_test_tfidf)"
   ]
  },
  {
   "cell_type": "code",
   "execution_count": 18,
   "metadata": {},
   "outputs": [],
   "source": [
    "y_test_predicted_scores_mybag = classifier_mybag.decision_function(X_test_mybag)\n",
    "y_test_predicted_scores_tfidf = classifier_tfidf.decision_function(X_test_tfidf)"
   ]
  },
  {
   "cell_type": "code",
   "execution_count": 19,
   "metadata": {},
   "outputs": [
    {
     "data": {
      "text/plain": [
       "array([[ -4.38645854,  -5.1065999 ,  -5.14648542, ...,   1.00852141,\n",
       "         -5.15789754,  -3.87148621],\n",
       "       [ -6.4118101 ,  -3.4613966 ,  -2.69392407, ...,  -9.86056155,\n",
       "         -7.62976117,  -8.08212573],\n",
       "       [ -5.70047232,  -4.55874478,  -4.25212291, ...,  -7.75770776,\n",
       "         -5.86048083,  -3.67080258],\n",
       "       ...,\n",
       "       [ -4.50198581,  -4.71379864,  -5.13409493, ...,  -2.4644677 ,\n",
       "         -3.20029613,  -2.6684269 ],\n",
       "       [ -6.14127964,  -7.87671075,  -1.25931473, ..., -12.00931522,\n",
       "         -8.3103033 ,  -8.22532301],\n",
       "       [-10.44384173, -13.10562152, -10.15969348, ...,  -9.30484935,\n",
       "         -7.02950308,  -9.32500507]])"
      ]
     },
     "execution_count": 19,
     "metadata": {},
     "output_type": "execute_result"
    }
   ],
   "source": [
    "y_test_predicted_scores_mybag"
   ]
  },
  {
   "cell_type": "markdown",
   "metadata": {},
   "source": [
    "## Evaluation\n"
   ]
  },
  {
   "cell_type": "code",
   "execution_count": 20,
   "metadata": {},
   "outputs": [],
   "source": [
    "from sklearn.metrics import accuracy_score\n",
    "from sklearn.metrics import f1_score"
   ]
  },
  {
   "cell_type": "code",
   "execution_count": 21,
   "metadata": {},
   "outputs": [
    {
     "name": "stdout",
     "output_type": "stream",
     "text": [
      "Bag-of-words\n",
      "\n",
      "Accuracy:  114\n",
      "F1-score weighted:  0.5250867663267459\n",
      "\n",
      "Tfidf\n",
      "\n",
      "Accuracy:  117\n",
      "F1-score weighted:  0.5330059430475279\n"
     ]
    },
    {
     "name": "stderr",
     "output_type": "stream",
     "text": [
      "C:\\Users\\sddjl\\Anaconda3\\lib\\site-packages\\sklearn\\metrics\\classification.py:1437: UndefinedMetricWarning: F-score is ill-defined and being set to 0.0 in labels with no predicted samples.\n",
      "  'precision', 'predicted', average, warn_for)\n"
     ]
    }
   ],
   "source": [
    "classifier_tfidf = train_classifier(X_train_tfidf, y_train, C = 50, regularisation = 'l2')\n",
    "\n",
    "y_test_predicted_labels_mybag = classifier_mybag.predict(X_test_mybag)\n",
    "y_test_predicted_labels_tfidf = classifier_tfidf.predict(X_test_tfidf)\n",
    "\n",
    "def print_evaluation_scores(y_test, predicted):\n",
    "    \n",
    "    print('Accuracy: ', accuracy_score(y_test, predicted, normalize=False))\n",
    "    print('F1-score weighted: ', f1_score(y_test, predicted, average='weighted'))\n",
    "    \n",
    "print('Bag-of-words\\n')\n",
    "print_evaluation_scores(y_test, y_test_predicted_labels_mybag)\n",
    "print('\\nTfidf\\n')\n",
    "print_evaluation_scores(y_test, y_test_predicted_labels_tfidf)"
   ]
  }
 ],
 "metadata": {
  "kernelspec": {
   "display_name": "Python 3",
   "language": "python",
   "name": "python3"
  },
  "language_info": {
   "codemirror_mode": {
    "name": "ipython",
    "version": 3
   },
   "file_extension": ".py",
   "mimetype": "text/x-python",
   "name": "python",
   "nbconvert_exporter": "python",
   "pygments_lexer": "ipython3",
   "version": "3.7.4"
  }
 },
 "nbformat": 4,
 "nbformat_minor": 2
}
