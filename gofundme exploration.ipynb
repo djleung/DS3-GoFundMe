{
 "cells": [
  {
   "cell_type": "code",
   "execution_count": 1,
   "metadata": {},
   "outputs": [
    {
     "data": {
      "text/html": [
       "<div>\n",
       "<style scoped>\n",
       "    .dataframe tbody tr th:only-of-type {\n",
       "        vertical-align: middle;\n",
       "    }\n",
       "\n",
       "    .dataframe tbody tr th {\n",
       "        vertical-align: top;\n",
       "    }\n",
       "\n",
       "    .dataframe thead th {\n",
       "        text-align: right;\n",
       "    }\n",
       "</style>\n",
       "<table border=\"1\" class=\"dataframe\">\n",
       "  <thead>\n",
       "    <tr style=\"text-align: right;\">\n",
       "      <th></th>\n",
       "      <th>Unnamed: 0</th>\n",
       "      <th>Url</th>\n",
       "      <th>Category</th>\n",
       "      <th>Position</th>\n",
       "      <th>Title</th>\n",
       "      <th>Location</th>\n",
       "      <th>Amount_Raised</th>\n",
       "      <th>Goal</th>\n",
       "      <th>Number_of_Donations</th>\n",
       "      <th>Length_of_Fundraising</th>\n",
       "      <th>FB_Shares</th>\n",
       "      <th>Number_of_Donors</th>\n",
       "      <th>Followers</th>\n",
       "      <th>Text</th>\n",
       "    </tr>\n",
       "  </thead>\n",
       "  <tbody>\n",
       "    <tr>\n",
       "      <td>0</td>\n",
       "      <td>0</td>\n",
       "      <td>https://www.gofundme.com/f/justiceforjacobblake</td>\n",
       "      <td>Medical</td>\n",
       "      <td>0</td>\n",
       "      <td>Justice for Jacob Blake</td>\n",
       "      <td>Kenosha, WI</td>\n",
       "      <td>2297930.0</td>\n",
       "      <td>3000000.0</td>\n",
       "      <td>73K</td>\n",
       "      <td>93 days 12:02:38.405126000</td>\n",
       "      <td>118K</td>\n",
       "      <td>72.5K</td>\n",
       "      <td>73.4K</td>\n",
       "      <td>On August 23rd my son was shot multiple times ...</td>\n",
       "    </tr>\n",
       "    <tr>\n",
       "      <td>1</td>\n",
       "      <td>0</td>\n",
       "      <td>https://www.gofundme.com/f/official-navajo-nat...</td>\n",
       "      <td>Medical</td>\n",
       "      <td>0</td>\n",
       "      <td>Official Navajo Nation COVID-19 Relief Fund</td>\n",
       "      <td>Window Rock, AZ</td>\n",
       "      <td>1862040.0</td>\n",
       "      <td>1000000.0</td>\n",
       "      <td>22.5K</td>\n",
       "      <td>205 days 12:02:39.366241000</td>\n",
       "      <td>71.7K</td>\n",
       "      <td>21.9K</td>\n",
       "      <td>22K</td>\n",
       "      <td>\\r\\nThe Navajo Nation COVID-19 Fund has been e...</td>\n",
       "    </tr>\n",
       "    <tr>\n",
       "      <td>2</td>\n",
       "      <td>0</td>\n",
       "      <td>https://www.gofundme.com/f/help-a-front-line-n...</td>\n",
       "      <td>Medical</td>\n",
       "      <td>0</td>\n",
       "      <td>Help a front line nurse and baby get proper care</td>\n",
       "      <td>Randolph, NJ</td>\n",
       "      <td>954793.0</td>\n",
       "      <td>1200000.0</td>\n",
       "      <td>19K</td>\n",
       "      <td>215 days 12:02:40.340314000</td>\n",
       "      <td>16.4K</td>\n",
       "      <td>18.3K</td>\n",
       "      <td>17.9K</td>\n",
       "      <td>On Sunday, April 12, Sylvia Leroy, a pregnant ...</td>\n",
       "    </tr>\n",
       "    <tr>\n",
       "      <td>3</td>\n",
       "      <td>0</td>\n",
       "      <td>https://www.gofundme.com/f/Tommy-Rivers-Rest-Up</td>\n",
       "      <td>Medical</td>\n",
       "      <td>1</td>\n",
       "      <td>Rest up, Tommy, we'll see you soon</td>\n",
       "      <td>Scottsdale, AZ</td>\n",
       "      <td>673179.0</td>\n",
       "      <td>1000000.0</td>\n",
       "      <td>11.3K</td>\n",
       "      <td>131 days 12:02:41.464483000</td>\n",
       "      <td>21.3K</td>\n",
       "      <td>10.3K</td>\n",
       "      <td>10.4K</td>\n",
       "      <td>First, thank you for being here. Tommy Rivers ...</td>\n",
       "    </tr>\n",
       "    <tr>\n",
       "      <td>4</td>\n",
       "      <td>0</td>\n",
       "      <td>https://www.gofundme.com/f/brandon039s-medical...</td>\n",
       "      <td>Medical</td>\n",
       "      <td>1</td>\n",
       "      <td>OFFICIAL BRANDON SAENZ MEDICAL FUND</td>\n",
       "      <td>Tyler, TX</td>\n",
       "      <td>570529.0</td>\n",
       "      <td>750000.0</td>\n",
       "      <td>24.7K</td>\n",
       "      <td>175 days 12:02:42.383091000</td>\n",
       "      <td>5.5K</td>\n",
       "      <td>24.3K</td>\n",
       "      <td>24.5K</td>\n",
       "      <td>My name is Melissa Green and I am the mother o...</td>\n",
       "    </tr>\n",
       "  </tbody>\n",
       "</table>\n",
       "</div>"
      ],
      "text/plain": [
       "   Unnamed: 0                                                Url Category  \\\n",
       "0           0    https://www.gofundme.com/f/justiceforjacobblake  Medical   \n",
       "1           0  https://www.gofundme.com/f/official-navajo-nat...  Medical   \n",
       "2           0  https://www.gofundme.com/f/help-a-front-line-n...  Medical   \n",
       "3           0    https://www.gofundme.com/f/Tommy-Rivers-Rest-Up  Medical   \n",
       "4           0  https://www.gofundme.com/f/brandon039s-medical...  Medical   \n",
       "\n",
       "   Position                                             Title  \\\n",
       "0         0                           Justice for Jacob Blake   \n",
       "1         0       Official Navajo Nation COVID-19 Relief Fund   \n",
       "2         0  Help a front line nurse and baby get proper care   \n",
       "3         1                Rest up, Tommy, we'll see you soon   \n",
       "4         1               OFFICIAL BRANDON SAENZ MEDICAL FUND   \n",
       "\n",
       "          Location  Amount_Raised       Goal Number_of_Donations  \\\n",
       "0      Kenosha, WI      2297930.0  3000000.0                 73K   \n",
       "1  Window Rock, AZ      1862040.0  1000000.0               22.5K   \n",
       "2     Randolph, NJ       954793.0  1200000.0                 19K   \n",
       "3   Scottsdale, AZ       673179.0  1000000.0               11.3K   \n",
       "4        Tyler, TX       570529.0   750000.0               24.7K   \n",
       "\n",
       "         Length_of_Fundraising FB_Shares Number_of_Donors Followers  \\\n",
       "0   93 days 12:02:38.405126000      118K            72.5K     73.4K   \n",
       "1  205 days 12:02:39.366241000     71.7K            21.9K       22K   \n",
       "2  215 days 12:02:40.340314000     16.4K            18.3K     17.9K   \n",
       "3  131 days 12:02:41.464483000     21.3K            10.3K     10.4K   \n",
       "4  175 days 12:02:42.383091000      5.5K            24.3K     24.5K   \n",
       "\n",
       "                                                Text  \n",
       "0  On August 23rd my son was shot multiple times ...  \n",
       "1  \\r\\nThe Navajo Nation COVID-19 Fund has been e...  \n",
       "2  On Sunday, April 12, Sylvia Leroy, a pregnant ...  \n",
       "3  First, thank you for being here. Tommy Rivers ...  \n",
       "4  My name is Melissa Green and I am the mother o...  "
      ]
     },
     "execution_count": 1,
     "metadata": {},
     "output_type": "execute_result"
    }
   ],
   "source": [
    "import pandas as pd\n",
    "import numpy as np\n",
    "import seaborn as sns\n",
    "import matplotlib.pyplot as plt\n",
    "import geopandas as gpd\n",
    "from descartes.patch import PolygonPatch\n",
    "\n",
    "df = pd.read_csv('GFM_data.csv', sep = '\\t')\n",
    "\n",
    "\n",
    "df.head()"
   ]
  },
  {
   "cell_type": "markdown",
   "metadata": {},
   "source": [
    "## Cleaning the data"
   ]
  },
  {
   "cell_type": "markdown",
   "metadata": {},
   "source": [
    "Transforming Number_of_Donations, FB_Shares, Number_of_Donors, and Followers from Strings to floats"
   ]
  },
  {
   "cell_type": "code",
   "execution_count": 2,
   "metadata": {},
   "outputs": [],
   "source": [
    "def helper(x):\n",
    "    ## if string will make numeric\n",
    "    if isinstance(x,str):\n",
    "        x = x.replace(',','')\n",
    "        ## if has \".1k\" will change to numeric\n",
    "        if '.' in x and 'K' in x:\n",
    "            x = x.replace('.','')\n",
    "            x = x.replace('K','00')\n",
    "        ## if \"k\" will change to numeric\n",
    "        if 'K' in x:\n",
    "            x = x.replace('K','000')\n",
    "        return x\n",
    "    ## return nan\n",
    "    else:\n",
    "        return x\n",
    "df['Number_of_Donations'] = df['Number_of_Donations'].apply(helper).astype(float)\n",
    "df['FB_Shares'] = df['FB_Shares'].apply(helper).astype(float)\n",
    "df['Number_of_Donors'] = df['Number_of_Donors'].apply(helper).astype(float)\n",
    "df['Followers'] = df['Followers'].apply(helper).astype(float)"
   ]
  },
  {
   "cell_type": "code",
   "execution_count": 3,
   "metadata": {},
   "outputs": [],
   "source": [
    "df = df.dropna()"
   ]
  },
  {
   "cell_type": "code",
   "execution_count": 4,
   "metadata": {},
   "outputs": [],
   "source": [
    "df['Length_of_Fundraising']= df['Length_of_Fundraising'].apply(lambda x: int(x[:-24]))"
   ]
  },
  {
   "cell_type": "code",
   "execution_count": 5,
   "metadata": {},
   "outputs": [
    {
     "data": {
      "text/html": [
       "<div>\n",
       "<style scoped>\n",
       "    .dataframe tbody tr th:only-of-type {\n",
       "        vertical-align: middle;\n",
       "    }\n",
       "\n",
       "    .dataframe tbody tr th {\n",
       "        vertical-align: top;\n",
       "    }\n",
       "\n",
       "    .dataframe thead th {\n",
       "        text-align: right;\n",
       "    }\n",
       "</style>\n",
       "<table border=\"1\" class=\"dataframe\">\n",
       "  <thead>\n",
       "    <tr style=\"text-align: right;\">\n",
       "      <th></th>\n",
       "      <th>Unnamed: 0</th>\n",
       "      <th>Url</th>\n",
       "      <th>Category</th>\n",
       "      <th>Position</th>\n",
       "      <th>Title</th>\n",
       "      <th>Location</th>\n",
       "      <th>Amount_Raised</th>\n",
       "      <th>Goal</th>\n",
       "      <th>Number_of_Donations</th>\n",
       "      <th>Length_of_Fundraising</th>\n",
       "      <th>FB_Shares</th>\n",
       "      <th>Number_of_Donors</th>\n",
       "      <th>Followers</th>\n",
       "      <th>Text</th>\n",
       "    </tr>\n",
       "  </thead>\n",
       "  <tbody>\n",
       "    <tr>\n",
       "      <td>0</td>\n",
       "      <td>0</td>\n",
       "      <td>https://www.gofundme.com/f/justiceforjacobblake</td>\n",
       "      <td>Medical</td>\n",
       "      <td>0</td>\n",
       "      <td>Justice for Jacob Blake</td>\n",
       "      <td>Kenosha, WI</td>\n",
       "      <td>2297930.0</td>\n",
       "      <td>3000000.0</td>\n",
       "      <td>73000.0</td>\n",
       "      <td>93</td>\n",
       "      <td>118000.0</td>\n",
       "      <td>72500.0</td>\n",
       "      <td>73400.0</td>\n",
       "      <td>On August 23rd my son was shot multiple times ...</td>\n",
       "    </tr>\n",
       "    <tr>\n",
       "      <td>1</td>\n",
       "      <td>0</td>\n",
       "      <td>https://www.gofundme.com/f/official-navajo-nat...</td>\n",
       "      <td>Medical</td>\n",
       "      <td>0</td>\n",
       "      <td>Official Navajo Nation COVID-19 Relief Fund</td>\n",
       "      <td>Window Rock, AZ</td>\n",
       "      <td>1862040.0</td>\n",
       "      <td>1000000.0</td>\n",
       "      <td>22500.0</td>\n",
       "      <td>205</td>\n",
       "      <td>71700.0</td>\n",
       "      <td>21900.0</td>\n",
       "      <td>22000.0</td>\n",
       "      <td>\\r\\nThe Navajo Nation COVID-19 Fund has been e...</td>\n",
       "    </tr>\n",
       "    <tr>\n",
       "      <td>2</td>\n",
       "      <td>0</td>\n",
       "      <td>https://www.gofundme.com/f/help-a-front-line-n...</td>\n",
       "      <td>Medical</td>\n",
       "      <td>0</td>\n",
       "      <td>Help a front line nurse and baby get proper care</td>\n",
       "      <td>Randolph, NJ</td>\n",
       "      <td>954793.0</td>\n",
       "      <td>1200000.0</td>\n",
       "      <td>19000.0</td>\n",
       "      <td>215</td>\n",
       "      <td>16400.0</td>\n",
       "      <td>18300.0</td>\n",
       "      <td>17900.0</td>\n",
       "      <td>On Sunday, April 12, Sylvia Leroy, a pregnant ...</td>\n",
       "    </tr>\n",
       "    <tr>\n",
       "      <td>3</td>\n",
       "      <td>0</td>\n",
       "      <td>https://www.gofundme.com/f/Tommy-Rivers-Rest-Up</td>\n",
       "      <td>Medical</td>\n",
       "      <td>1</td>\n",
       "      <td>Rest up, Tommy, we'll see you soon</td>\n",
       "      <td>Scottsdale, AZ</td>\n",
       "      <td>673179.0</td>\n",
       "      <td>1000000.0</td>\n",
       "      <td>11300.0</td>\n",
       "      <td>131</td>\n",
       "      <td>21300.0</td>\n",
       "      <td>10300.0</td>\n",
       "      <td>10400.0</td>\n",
       "      <td>First, thank you for being here. Tommy Rivers ...</td>\n",
       "    </tr>\n",
       "    <tr>\n",
       "      <td>4</td>\n",
       "      <td>0</td>\n",
       "      <td>https://www.gofundme.com/f/brandon039s-medical...</td>\n",
       "      <td>Medical</td>\n",
       "      <td>1</td>\n",
       "      <td>OFFICIAL BRANDON SAENZ MEDICAL FUND</td>\n",
       "      <td>Tyler, TX</td>\n",
       "      <td>570529.0</td>\n",
       "      <td>750000.0</td>\n",
       "      <td>24700.0</td>\n",
       "      <td>175</td>\n",
       "      <td>5500.0</td>\n",
       "      <td>24300.0</td>\n",
       "      <td>24500.0</td>\n",
       "      <td>My name is Melissa Green and I am the mother o...</td>\n",
       "    </tr>\n",
       "  </tbody>\n",
       "</table>\n",
       "</div>"
      ],
      "text/plain": [
       "   Unnamed: 0                                                Url Category  \\\n",
       "0           0    https://www.gofundme.com/f/justiceforjacobblake  Medical   \n",
       "1           0  https://www.gofundme.com/f/official-navajo-nat...  Medical   \n",
       "2           0  https://www.gofundme.com/f/help-a-front-line-n...  Medical   \n",
       "3           0    https://www.gofundme.com/f/Tommy-Rivers-Rest-Up  Medical   \n",
       "4           0  https://www.gofundme.com/f/brandon039s-medical...  Medical   \n",
       "\n",
       "   Position                                             Title  \\\n",
       "0         0                           Justice for Jacob Blake   \n",
       "1         0       Official Navajo Nation COVID-19 Relief Fund   \n",
       "2         0  Help a front line nurse and baby get proper care   \n",
       "3         1                Rest up, Tommy, we'll see you soon   \n",
       "4         1               OFFICIAL BRANDON SAENZ MEDICAL FUND   \n",
       "\n",
       "          Location  Amount_Raised       Goal  Number_of_Donations  \\\n",
       "0      Kenosha, WI      2297930.0  3000000.0              73000.0   \n",
       "1  Window Rock, AZ      1862040.0  1000000.0              22500.0   \n",
       "2     Randolph, NJ       954793.0  1200000.0              19000.0   \n",
       "3   Scottsdale, AZ       673179.0  1000000.0              11300.0   \n",
       "4        Tyler, TX       570529.0   750000.0              24700.0   \n",
       "\n",
       "   Length_of_Fundraising  FB_Shares  Number_of_Donors  Followers  \\\n",
       "0                     93   118000.0           72500.0    73400.0   \n",
       "1                    205    71700.0           21900.0    22000.0   \n",
       "2                    215    16400.0           18300.0    17900.0   \n",
       "3                    131    21300.0           10300.0    10400.0   \n",
       "4                    175     5500.0           24300.0    24500.0   \n",
       "\n",
       "                                                Text  \n",
       "0  On August 23rd my son was shot multiple times ...  \n",
       "1  \\r\\nThe Navajo Nation COVID-19 Fund has been e...  \n",
       "2  On Sunday, April 12, Sylvia Leroy, a pregnant ...  \n",
       "3  First, thank you for being here. Tommy Rivers ...  \n",
       "4  My name is Melissa Green and I am the mother o...  "
      ]
     },
     "execution_count": 5,
     "metadata": {},
     "output_type": "execute_result"
    }
   ],
   "source": [
    "df.head()"
   ]
  },
  {
   "cell_type": "markdown",
   "metadata": {},
   "source": [
    "# Exploration"
   ]
  },
  {
   "cell_type": "code",
   "execution_count": 6,
   "metadata": {},
   "outputs": [
    {
     "data": {
      "text/plain": [
       "<matplotlib.axes._subplots.AxesSubplot at 0x1c3f6d28d48>"
      ]
     },
     "execution_count": 6,
     "metadata": {},
     "output_type": "execute_result"
    },
    {
     "data": {
      "image/png": "[encoded data removed]",
      "text/plain": [
       "<Figure size 432x288 with 1 Axes>"
      ]
     },
     "metadata": {
      "needs_background": "light"
     },
     "output_type": "display_data"
    }
   ],
   "source": [
    "df['Category'].value_counts().plot(kind='barh')"
   ]
  },
  {
   "cell_type": "code",
   "execution_count": 7,
   "metadata": {},
   "outputs": [],
   "source": [
    "grouped_df = df.groupby('Category')[['Amount_Raised','Goal','Number_of_Donations', 'Length_of_Fundraising', 'FB_Shares', 'Number_of_Donors', 'Followers']].mean()"
   ]
  },
  {
   "cell_type": "code",
   "execution_count": 8,
   "metadata": {},
   "outputs": [
    {
     "data": {
      "text/plain": [
       "Text(0.5, 1.0, 'Avg Amount Raised per Category')"
      ]
     },
     "execution_count": 8,
     "metadata": {},
     "output_type": "execute_result"
    },
    {
     "data": {
      "image/png": "[encoded data removed]",
      "text/plain": [
       "<Figure size 432x288 with 1 Axes>"
      ]
     },
     "metadata": {
      "needs_background": "light"
     },
     "output_type": "display_data"
    }
   ],
   "source": [
    "grouped_df['Amount_Raised'].sort_values().plot(kind = 'barh')\n",
    "plt.title('Avg Amount Raised per Category')"
   ]
  },
  {
   "cell_type": "code",
   "execution_count": 9,
   "metadata": {},
   "outputs": [
    {
     "data": {
      "text/plain": [
       "count    8.360000e+02\n",
       "mean     1.158010e+05\n",
       "std      3.220597e+05\n",
       "min      6.370000e+02\n",
       "25%      1.953400e+04\n",
       "50%      5.287100e+04\n",
       "75%      1.234118e+05\n",
       "max      6.750030e+06\n",
       "Name: Amount_Raised, dtype: float64"
      ]
     },
     "execution_count": 9,
     "metadata": {},
     "output_type": "execute_result"
    }
   ],
   "source": [
    "df['Amount_Raised'].describe()"
   ]
  },
  {
   "cell_type": "code",
   "execution_count": 10,
   "metadata": {},
   "outputs": [],
   "source": [
    "df['Reach Goal?'] = df['Amount_Raised'] < df['Goal']"
   ]
  },
  {
   "cell_type": "code",
   "execution_count": 11,
   "metadata": {},
   "outputs": [
    {
     "data": {
      "text/plain": [
       "<matplotlib.axes._subplots.AxesSubplot at 0x1c3fd129d08>"
      ]
     },
     "execution_count": 11,
     "metadata": {},
     "output_type": "execute_result"
    },
    {
     "data": {
      "image/png": "[encoded data removed]",
      "text/plain": [
       "<Figure size 432x288 with 1 Axes>"
      ]
     },
     "metadata": {},
     "output_type": "display_data"
    }
   ],
   "source": [
    "df['Reach Goal?'].value_counts().plot.pie()"
   ]
  },
  {
   "cell_type": "code",
   "execution_count": 12,
   "metadata": {},
   "outputs": [
    {
     "data": {
      "text/plain": [
       "count    8.360000e+02\n",
       "mean     1.542914e+05\n",
       "std      3.028832e+05\n",
       "min      1.000000e+00\n",
       "25%      2.000000e+04\n",
       "50%      7.500000e+04\n",
       "75%      1.500000e+05\n",
       "max      3.000000e+06\n",
       "Name: Goal, dtype: float64"
      ]
     },
     "execution_count": 12,
     "metadata": {},
     "output_type": "execute_result"
    }
   ],
   "source": [
    "df['Goal'].describe()"
   ]
  },
  {
   "cell_type": "markdown",
   "metadata": {},
   "source": [
    "## Visualizations on Category"
   ]
  },
  {
   "cell_type": "code",
   "execution_count": 13,
   "metadata": {},
   "outputs": [
    {
     "data": {
      "text/plain": [
       "Text(0.5, 1.0, 'Goal per Category')"
      ]
     },
     "execution_count": 13,
     "metadata": {},
     "output_type": "execute_result"
    },
    {
     "data": {
      "image/png": "[encoded data removed]",
      "text/plain": [
       "<Figure size 432x288 with 1 Axes>"
      ]
     },
     "metadata": {
      "needs_background": "light"
     },
     "output_type": "display_data"
    }
   ],
   "source": [
    "grouped_df['Goal'].sort_values().plot(kind = 'barh')\n",
    "plt.title('Goal per Category')"
   ]
  },
  {
   "cell_type": "code",
   "execution_count": 14,
   "metadata": {},
   "outputs": [
    {
     "data": {
      "text/plain": [
       "Text(0.5, 1.0, 'FB Shares per Category')"
      ]
     },
     "execution_count": 14,
     "metadata": {},
     "output_type": "execute_result"
    },
    {
     "data": {
      "image/png": "[encoded data removed]",
      "text/plain": [
       "<Figure size 432x288 with 1 Axes>"
      ]
     },
     "metadata": {
      "needs_background": "light"
     },
     "output_type": "display_data"
    }
   ],
   "source": [
    "grouped_df['FB_Shares'].sort_values().plot(kind = 'barh')\n",
    "plt.title('FB Shares per Category')"
   ]
  },
  {
   "cell_type": "code",
   "execution_count": 15,
   "metadata": {},
   "outputs": [
    {
     "data": {
      "text/plain": [
       "Text(0.5, 1.0, 'Followers per Category')"
      ]
     },
     "execution_count": 15,
     "metadata": {},
     "output_type": "execute_result"
    },
    {
     "data": {
      "image/png": "[encoded data removed]",
      "text/plain": [
       "<Figure size 432x288 with 1 Axes>"
      ]
     },
     "metadata": {
      "needs_background": "light"
     },
     "output_type": "display_data"
    }
   ],
   "source": [
    "grouped_df['Followers'].sort_values().plot(kind = 'barh')\n",
    "plt.title('Followers per Category')"
   ]
  },
  {
   "cell_type": "markdown",
   "metadata": {},
   "source": [
    "## Visualizations on Amount_Raised"
   ]
  },
  {
   "cell_type": "code",
   "execution_count": 16,
   "metadata": {},
   "outputs": [
    {
     "data": {
      "text/plain": [
       "<matplotlib.axes._subplots.AxesSubplot at 0x1c3fd3478c8>"
      ]
     },
     "execution_count": 16,
     "metadata": {},
     "output_type": "execute_result"
    },
    {
     "data": {
      "image/png": "[encoded data removed]",
      "text/plain": [
       "<Figure size 432x288 with 1 Axes>"
      ]
     },
     "metadata": {
      "needs_background": "light"
     },
     "output_type": "display_data"
    }
   ],
   "source": [
    "df.plot(kind='scatter', x ='Number_of_Donations', y = 'Amount_Raised')"
   ]
  },
  {
   "cell_type": "code",
   "execution_count": 17,
   "metadata": {},
   "outputs": [
    {
     "data": {
      "text/plain": [
       "<matplotlib.axes._subplots.AxesSubplot at 0x1c3fd3a25c8>"
      ]
     },
     "execution_count": 17,
     "metadata": {},
     "output_type": "execute_result"
    },
    {
     "data": {
      "image/png": "[encoded data removed]",
      "text/plain": [
       "<Figure size 432x288 with 1 Axes>"
      ]
     },
     "metadata": {
      "needs_background": "light"
     },
     "output_type": "display_data"
    }
   ],
   "source": [
    "df.plot(kind='scatter', x='FB_Shares', y='Amount_Raised')"
   ]
  },
  {
   "cell_type": "code",
   "execution_count": 18,
   "metadata": {},
   "outputs": [
    {
     "data": {
      "text/plain": [
       "<matplotlib.axes._subplots.AxesSubplot at 0x1c3fd42f048>"
      ]
     },
     "execution_count": 18,
     "metadata": {},
     "output_type": "execute_result"
    },
    {
     "data": {
      "image/png": "[encoded data removed]",
      "text/plain": [
       "<Figure size 432x288 with 1 Axes>"
      ]
     },
     "metadata": {
      "needs_background": "light"
     },
     "output_type": "display_data"
    }
   ],
   "source": [
    "df.plot(kind='scatter', x='Goal', y='Amount_Raised')"
   ]
  },
  {
   "cell_type": "code",
   "execution_count": 19,
   "metadata": {},
   "outputs": [
    {
     "data": {
      "text/plain": [
       "<matplotlib.axes._subplots.AxesSubplot at 0x1c3fd470108>"
      ]
     },
     "execution_count": 19,
     "metadata": {},
     "output_type": "execute_result"
    },
    {
     "data": {
      "image/png": "[encoded data removed]",
      "text/plain": [
       "<Figure size 432x288 with 1 Axes>"
      ]
     },
     "metadata": {
      "needs_background": "light"
     },
     "output_type": "display_data"
    }
   ],
   "source": [
    "df['Length_of_Fundraising'].round(-1).value_counts().sort_index().plot(kind='barh')"
   ]
  },
  {
   "cell_type": "markdown",
   "metadata": {},
   "source": [
    "# Geopandas "
   ]
  },
  {
   "cell_type": "code",
   "execution_count": 21,
   "metadata": {},
   "outputs": [
    {
     "ename": "ModuleNotFoundError",
     "evalue": "No module named 'arcgis'",
     "output_type": "error",
     "traceback": [
      "\u001b[1;31m---------------------------------------------------------------------------\u001b[0m",
      "\u001b[1;31mModuleNotFoundError\u001b[0m                       Traceback (most recent call last)",
      "\u001b[1;32m<ipython-input-21-65c01abd18e3>\u001b[0m in \u001b[0;36m<module>\u001b[1;34m\u001b[0m\n\u001b[0;32m      1\u001b[0m \u001b[1;32mfrom\u001b[0m \u001b[0mshapely\u001b[0m\u001b[1;33m.\u001b[0m\u001b[0mgeometry\u001b[0m \u001b[1;32mimport\u001b[0m \u001b[0mPoint\u001b[0m\u001b[1;33m\u001b[0m\u001b[1;33m\u001b[0m\u001b[0m\n\u001b[1;32m----> 2\u001b[1;33m \u001b[1;32mfrom\u001b[0m \u001b[0marcgis\u001b[0m\u001b[1;33m.\u001b[0m\u001b[0mgis\u001b[0m \u001b[1;32mimport\u001b[0m \u001b[0mGIS\u001b[0m\u001b[1;33m\u001b[0m\u001b[1;33m\u001b[0m\u001b[0m\n\u001b[0m\u001b[0;32m      3\u001b[0m \u001b[1;32mfrom\u001b[0m \u001b[0marcgis\u001b[0m\u001b[1;33m.\u001b[0m\u001b[0mgeocoding\u001b[0m \u001b[1;32mimport\u001b[0m \u001b[0mGeocoder\u001b[0m\u001b[1;33m,\u001b[0m \u001b[0mget_geocoders\u001b[0m\u001b[1;33m,\u001b[0m \u001b[0mgeocode\u001b[0m\u001b[1;33m\u001b[0m\u001b[1;33m\u001b[0m\u001b[0m\n\u001b[0;32m      4\u001b[0m \u001b[1;32mfrom\u001b[0m \u001b[0mgeopy\u001b[0m\u001b[1;33m.\u001b[0m\u001b[0mextra\u001b[0m\u001b[1;33m.\u001b[0m\u001b[0mrate_limiter\u001b[0m \u001b[1;32mimport\u001b[0m \u001b[0mRateLimiter\u001b[0m\u001b[1;33m\u001b[0m\u001b[1;33m\u001b[0m\u001b[0m\n\u001b[0;32m      5\u001b[0m \u001b[1;32mfrom\u001b[0m \u001b[0mgeopy\u001b[0m\u001b[1;33m.\u001b[0m\u001b[0mgeocoders\u001b[0m \u001b[1;32mimport\u001b[0m \u001b[0mNominatim\u001b[0m\u001b[1;33m\u001b[0m\u001b[1;33m\u001b[0m\u001b[0m\n",
      "\u001b[1;31mModuleNotFoundError\u001b[0m: No module named 'arcgis'"
     ]
    }
   ],
   "source": [
    "from shapely.geometry import Point\n",
    "from arcgis.gis import GIS\n",
    "from arcgis.geocoding import Geocoder, get_geocoders, geocode\n",
    "from geopy.extra.rate_limiter import RateLimiter\n",
    "from geopy.geocoders import Nominatim"
   ]
  },
  {
   "cell_type": "code",
   "execution_count": null,
   "metadata": {},
   "outputs": [],
   "source": [
    "locator = Nominatim(user_agent=\"myGeocoder\")\n",
    "#geolocator = Nominatim(user_agent=\"specify_your_app_name_here\")\n",
    "#geocode = RateLimiter(geolocator.geocode, min_delay_seconds=1)\n",
    "\n",
    "# 1 - convenient function to delay between geocoding calls\n",
    "geocode = RateLimiter(locator.geocode, min_delay_seconds=1)\n",
    "# 2- - create location column\n",
    "df = df.assign(address = df['Location'].apply(geocode))\n",
    "# 3 - create longitude, latitude and altitude from location column (returns tuple)\n",
    "df = df.assign(point = df['address'].apply(lambda loc: tuple(loc.point) if loc else None))\n",
    "df.head()"
   ]
  },
  {
   "cell_type": "code",
   "execution_count": null,
   "metadata": {},
   "outputs": [],
   "source": [
    "df['Latitude'] = df['point'].dropna().apply(lambda x: x[0])\n",
    "df['Longitude'] = df['point'].dropna().apply(lambda x: x[1])"
   ]
  },
  {
   "cell_type": "code",
   "execution_count": null,
   "metadata": {},
   "outputs": [],
   "source": [
    "df['geometry'] = df.apply(lambda x:Point(x['Longitude'], x['Latitude']) ,axis = 1)\n",
    "gdf = gpd.GeoDataFrame(df, geometry = 'geometry')"
   ]
  },
  {
   "cell_type": "code",
   "execution_count": null,
   "metadata": {},
   "outputs": [],
   "source": [
    "world = gpd.read_file(gpd.datasets.get_path('naturalearth_lowres'))\n",
    "us = world[world['name'] == 'United States of America']"
   ]
  },
  {
   "cell_type": "code",
   "execution_count": null,
   "metadata": {},
   "outputs": [],
   "source": [
    "base = world.plot(figsize = (20,20))\n",
    "## creating scales\n",
    "x_max = gdf['Amount_Raised'].max()\n",
    "x_min = gdf['Amount_Raised'].min()\n",
    "max_size = 2000\n",
    "min_size = 2\n",
    "## adding circles\n",
    "gdf.plot(ax=base, marker='o', color='black', markersize=min_size + (max_size-min_size)*(gdf['Amount_Raised']/x_max));\n",
    "plt.title('Amount Raised per Fundraiser')\n"
   ]
  },
  {
   "cell_type": "code",
   "execution_count": null,
   "metadata": {},
   "outputs": [],
   "source": [
    "us_points = gdf[gdf['geometry'].apply(lambda x: x.within(us.geometry[4]))]"
   ]
  },
  {
   "cell_type": "code",
   "execution_count": null,
   "metadata": {},
   "outputs": [],
   "source": [
    "base = us.plot(figsize = (20,20))\n",
    "## creating scales\n",
    "x_max = us_points['Amount_Raised'].max()\n",
    "x_min = us_points['Amount_Raised'].min()\n",
    "max_size = 2000\n",
    "min_size = 2\n",
    "us_points.plot(ax=base, marker='o', color='black', markersize=min_size + (max_size-min_size)*(us_points['Amount_Raised']/x_max));\n",
    "plt.title('Amount Raised per Fundraiser')\n"
   ]
  },
  {
   "cell_type": "code",
   "execution_count": null,
   "metadata": {
    "scrolled": true
   },
   "outputs": [],
   "source": [
    "df[df['Location'].apply(lambda x: 'TX' in x)]\n",
    "#maximum.plot(ax = base, color='black', markersize=min_size + (max_size-min_size)*(us_points['Amount_Raised']/x_max));"
   ]
  },
  {
   "cell_type": "code",
   "execution_count": 23,
   "metadata": {},
   "outputs": [
    {
     "data": {
      "text/plain": [
       "'On August 23rd my son was shot multiple times in the back by a Kenosha Police Department officer, after my son broke up an altercation by an unrelated party. The shooting has now left my son critically injured as he fights for his life. The extent of my son’s injuries is unknown, but we remain prayerful as he continues to undergo multiple rounds of operations to save his life.\\r\\n\\r\\nThis fund is established to cover my son’s medical expenses, mental and grief counseling for our family and to assist our family in the days to come, as we continue to seek justice for Jacob.  A portion of these proceeds will also be used to benefit my son’s six children, some of whom witnessed this horrific act of violence.\\r\\n\\r\\nAnyone wishing to send cards, letters of encouragement  and/or contributions in the form of a money order or check, may do so by mail at:\\r\\n \\r\\nJulia Y. Jackson\\r\\nc/o Ben Crump Law, PLLC\\r\\n122 S. Calhoun Street\\r\\nTallahassee, FL 32301\\r\\nAttn: Adner Marcelin\\r\\n '"
      ]
     },
     "execution_count": 23,
     "metadata": {},
     "output_type": "execute_result"
    }
   ],
   "source": [
    "df['Text'][0]"
   ]
  },
  {
   "cell_type": "code",
   "execution_count": null,
   "metadata": {},
   "outputs": [],
   "source": []
  }
 ],
 "metadata": {
  "kernelspec": {
   "display_name": "Python 3",
   "language": "python",
   "name": "python3"
  },
  "language_info": {
   "codemirror_mode": {
    "name": "ipython",
    "version": 3
   },
   "file_extension": ".py",
   "mimetype": "text/x-python",
   "name": "python",
   "nbconvert_exporter": "python",
   "pygments_lexer": "ipython3",
   "version": "3.7.4"
  }
 },
 "nbformat": 4,
 "nbformat_minor": 2
}
